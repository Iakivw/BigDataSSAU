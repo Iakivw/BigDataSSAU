{
  "nbformat": 4,
  "nbformat_minor": 0,
  "metadata": {
    "colab": {
      "provenance": []
    },
    "kernelspec": {
      "name": "python3",
      "display_name": "Python 3"
    }
  },
  "cells": [
    {
      "cell_type": "markdown",
      "metadata": {
        "id": "82OvPKEiEqjc"
      },
      "source": [
        "# Введение в MapReduce модель на Python\n"
      ]
    },
    {
      "cell_type": "code",
      "metadata": {
        "id": "JQ2cvXLjICmI"
      },
      "source": [
        "from typing import NamedTuple # requires python 3.6+\n",
        "from typing import Iterator"
      ],
      "execution_count": null,
      "outputs": []
    },
    {
      "cell_type": "code",
      "metadata": {
        "id": "yjPHumVwEyEg"
      },
      "source": [
        "def MAP(_, row:NamedTuple):\n",
        "  if (row.gender == 'female'):\n",
        "    yield (row.age, row)\n",
        "\n",
        "def REDUCE(age:str, rows:Iterator[NamedTuple]):\n",
        "  sum = 0\n",
        "  count = 0\n",
        "  for row in rows:\n",
        "    sum += row.social_contacts\n",
        "    count += 1\n",
        "  if (count > 0):\n",
        "    yield (age, sum/count)\n",
        "  else:\n",
        "    yield (age, 0)"
      ],
      "execution_count": null,
      "outputs": []
    },
    {
      "cell_type": "markdown",
      "metadata": {
        "id": "vBKMgpG_ilaZ"
      },
      "source": [
        "Модель элемента данных"
      ]
    },
    {
      "cell_type": "code",
      "metadata": {
        "id": "Rv-XIjhTJPx3"
      },
      "source": [
        "class User(NamedTuple):\n",
        "  id: int\n",
        "  age: str\n",
        "  social_contacts: int\n",
        "  gender: str"
      ],
      "execution_count": null,
      "outputs": []
    },
    {
      "cell_type": "code",
      "metadata": {
        "id": "5KV0Ze2vQgu5"
      },
      "source": [
        "input_collection = [\n",
        "    User(id=0, age=55, gender='male', social_contacts=20),\n",
        "    User(id=1, age=25, gender='female', social_contacts=240),\n",
        "    User(id=2, age=25, gender='female', social_contacts=500),\n",
        "    User(id=3, age=33, gender='female', social_contacts=800)\n",
        "]"
      ],
      "execution_count": null,
      "outputs": []
    },
    {
      "cell_type": "markdown",
      "metadata": {
        "id": "YFeqzyZxZIFZ"
      },
      "source": [
        "Функция RECORDREADER моделирует чтение элементов с диска или по сети."
      ]
    },
    {
      "cell_type": "code",
      "metadata": {
        "id": "S5HR4E_GQoMJ"
      },
      "source": [
        "def RECORDREADER():\n",
        "  return [(u.id, u) for u in input_collection]"
      ],
      "execution_count": null,
      "outputs": []
    },
    {
      "cell_type": "code",
      "metadata": {
        "id": "NeEoWla-ROUy",
        "colab": {
          "base_uri": "https://localhost:8080/"
        },
        "outputId": "387e893c-9d2d-4531-9dd6-15abeff2a815"
      },
      "source": [
        "list(RECORDREADER())"
      ],
      "execution_count": null,
      "outputs": [
        {
          "output_type": "execute_result",
          "data": {
            "text/plain": [
              "[(0, User(id=0, age=55, social_contacts=20, gender='male')),\n",
              " (1, User(id=1, age=25, social_contacts=240, gender='female')),\n",
              " (2, User(id=2, age=25, social_contacts=500, gender='female')),\n",
              " (3, User(id=3, age=33, social_contacts=800, gender='female'))]"
            ]
          },
          "metadata": {},
          "execution_count": 6
        }
      ]
    },
    {
      "cell_type": "code",
      "metadata": {
        "id": "YB8orgPSZs8M"
      },
      "source": [
        "def flatten(nested_iterable):\n",
        "  for iterable in nested_iterable:\n",
        "    for element in iterable:\n",
        "      yield element"
      ],
      "execution_count": null,
      "outputs": []
    },
    {
      "cell_type": "code",
      "metadata": {
        "id": "74oyvDLaRmd5",
        "colab": {
          "base_uri": "https://localhost:8080/"
        },
        "outputId": "d7f56db0-371d-422a-c7db-f93cec6f8d4d"
      },
      "source": [
        "map_output = flatten(map(lambda x: MAP(*x), RECORDREADER()))\n",
        "map_output = list(map_output) # materialize\n",
        "map_output"
      ],
      "execution_count": null,
      "outputs": [
        {
          "output_type": "execute_result",
          "data": {
            "text/plain": [
              "[(25, User(id=1, age=25, social_contacts=240, gender='female')),\n",
              " (25, User(id=2, age=25, social_contacts=500, gender='female')),\n",
              " (33, User(id=3, age=33, social_contacts=800, gender='female'))]"
            ]
          },
          "metadata": {},
          "execution_count": 8
        }
      ]
    },
    {
      "cell_type": "code",
      "metadata": {
        "id": "8ncYDJ3-VzDn"
      },
      "source": [
        "def groupbykey(iterable):\n",
        "  t = {}\n",
        "  for (k2, v2) in iterable:\n",
        "    t[k2] = t.get(k2, []) + [v2]\n",
        "  return t.items()"
      ],
      "execution_count": null,
      "outputs": []
    },
    {
      "cell_type": "code",
      "metadata": {
        "id": "cKzY_6COWOA2",
        "colab": {
          "base_uri": "https://localhost:8080/"
        },
        "outputId": "c431aebc-3846-409c-ad03-d3a17f9b7ff3"
      },
      "source": [
        "shuffle_output = groupbykey(map_output)\n",
        "shuffle_output = list(shuffle_output)\n",
        "shuffle_output"
      ],
      "execution_count": null,
      "outputs": [
        {
          "output_type": "execute_result",
          "data": {
            "text/plain": [
              "[(25,\n",
              "  [User(id=1, age=25, social_contacts=240, gender='female'),\n",
              "   User(id=2, age=25, social_contacts=500, gender='female')]),\n",
              " (33, [User(id=3, age=33, social_contacts=800, gender='female')])]"
            ]
          },
          "metadata": {},
          "execution_count": 10
        }
      ]
    },
    {
      "cell_type": "code",
      "metadata": {
        "id": "NlA7lkDDYL0t",
        "colab": {
          "base_uri": "https://localhost:8080/"
        },
        "outputId": "cf849e18-5e3a-4f3e-b0c2-9686d996dbfb"
      },
      "source": [
        "reduce_output = flatten(map(lambda x: REDUCE(*x), shuffle_output))\n",
        "reduce_output = list(reduce_output)\n",
        "reduce_output"
      ],
      "execution_count": null,
      "outputs": [
        {
          "output_type": "execute_result",
          "data": {
            "text/plain": [
              "[(25, 370.0), (33, 800.0)]"
            ]
          },
          "metadata": {},
          "execution_count": 11
        }
      ]
    },
    {
      "cell_type": "markdown",
      "metadata": {
        "id": "xf6qhHEtd6bI"
      },
      "source": [
        "Все действия одним конвейером!"
      ]
    },
    {
      "cell_type": "code",
      "metadata": {
        "id": "dZaQGYxCdpw5",
        "colab": {
          "base_uri": "https://localhost:8080/"
        },
        "outputId": "2712263c-3778-44e1-c9cb-95eb449d90d4"
      },
      "source": [
        "list(flatten(map(lambda x: REDUCE(*x), groupbykey(flatten(map(lambda x: MAP(*x), RECORDREADER()))))))"
      ],
      "execution_count": null,
      "outputs": [
        {
          "output_type": "execute_result",
          "data": {
            "text/plain": [
              "[(25, 370.0), (33, 800.0)]"
            ]
          },
          "metadata": {},
          "execution_count": 12
        }
      ]
    },
    {
      "cell_type": "markdown",
      "metadata": {
        "id": "Vq3EWRIpwSiJ"
      },
      "source": [
        "# **MapReduce**\n",
        "Выделим общую для всех пользователей часть системы в отдельную функцию высшего порядка. Это наиболее простая модель MapReduce, без учёта распределённого хранения данных.\n",
        "\n",
        "Пользователь для решения своей задачи реализует RECORDREADER, MAP, REDUCE."
      ]
    },
    {
      "cell_type": "code",
      "metadata": {
        "id": "V1PZeQMwwVjc"
      },
      "source": [
        "def flatten(nested_iterable):\n",
        "  for iterable in nested_iterable:\n",
        "    for element in iterable:\n",
        "      yield element\n",
        "\n",
        "def groupbykey(iterable):\n",
        "  t = {}\n",
        "  for (k2, v2) in iterable:\n",
        "    t[k2] = t.get(k2, []) + [v2]\n",
        "  return t.items()\n",
        "\n",
        "def MapReduce(RECORDREADER, MAP, REDUCE):\n",
        "  return flatten(map(lambda x: REDUCE(*x), groupbykey(flatten(map(lambda x: MAP(*x), RECORDREADER())))))"
      ],
      "execution_count": null,
      "outputs": []
    },
    {
      "cell_type": "markdown",
      "metadata": {
        "id": "iFIVrimep678"
      },
      "source": [
        "## Спецификация MapReduce\n",
        "\n",
        "\n",
        "\n",
        "```\n",
        "f (k1, v1) -> (k2,v2)*\n",
        "g (k2, v2*) -> (k3,v3)*\n",
        "\n",
        "mapreduce ((k1,v1)*) -> (k3,v3)*\n",
        "groupby ((k2,v2)*) -> (k2,v2*)*\n",
        "flatten (e2**) -> e2*\n",
        "\n",
        "mapreduce .map(f).flatten.groupby(k2).map(g).flatten\n",
        "```\n",
        "\n",
        "\n"
      ]
    },
    {
      "cell_type": "markdown",
      "metadata": {
        "id": "QtTFyqke3KGe"
      },
      "source": [
        "# Примеры"
      ]
    },
    {
      "cell_type": "markdown",
      "metadata": {
        "id": "BNhh5763w5Vn"
      },
      "source": [
        "## SQL"
      ]
    },
    {
      "cell_type": "code",
      "metadata": {
        "id": "QkyurnvGxBGk",
        "colab": {
          "base_uri": "https://localhost:8080/",
          "height": 34
        },
        "outputId": "84761282-d2ba-435a-e8d7-a85150730e10"
      },
      "source": [
        "from typing import NamedTuple # requires python 3.6+\n",
        "from typing import Iterator\n",
        "\n",
        "class User(NamedTuple):\n",
        "  id: int\n",
        "  age: str\n",
        "  social_contacts: int\n",
        "  gender: str\n",
        "\n",
        "input_collection = [\n",
        "    User(id=0, age=55, gender='male', social_contacts=20),\n",
        "    User(id=1, age=25, gender='female', social_contacts=240),\n",
        "    User(id=2, age=25, gender='female', social_contacts=500),\n",
        "    User(id=3, age=33, gender='female', social_contacts=800)\n",
        "]\n",
        "\n",
        "def MAP(_, row:NamedTuple):\n",
        "  if (row.gender == 'female'):\n",
        "    yield (row.age, row)\n",
        "\n",
        "def REDUCE(age:str, rows:Iterator[NamedTuple]):\n",
        "  sum = 0\n",
        "  count = 0\n",
        "  for row in rows:\n",
        "    sum += row.social_contacts\n",
        "    count += 1\n",
        "  if (count > 0):\n",
        "    yield (age, sum/count)\n",
        "  else:\n",
        "    yield (age, 0)\n",
        "\n",
        "def RECORDREADER():\n",
        "  return [(u.id, u) for u in input_collection]\n",
        "\n",
        "output = MapReduce(RECORDREADER, MAP, REDUCE)\n",
        "output = list(output)\n",
        "output"
      ],
      "execution_count": null,
      "outputs": [
        {
          "output_type": "execute_result",
          "data": {
            "text/plain": [
              "[(25, 370.0), (33, 800.0)]"
            ]
          },
          "metadata": {
            "tags": []
          },
          "execution_count": 28
        }
      ]
    },
    {
      "cell_type": "markdown",
      "metadata": {
        "id": "kNKYIeerx0nY"
      },
      "source": [
        "## Matrix-Vector multiplication"
      ]
    },
    {
      "cell_type": "code",
      "metadata": {
        "id": "rwcntRcCyi1V",
        "colab": {
          "base_uri": "https://localhost:8080/",
          "height": 102
        },
        "outputId": "606737ab-6b55-455c-931f-4fc45155f8a9"
      },
      "source": [
        "from typing import Iterator\n",
        "import numpy as np\n",
        "\n",
        "mat = np.ones((5,4))\n",
        "vec = np.random.rand(4) # in-memory vector in all map tasks\n",
        "\n",
        "def MAP(coordinates:(int, int), value:int):\n",
        "  i, j = coordinates\n",
        "  yield (i, value*vec[j])\n",
        "\n",
        "def REDUCE(i:int, products:Iterator[NamedTuple]):\n",
        "  sum = 0\n",
        "  for p in products:\n",
        "    sum += p\n",
        "  yield (i, sum)\n",
        "\n",
        "def RECORDREADER():\n",
        "  for i in range(mat.shape[0]):\n",
        "    for j in range(mat.shape[1]):\n",
        "      yield ((i, j), mat[i,j])\n",
        "\n",
        "output = MapReduce(RECORDREADER, MAP, REDUCE)\n",
        "output = list(output)\n",
        "output"
      ],
      "execution_count": null,
      "outputs": [
        {
          "output_type": "execute_result",
          "data": {
            "text/plain": [
              "[(0, 2.905589809636405),\n",
              " (1, 2.905589809636405),\n",
              " (2, 2.905589809636405),\n",
              " (3, 2.905589809636405),\n",
              " (4, 2.905589809636405)]"
            ]
          },
          "metadata": {
            "tags": []
          },
          "execution_count": 29
        }
      ]
    },
    {
      "cell_type": "markdown",
      "metadata": {
        "id": "ruZREYdi2o4O"
      },
      "source": [
        "## Inverted index"
      ]
    },
    {
      "cell_type": "code",
      "metadata": {
        "id": "vt9H9Alf3TYv",
        "colab": {
          "base_uri": "https://localhost:8080/",
          "height": 102
        },
        "outputId": "51aeffc9-e111-4607-bd84-cfcc7b56f238"
      },
      "source": [
        "from typing import Iterator\n",
        "\n",
        "d1 = \"it is what it is\"\n",
        "d2 = \"what is it\"\n",
        "d3 = \"it is a banana\"\n",
        "documents = [d1, d2, d3]\n",
        "\n",
        "def RECORDREADER():\n",
        "  for (docid, document) in enumerate(documents):\n",
        "    yield (\"{}\".format(docid), document)\n",
        "\n",
        "def MAP(docId:str, body:str):\n",
        "  for word in set(body.split(' ')):\n",
        "    yield (word, docId)\n",
        "\n",
        "def REDUCE(word:str, docIds:Iterator[str]):\n",
        "  yield (word, sorted(docIds))\n",
        "\n",
        "output = MapReduce(RECORDREADER, MAP, REDUCE)\n",
        "output = list(output)\n",
        "output"
      ],
      "execution_count": null,
      "outputs": [
        {
          "output_type": "execute_result",
          "data": {
            "text/plain": [
              "[('what', ['0', '1']),\n",
              " ('is', ['0', '1', '2']),\n",
              " ('it', ['0', '1', '2']),\n",
              " ('a', ['2']),\n",
              " ('banana', ['2'])]"
            ]
          },
          "metadata": {
            "tags": []
          },
          "execution_count": 30
        }
      ]
    },
    {
      "cell_type": "markdown",
      "metadata": {
        "id": "R7az-6DA6qr2"
      },
      "source": [
        "## WordCount"
      ]
    },
    {
      "cell_type": "code",
      "metadata": {
        "id": "dN-nbtgG6uYG",
        "colab": {
          "base_uri": "https://localhost:8080/",
          "height": 34
        },
        "outputId": "24117576-7931-401d-a581-28e246b23453"
      },
      "source": [
        "from typing import Iterator\n",
        "\n",
        "d1 = \"\"\"\n",
        "it is what it is\n",
        "it is what it is\n",
        "it is what it is\"\"\"\n",
        "d2 = \"\"\"\n",
        "what is it\n",
        "what is it\"\"\"\n",
        "d3 = \"\"\"\n",
        "it is a banana\"\"\"\n",
        "documents = [d1, d2, d3]\n",
        "\n",
        "def RECORDREADER():\n",
        "  for (docid, document) in enumerate(documents):\n",
        "    for (lineid, line) in enumerate(document.split('\\n')):\n",
        "      yield (\"{}:{}\".format(docid,lineid), line)\n",
        "\n",
        "def MAP(docId:str, line:str):\n",
        "  for word in line.split(\" \"):\n",
        "    yield (word, 1)\n",
        "\n",
        "def REDUCE(word:str, counts:Iterator[int]):\n",
        "  sum = 0\n",
        "  for c in counts:\n",
        "    sum += c\n",
        "  yield (word, sum)\n",
        "\n",
        "output = MapReduce(RECORDREADER, MAP, REDUCE)\n",
        "output = list(output)\n",
        "output"
      ],
      "execution_count": null,
      "outputs": [
        {
          "output_type": "execute_result",
          "data": {
            "text/plain": [
              "[('', 3), ('it', 9), ('is', 9), ('what', 5), ('a', 1), ('banana', 1)]"
            ]
          },
          "metadata": {
            "tags": []
          },
          "execution_count": 31
        }
      ]
    },
    {
      "cell_type": "markdown",
      "metadata": {
        "id": "h-jRAcYCAkkk"
      },
      "source": [
        "# MapReduce Distributed\n",
        "\n",
        "Добавляется в модель фабрика RECORDREARER-ов --- INPUTFORMAT, функция распределения промежуточных результатов по партициям PARTITIONER, и функция COMBINER для частичной аггрегации промежуточных результатов до распределения по новым партициям."
      ]
    },
    {
      "cell_type": "code",
      "metadata": {
        "id": "nw-b-xJsApgW"
      },
      "source": [
        "def flatten(nested_iterable):\n",
        "  for iterable in nested_iterable:\n",
        "    for element in iterable:\n",
        "      yield element\n",
        "\n",
        "def groupbykey(iterable):\n",
        "  t = {}\n",
        "  for (k2, v2) in iterable:\n",
        "    t[k2] = t.get(k2, []) + [v2]\n",
        "  return t.items()\n",
        "\n",
        "def groupbykey_distributed(map_partitions, PARTITIONER):\n",
        "  global reducers\n",
        "  partitions = [dict() for _ in range(reducers)]\n",
        "  for map_partition in map_partitions:\n",
        "    for (k2, v2) in map_partition:\n",
        "      p = partitions[PARTITIONER(k2)]\n",
        "      p[k2] = p.get(k2, []) + [v2]\n",
        "  return [(partition_id, sorted(partition.items(), key=lambda x: x[0])) for (partition_id, partition) in enumerate(partitions)]\n",
        "\n",
        "def PARTITIONER(obj):\n",
        "  global reducers\n",
        "  return hash(obj) % reducers\n",
        "\n",
        "def MapReduceDistributed(INPUTFORMAT, MAP, REDUCE, PARTITIONER=PARTITIONER, COMBINER=None):\n",
        "  map_partitions = map(lambda record_reader: flatten(map(lambda k1v1: MAP(*k1v1), record_reader)), INPUTFORMAT())\n",
        "  if COMBINER != None:\n",
        "    map_partitions = map(lambda map_partition: flatten(map(lambda k2v2: COMBINER(*k2v2), groupbykey(map_partition))), map_partitions)\n",
        "  reduce_partitions = groupbykey_distributed(map_partitions, PARTITIONER) # shuffle\n",
        "  reduce_outputs = map(lambda reduce_partition: (reduce_partition[0], flatten(map(lambda reduce_input_group: REDUCE(*reduce_input_group), reduce_partition[1]))), reduce_partitions)\n",
        "\n",
        "  print(\"{} key-value pairs were sent over a network.\".format(sum([len(vs) for (k,vs) in flatten([partition for (partition_id, partition) in reduce_partitions])])))\n",
        "  return reduce_outputs"
      ],
      "execution_count": null,
      "outputs": []
    },
    {
      "cell_type": "markdown",
      "metadata": {
        "id": "kxirlf3XqZxY"
      },
      "source": [
        "## Спецификация MapReduce Distributed\n",
        "\n",
        "\n",
        "```\n",
        "f (k1, v1) -> (k2,v2)*\n",
        "g (k2, v2*) -> (k3,v3)*\n",
        "\n",
        "e1 (k1, v1)\n",
        "e2 (k2, v2)\n",
        "partition1 (k2, v2)*\n",
        "partition2 (k2, v2*)*\n",
        "\n",
        "flatmap (e1->e2*, e1*) -> partition1*\n",
        "groupby (partition1*) -> partition2*\n",
        "\n",
        "mapreduce ((k1,v1)*) -> (k3,v3)*\n",
        "mapreduce .flatmap(f).groupby(k2).flatmap(g)\n",
        "```\n",
        "\n"
      ]
    },
    {
      "cell_type": "markdown",
      "metadata": {
        "id": "CWYw_CpbbY3C"
      },
      "source": [
        "## WordCount"
      ]
    },
    {
      "cell_type": "code",
      "metadata": {
        "id": "uR_zfGFkMZlp",
        "colab": {
          "base_uri": "https://localhost:8080/",
          "height": 68
        },
        "outputId": "c8d46167-473d-43b9-881a-2396991b3731"
      },
      "source": [
        "from typing import Iterator\n",
        "import numpy as np\n",
        "\n",
        "d1 = \"\"\"\n",
        "it is what it is\n",
        "it is what it is\n",
        "it is what it is\"\"\"\n",
        "d2 = \"\"\"\n",
        "what is it\n",
        "what is it\"\"\"\n",
        "d3 = \"\"\"\n",
        "it is a banana\"\"\"\n",
        "documents = [d1, d2, d3, d1, d2, d3]\n",
        "\n",
        "maps = 3\n",
        "reducers = 2\n",
        "\n",
        "def INPUTFORMAT():\n",
        "  global maps\n",
        "\n",
        "  def RECORDREADER(split):\n",
        "    for (docid, document) in enumerate(split):\n",
        "      for (lineid, line) in enumerate(document.split('\\n')):\n",
        "        yield (\"{}:{}\".format(docid,lineid), line)\n",
        "\n",
        "  split_size =  int(np.ceil(len(documents)/maps))\n",
        "  for i in range(0, len(documents), split_size):\n",
        "    yield RECORDREADER(documents[i:i+split_size])\n",
        "\n",
        "def MAP(docId:str, line:str):\n",
        "  for word in line.split(\" \"):\n",
        "    yield (word, 1)\n",
        "\n",
        "def REDUCE(word:str, counts:Iterator[int]):\n",
        "  sum = 0\n",
        "  for c in counts:\n",
        "    sum += c\n",
        "  yield (word, sum)\n",
        "\n",
        "# try to set COMBINER=REDUCER and look at the number of values sent over the network\n",
        "partitioned_output = MapReduceDistributed(INPUTFORMAT, MAP, REDUCE, COMBINER=None)\n",
        "partitioned_output = [(partition_id, list(partition)) for (partition_id, partition) in partitioned_output]\n",
        "partitioned_output"
      ],
      "execution_count": null,
      "outputs": [
        {
          "output_type": "stream",
          "text": [
            "56 key-value pairs were sent over a network.\n"
          ],
          "name": "stdout"
        },
        {
          "output_type": "execute_result",
          "data": {
            "text/plain": [
              "[(0, [('', 6), ('a', 2), ('banana', 2), ('is', 18), ('it', 18), ('what', 10)]),\n",
              " (1, [])]"
            ]
          },
          "metadata": {
            "tags": []
          },
          "execution_count": 33
        }
      ]
    },
    {
      "cell_type": "markdown",
      "metadata": {
        "id": "gCJGx8IQ87xS"
      },
      "source": [
        "## TeraSort"
      ]
    },
    {
      "cell_type": "code",
      "metadata": {
        "id": "P2v8v1v_8_YR",
        "colab": {
          "base_uri": "https://localhost:8080/",
          "height": 578
        },
        "outputId": "e0987c25-9757-46cb-8e55-d5d2adfbee2b"
      },
      "source": [
        "import numpy as np\n",
        "\n",
        "input_values = np.random.rand(30)\n",
        "maps = 3\n",
        "reducers = 2\n",
        "min_value = 0.0\n",
        "max_value = 1.0\n",
        "\n",
        "def INPUTFORMAT():\n",
        "  global maps\n",
        "\n",
        "  def RECORDREADER(split):\n",
        "    for value in split:\n",
        "        yield (value, None)\n",
        "\n",
        "  split_size =  int(np.ceil(len(input_values)/maps))\n",
        "  for i in range(0, len(input_values), split_size):\n",
        "    yield RECORDREADER(input_values[i:i+split_size])\n",
        "\n",
        "def MAP(value:int, _):\n",
        "  yield (value, None)\n",
        "\n",
        "def PARTITIONER(key):\n",
        "  global reducers\n",
        "  global max_value\n",
        "  global min_value\n",
        "  bucket_size = (max_value-min_value)/reducers\n",
        "  bucket_id = 0\n",
        "  while((key>(bucket_id+1)*bucket_size) and ((bucket_id+1)*bucket_size<max_value)):\n",
        "    bucket_id += 1\n",
        "  return bucket_id\n",
        "\n",
        "def REDUCE(value:int, _):\n",
        "  yield (None,value)\n",
        "\n",
        "partitioned_output = MapReduceDistributed(INPUTFORMAT, MAP, REDUCE, COMBINER=None, PARTITIONER=PARTITIONER)\n",
        "partitioned_output = [(partition_id, list(partition)) for (partition_id, partition) in partitioned_output]\n",
        "partitioned_output"
      ],
      "execution_count": null,
      "outputs": [
        {
          "output_type": "stream",
          "text": [
            "30 key-value pairs were sent over a network.\n"
          ],
          "name": "stdout"
        },
        {
          "output_type": "execute_result",
          "data": {
            "text/plain": [
              "[(0,\n",
              "  [(None, 0.0059671639991895065),\n",
              "   (None, 0.07724245496172),\n",
              "   (None, 0.08440804135613444),\n",
              "   (None, 0.13575647907181598),\n",
              "   (None, 0.14404826813474803),\n",
              "   (None, 0.21204275967955666),\n",
              "   (None, 0.21869633101751806),\n",
              "   (None, 0.25055756276216923),\n",
              "   (None, 0.28642389538931257),\n",
              "   (None, 0.3834487515438496),\n",
              "   (None, 0.3913614390023946),\n",
              "   (None, 0.4041378102237341),\n",
              "   (None, 0.41854626274930695),\n",
              "   (None, 0.4704310153549396),\n",
              "   (None, 0.4776995227348928),\n",
              "   (None, 0.48992216726013693)]),\n",
              " (1,\n",
              "  [(None, 0.5005353544023048),\n",
              "   (None, 0.5135664686748047),\n",
              "   (None, 0.53391984417089),\n",
              "   (None, 0.5587932025401512),\n",
              "   (None, 0.5673804905854288),\n",
              "   (None, 0.6926646597910275),\n",
              "   (None, 0.7237444251339501),\n",
              "   (None, 0.7557883138083207),\n",
              "   (None, 0.785709769245918),\n",
              "   (None, 0.7937098630029404),\n",
              "   (None, 0.7942646850708935),\n",
              "   (None, 0.9160468126494941),\n",
              "   (None, 0.9618068292060864),\n",
              "   (None, 0.9820764489731459)])]"
            ]
          },
          "metadata": {
            "tags": []
          },
          "execution_count": 34
        }
      ]
    },
    {
      "cell_type": "markdown",
      "metadata": {
        "id": "Iy65YJTH99iT"
      },
      "source": [
        "# Упражнения\n",
        "Упражнения взяты из Rajaraman A., Ullman J. D. Mining of massive datasets. – Cambridge University Press, 2011.\n",
        "\n",
        "\n",
        "Для выполнения заданий переопределите функции RECORDREADER, MAP, REDUCE. Для модели распределённой системы может потребоваться переопределение функций PARTITION и COMBINER."
      ]
    },
    {
      "cell_type": "markdown",
      "metadata": {
        "id": "cfvAeZm3S8S8"
      },
      "source": [
        "### Максимальное значение ряда\n",
        "\n",
        "Разработайте MapReduce алгоритм, который находит максимальное число входного списка чисел."
      ]
    },
    {
      "cell_type": "code",
      "metadata": {
        "id": "3GRA1JR-Tkbg",
        "colab": {
          "base_uri": "https://localhost:8080/"
        },
        "outputId": "60ee8928-063a-4d67-c4b1-1d2edb236f26"
      },
      "source": [
        "import random\n",
        "from functools import reduce\n",
        "\n",
        "# Функция RECORDREADER для генерации случайных чисел в заданном диапазоне\n",
        "def RECORDREADER(count):\n",
        "    return [random.randint(0, 100) for _ in range(count)]\n",
        "\n",
        "# Функция MAP для нахождения максимального значения в списке чисел\n",
        "def MAP(numList):\n",
        "    return max(numList)\n",
        "\n",
        "# Функция REDUCE для нахождения максимального значения среди всех списков чисел\n",
        "def REDUCE(max1, max2):\n",
        "    return max(max1, max2)\n",
        "\n",
        "\n",
        "# Генерация списка случайных чисел\n",
        "record = RECORDREADER(15)\n",
        "print(record)\n",
        "\n",
        "# Выполнение Map: нахождение максимального значения в каждом элементе\n",
        "mapped_values = map(MAP, [record])\n",
        "# Выполнение Reduce: нахождение максимального значения среди всех элементов\n",
        "result = reduce(REDUCE, mapped_values)\n",
        "\n",
        "print(\"Max value:\", result)"
      ],
      "execution_count": null,
      "outputs": [
        {
          "output_type": "stream",
          "name": "stdout",
          "text": [
            "[0, 64, 10, 34, 88, 79, 46, 38, 44, 44, 52, 85, 85, 73, 18]\n",
            "Max value: 88\n"
          ]
        }
      ]
    },
    {
      "cell_type": "markdown",
      "metadata": {
        "id": "k86bXnqZTk-U"
      },
      "source": [
        "### Арифметическое среднее\n",
        "\n",
        "Разработайте MapReduce алгоритм, который находит арифметическое среднее.\n",
        "\n",
        "$$\\overline{X} = \\frac{1}{n}\\sum_{i=0}^{n} x_i$$\n"
      ]
    },
    {
      "cell_type": "code",
      "metadata": {
        "colab": {
          "base_uri": "https://localhost:8080/"
        },
        "outputId": "d5159a14-afed-4f30-954d-a90580c88ecc",
        "id": "mrYvsrLcMlwk"
      },
      "source": [
        "import random\n",
        "from typing import Iterator, Tuple\n",
        "\n",
        "def RECORDREADER(count):\n",
        "    return [random.randint(0, 100) for _ in range(count)]\n",
        "\n",
        "# Функция MAP для создания пары (1, num)\n",
        "def MAP(num):\n",
        "    return (1, num)\n",
        "\n",
        "# Функция REDUCE для вычисления среднего значения из итератора NamedTuple\n",
        "def REDUCE(key, nums: Iterator[Tuple[int, int]]):\n",
        "    sum = 0\n",
        "    count = 0\n",
        "    for _, n in nums:  # Пропускаем ключи\n",
        "        sum += n\n",
        "        count += 1\n",
        "    yield sum / count\n",
        "\n",
        "\n",
        "# Генерация списка случайных чисел\n",
        "record = RECORDREADER(100)\n",
        "\n",
        "# Применение функции MAP\n",
        "map_output = list(map(MAP, record))\n",
        "print(\"MAP output:\", map_output)\n",
        "\n",
        "# Применение функции REDUCE к результату группировки\n",
        "reduce_output = list(REDUCE(1, map_output))  # Группируем по фиктивному ключу 1\n",
        "\n",
        "print(\"Reduce output:\", reduce_output[0])"
      ],
      "execution_count": null,
      "outputs": [
        {
          "output_type": "stream",
          "name": "stdout",
          "text": [
            "MAP output: [(1, 6), (1, 80), (1, 39), (1, 67), (1, 93), (1, 7), (1, 99), (1, 48), (1, 83), (1, 67), (1, 16), (1, 6), (1, 81), (1, 53), (1, 40), (1, 32), (1, 50), (1, 35), (1, 88), (1, 36), (1, 43), (1, 67), (1, 81), (1, 19), (1, 51), (1, 12), (1, 39), (1, 25), (1, 65), (1, 6), (1, 1), (1, 35), (1, 49), (1, 66), (1, 1), (1, 26), (1, 59), (1, 82), (1, 94), (1, 44), (1, 74), (1, 76), (1, 29), (1, 96), (1, 15), (1, 94), (1, 83), (1, 82), (1, 5), (1, 9), (1, 44), (1, 80), (1, 73), (1, 1), (1, 97), (1, 64), (1, 16), (1, 62), (1, 5), (1, 7), (1, 55), (1, 24), (1, 33), (1, 44), (1, 25), (1, 13), (1, 15), (1, 21), (1, 33), (1, 31), (1, 47), (1, 93), (1, 20), (1, 68), (1, 40), (1, 89), (1, 39), (1, 9), (1, 79), (1, 82), (1, 98), (1, 44), (1, 22), (1, 43), (1, 53), (1, 30), (1, 66), (1, 54), (1, 33), (1, 84), (1, 93), (1, 38), (1, 80), (1, 20), (1, 45), (1, 15), (1, 81), (1, 37), (1, 37), (1, 79)]\n",
            "Reduce output: 48.15\n"
          ]
        }
      ]
    },
    {
      "cell_type": "markdown",
      "metadata": {
        "id": "xanzszhsIlLe"
      },
      "source": [
        "### GroupByKey на основе сортировки\n",
        "\n",
        "Реализуйте groupByKey на основе сортировки, проверьте его работу на примерах"
      ]
    },
    {
      "cell_type": "code",
      "metadata": {
        "id": "hQPn3USsIkEC",
        "colab": {
          "base_uri": "https://localhost:8080/"
        },
        "outputId": "25d4bf7b-af7a-4e7e-8662-17882c2dd9d1"
      },
      "source": [
        "import random\n",
        "from typing import Iterator, NamedTuple, List, Tuple\n",
        "\n",
        "def RECORDREADER(count):\n",
        "    return [random.randint(0, 100) for _ in range(count)]\n",
        "\n",
        "# Функция MAP для создания пары (1, num)\n",
        "def MAP(num):\n",
        "    return (num % 3, num)\n",
        "\n",
        "# Функция REDUCE для вычисления среднего значения из итератора NamedTuple\n",
        "def REDUCE(key, nums: Iterator[int]):\n",
        "    sum = 0\n",
        "    count = 0\n",
        "    for n in nums:\n",
        "        sum += n\n",
        "        count += 1\n",
        "    yield sum / count\n",
        "\n",
        "# Функция для группировки значений по ключу с использованием сортировки\n",
        "def group_by_key(iterable: List[Tuple[int, int]]):\n",
        "    grouped_data = {}\n",
        "    for key, value in sorted(iterable, key=lambda x: x[0]):\n",
        "        grouped_data.setdefault(key, []).append(value)\n",
        "    return list(grouped_data.items())\n",
        "\n",
        "# Применение функции MAP\n",
        "map_output = list(map(lambda x: MAP(x), RECORDREADER(100)))\n",
        "print(\"MAP output:\", map_output)\n",
        "\n",
        "# Группировка по ключу и преобразование в список\n",
        "shuffle_output = group_by_key(map_output)\n",
        "print(\"Shuffle output:\", shuffle_output)\n",
        "\n",
        "# Применение функции REDUCE к результату группировки\n",
        "reduce_output = list(flatten(map(lambda x: REDUCE(*x), shuffle_output)))\n",
        "print(\"Reduce output:\", reduce_output)"
      ],
      "execution_count": null,
      "outputs": [
        {
          "output_type": "stream",
          "name": "stdout",
          "text": [
            "MAP output: [(2, 95), (0, 60), (1, 46), (1, 13), (0, 9), (2, 35), (2, 20), (2, 80), (0, 90), (1, 58), (2, 98), (1, 16), (1, 1), (0, 93), (1, 97), (2, 47), (0, 36), (0, 78), (2, 23), (2, 41), (1, 40), (2, 80), (2, 83), (2, 38), (2, 65), (1, 55), (2, 17), (0, 78), (0, 3), (2, 62), (1, 82), (2, 35), (1, 40), (0, 93), (2, 59), (2, 56), (1, 55), (2, 83), (0, 0), (1, 7), (0, 60), (1, 73), (1, 94), (0, 21), (1, 100), (1, 58), (0, 60), (0, 6), (2, 59), (0, 9), (1, 28), (1, 22), (2, 2), (0, 72), (2, 11), (2, 59), (0, 57), (0, 12), (2, 29), (0, 24), (0, 36), (2, 5), (2, 74), (2, 5), (1, 46), (0, 84), (0, 78), (2, 59), (2, 44), (2, 29), (0, 21), (2, 50), (2, 8), (2, 35), (0, 0), (0, 75), (0, 24), (0, 60), (2, 86), (2, 11), (0, 69), (2, 95), (0, 3), (2, 74), (0, 39), (2, 29), (2, 68), (1, 79), (1, 58), (1, 37), (2, 26), (1, 91), (0, 75), (2, 47), (1, 4), (2, 41), (1, 37), (2, 56), (0, 33), (1, 58)]\n",
            "Shuffle output: [(0, [60, 9, 90, 93, 36, 78, 78, 3, 93, 0, 60, 21, 60, 6, 9, 72, 57, 12, 24, 36, 84, 78, 21, 0, 75, 24, 60, 69, 3, 39, 75, 33]), (1, [46, 13, 58, 16, 1, 97, 40, 55, 82, 40, 55, 7, 73, 94, 100, 58, 28, 22, 46, 79, 58, 37, 91, 4, 37, 58]), (2, [95, 35, 20, 80, 98, 47, 23, 41, 80, 83, 38, 65, 17, 62, 35, 59, 56, 83, 59, 2, 11, 59, 29, 5, 74, 5, 59, 44, 29, 50, 8, 35, 86, 11, 95, 74, 29, 68, 26, 47, 41, 56])]\n",
            "Reduce output: [45.5625, 49.80769230769231, 48.07142857142857]\n"
          ]
        }
      ]
    },
    {
      "cell_type": "markdown",
      "metadata": {
        "id": "5SgEjCZyGnu6"
      },
      "source": [
        "### Drop duplicates (set construction, unique elements, distinct)\n",
        "\n",
        "Реализуйте распределённую операцию исключения дубликатов"
      ]
    },
    {
      "cell_type": "code",
      "metadata": {
        "id": "n2r4uXRYPYbE"
      },
      "source": [
        "def flatten(nested_iterable):\n",
        "    for iterable in nested_iterable:\n",
        "        for element in iterable:\n",
        "            yield element\n",
        "\n",
        "def groupbykey(iterable):\n",
        "    grouped_data = {}\n",
        "    for key, value in iterable:\n",
        "        grouped_data.setdefault(key, []).append(value)\n",
        "    return list(grouped_data.items())\n",
        "\n",
        "def groupbykey_distributed(map_partitions, PARTITIONER):\n",
        "    # Распределенная группировка данных по ключу\n",
        "    global reducers\n",
        "    partitions = [dict() for _ in range(reducers)]\n",
        "    for map_partition in map_partitions:\n",
        "        for key, value in map_partition:\n",
        "            p = partitions[PARTITIONER(key)]\n",
        "            p.setdefault(key, []).append(value)\n",
        "    return [(partition_id, sorted(partition.items(), key=lambda x: x[0])) for (partition_id, partition) in enumerate(partitions)]\n",
        "\n",
        "def PARTITIONER(obj):\n",
        "    # Функция для определения разделителя (партиционера)\n",
        "    global reducers\n",
        "    return hash(obj) % reducers\n",
        "\n",
        "def MapReduceDistributed(INPUTFORMAT, MAP, REDUCE, PARTITIONER=PARTITIONER, COMBINER=None):\n",
        "\n",
        "    # Применяем функцию MAP к каждой записи во входных данных, затем \"выравниваем\" результаты\n",
        "    map_partitions = map(lambda record_reader: flatten(map(lambda k1v1: MAP(*k1v1), record_reader)), INPUTFORMAT())\n",
        "\n",
        "    # Если задан комбайнер (COMBINER), применяем его к данным после группировки по ключу\n",
        "    if COMBINER is not None:\n",
        "        map_partitions = map(lambda map_partition: flatten(map(lambda k2v2: COMBINER(*k2v2), groupbykey(map_partition))), map_partitions)\n",
        "\n",
        "    # Выполняем распределенную группировку данных по ключу с использованием заданного партиционера\n",
        "    reduce_partitions = groupbykey_distributed(map_partitions, PARTITIONER)\n",
        "\n",
        "    reduce_outputs = map(lambda reduce_partition: (reduce_partition[0], flatten(map(lambda reduce_input_group: REDUCE(*reduce_input_group),\n",
        "                                                                                    reduce_partition[1]))), reduce_partitions)\n",
        "       # Вычисляем общее количество отправленных по сети пар ключ-значение\n",
        "    total_values_sent = sum([len(vs) for (k, vs) in flatten([partition for (partition_id, partition) in reduce_partitions])])\n",
        "\n",
        "    print(f\"{total_values_sent} key-value pairs were sent over a network.\")\n",
        "    return reduce_outputs"
      ],
      "execution_count": null,
      "outputs": []
    },
    {
      "cell_type": "code",
      "source": [
        "from typing import Iterator\n",
        "import numpy as np\n",
        "\n",
        "\n",
        "d1 = \"\"\"\n",
        "it is what it is\n",
        "it is what it is\n",
        "it is what it is\"\"\"\n",
        "d2 = \"\"\"\n",
        "what is it\n",
        "what is it\"\"\"\n",
        "d3 = \"\"\"\n",
        "it is a cat\"\"\"\n",
        "documents = [d1, d2, d3, d1, d2, d3]\n",
        "\n",
        "maps = 3\n",
        "reducers = 2\n",
        "\n",
        "def INPUTFORMAT():\n",
        "    # Форматирование входных данных для MapReduce\n",
        "    global maps\n",
        "\n",
        "    # Функция RECORDREADER принимает на вход раздел (split) данных и генерирует ключ-значение для каждой строки документа\n",
        "    def RECORDREADER(split):\n",
        "      # Перебираем каждый документ в разделе, присваивая ему уникальный идентификатор docid\n",
        "        for (docid, document) in enumerate(split):\n",
        "          # Для каждой строки в документе создаем уникальный идентификатор lineid и разбиваем строку по символу новой строки '\\n'\n",
        "            for (lineid, line) in enumerate(document.split('\\n')):\n",
        "               # Генерируем ключ в формате \"docid:lineid\" и значение - строку из документа\n",
        "                yield (\"{}:{}\".format(docid, lineid), line)\n",
        "    # Вычисляем размер раздела данных split_size\n",
        "    split_size = int(np.ceil(len(documents) / maps))\n",
        "    # Цикл по документам\n",
        "    for i in range(0, len(documents), split_size):\n",
        "      # Генерируем данные для каждого раздела данных\n",
        "        yield RECORDREADER(documents[i:i + split_size])\n",
        "\n",
        "def MAP(docId: str, line: str):\n",
        "    # Функция Map для преобразования данных\n",
        "    for word in line.split(\" \"):\n",
        "        yield (word, word)\n",
        "\n",
        "def REDUCE(key: str, value: Iterator[str]):\n",
        "    # Функция Reduce для агрегации данных\n",
        "    yield key\n",
        "\n",
        "# Выполнение MapReduce операций с заданными функциями MAP и REDUCE\n",
        "partitioned_output = MapReduceDistributed(INPUTFORMAT, MAP, REDUCE, COMBINER=None)\n",
        "partitioned_output = [(partition_id, list(partition)) for (partition_id, partition) in partitioned_output]\n",
        "partitioned_output"
      ],
      "metadata": {
        "colab": {
          "base_uri": "https://localhost:8080/"
        },
        "id": "7_pXxYKQQAlS",
        "outputId": "7508ef26-531f-404e-d7f7-dc8d8749a707"
      },
      "execution_count": null,
      "outputs": [
        {
          "output_type": "stream",
          "name": "stdout",
          "text": [
            "56 key-value pairs were sent over a network.\n"
          ]
        },
        {
          "output_type": "execute_result",
          "data": {
            "text/plain": [
              "[(0, ['', 'a', 'it', 'what']), (1, ['cat', 'is'])]"
            ]
          },
          "metadata": {},
          "execution_count": 25
        }
      ]
    },
    {
      "cell_type": "markdown",
      "metadata": {
        "id": "e7sRGoTXuJze"
      },
      "source": [
        "#Операторы реляционной алгебры\n",
        "### Selection (Выборка)\n",
        "\n",
        "**The Map Function**: Для  каждого кортежа $t \\in R$ вычисляется истинность предиката $C$. В случае истины создаётся пара ключ-значение $(t, t)$. В паре ключ и значение одинаковы, равны $t$.\n",
        "\n",
        "**The Reduce Function:** Роль функции Reduce выполняет функция идентичности, которая возвращает то же значение, что получила на вход.\n",
        "\n"
      ]
    },
    {
      "cell_type": "code",
      "metadata": {
        "colab": {
          "base_uri": "https://localhost:8080/"
        },
        "outputId": "87fdaf25-f9f4-4fbb-ab00-c527df4e802a",
        "id": "3cXNpdKE--Vp"
      },
      "source": [
        "from collections import defaultdict\n",
        "import random\n",
        "\n",
        "# Функция для реализации MAP операции\n",
        "def MAP(el_list):\n",
        "    mapped_result = defaultdict(list)\n",
        "    for t in el_list:\n",
        "        if C(t):  # Предикат C - выбираем только кортежи, удовлетворяющие условию\n",
        "            mapped_result[t].append(t)\n",
        "    return mapped_result.items()\n",
        "\n",
        "# Функция для реализации REDUCE операции\n",
        "def REDUCE(mapped_items):\n",
        "    reduced_result = []\n",
        "    print(mapped_items)  # Выводим промежуточный результат\n",
        "    for values in mapped_items:\n",
        "        for value in values:\n",
        "            reduced_result.append(value)  # Функция идентичности: возвращаем то же значение, что получили на вход\n",
        "    return reduced_result\n",
        "\n",
        "# Предикат для фильтрации кортежей с четным первым элементом\n",
        "def C(t):\n",
        "    return t[0] % 2 == 0\n",
        "\n",
        "# Генерация случайных записей (кортежей формата (x, y, z))\n",
        "def RECORDREADER(count):\n",
        "    return [(random.randint(0, 100), random.randint(0, 100), random.randint(0, 100)) for _ in range(count)]\n",
        "\n",
        "# Создание набора записей\n",
        "record = RECORDREADER(5)\n",
        "print(record)\n",
        "\n",
        "# Разбиение записей на равные части\n",
        "part_count = 5\n",
        "record_partitioned = [record[d:d + part_count] for d in range(0, len(record), part_count)]\n",
        "print(record_partitioned)\n",
        "\n",
        "# Применение операции MAP и последующей REDUCE к разделенным записям\n",
        "print(REDUCE(list(map(lambda x: MAP(x), record_partitioned))))"
      ],
      "execution_count": null,
      "outputs": [
        {
          "output_type": "stream",
          "name": "stdout",
          "text": [
            "[(73, 85, 82), (72, 89, 92), (65, 9, 95), (44, 85, 61), (64, 96, 17)]\n",
            "[[(73, 85, 82), (72, 89, 92), (65, 9, 95), (44, 85, 61), (64, 96, 17)]]\n",
            "[dict_items([((72, 89, 92), [(72, 89, 92)]), ((44, 85, 61), [(44, 85, 61)]), ((64, 96, 17), [(64, 96, 17)])])]\n",
            "[((72, 89, 92), [(72, 89, 92)]), ((44, 85, 61), [(44, 85, 61)]), ((64, 96, 17), [(64, 96, 17)])]\n"
          ]
        }
      ]
    },
    {
      "cell_type": "markdown",
      "metadata": {
        "id": "w27Ca-_Ku85V"
      },
      "source": [
        "### Projection (Проекция)\n",
        "\n",
        "Проекция на множество атрибутов $S$.\n",
        "\n",
        "**The Map Function:** Для каждого кортежа $t \\in R$ создайте кортеж $t′$, исключая  из $t$ те значения, атрибуты которых не принадлежат  $S$. Верните пару $(t′, t′)$.\n",
        "\n",
        "**The Reduce Function:** Для каждого ключа $t′$, созданного любой Map задачей, вы получаете одну или несколько пар $(t′, t′)$. Reduce функция преобразует $(t′, [t′, t′, . . . , t′])$ в $(t′, t′)$, так, что для ключа $t′$ возвращается одна пара  $(t′, t′)$."
      ]
    },
    {
      "cell_type": "code",
      "metadata": {
        "colab": {
          "base_uri": "https://localhost:8080/"
        },
        "outputId": "65e4bace-9644-4322-badd-40b3c3c4c7bb",
        "id": "8ELarYbM_paD"
      },
      "source": [
        "from typing import Iterator, NamedTuple, List, Tuple\n",
        "\n",
        "S = set([25, 90, 69])  # Создаем множество S\n",
        "\n",
        "def MAP(t):\n",
        "    res_list = []\n",
        "    for el in t:  # Перебираем элементы входного кортежа t\n",
        "        if el in S:  # Проверяем, есть ли элемент el в множестве S\n",
        "            res_list.append(el)  # Добавляем элемент el в результирующий список\n",
        "    res = tuple(res_list)  # Преобразуем список в кортеж\n",
        "    return (res, res)  # Возвращаем кортеж из результирующего списка дважды\n",
        "\n",
        "def REDUCE(key, values: Iterator[NamedTuple]):\n",
        "    return (key, key)  # Возвращает кортеж с ключом и значением равными ключу\n",
        "\n",
        "def RECORDREADER(count):\n",
        "    return [(random.randint(0, 100), random.randint(0, 100), random.randint(0, 100)) for i in range(count)]  # Генерирует список кортежей случайных чисел\n",
        "\n",
        "def group_by_key(iterable):\n",
        "    t = {}\n",
        "    for (k2, v2) in iterable:  # Перебираем элементы входного итерируемого объекта\n",
        "        t[k2] = t.get(k2, []) + [v2]  # Группируем значения по ключу k2\n",
        "    return t.items()  # Возвращаем список кортежей (ключ, список значений)\n",
        "\n",
        "record = RECORDREADER(5)  # Генерируем список кортежей случайных чисел\n",
        "print(record)\n",
        "\n",
        "map_output = list(map(lambda x: MAP(x), RECORDREADER(100)))  # Применяем функцию MAP ко всем элементам RECORDREADER(100)\n",
        "print(\"MAP output:\", map_output)\n",
        "\n",
        "shuffle_output = group_by_key(map_output)  # Группируем значения по ключу\n",
        "shuffle_output = list(shuffle_output)  # Преобразуем результат в список\n",
        "\n",
        "print(\"Shuffle output:\", shuffle_output)\n",
        "\n",
        "reduce_output = list(map(lambda x: REDUCE(*x)[0], shuffle_output))  # Применяем функцию REDUCE к результату группировки\n",
        "print(\"Reduce output:\", reduce_output)"
      ],
      "execution_count": null,
      "outputs": [
        {
          "output_type": "stream",
          "name": "stdout",
          "text": [
            "[(51, 6, 9), (75, 82, 83), (23, 94, 73), (0, 35, 41), (69, 97, 61)]\n",
            "MAP output: [((), ()), ((), ()), ((), ()), ((), ()), ((), ()), ((), ()), ((), ()), ((), ()), ((90,), (90,)), ((), ()), ((), ()), ((), ()), ((), ()), ((), ()), ((), ()), ((), ()), ((), ()), ((), ()), ((), ()), ((), ()), ((90,), (90,)), ((), ()), ((), ()), ((), ()), ((), ()), ((), ()), ((), ()), ((), ()), ((), ()), ((), ()), ((), ()), ((), ()), ((), ()), ((), ()), ((25,), (25,)), ((), ()), ((), ()), ((), ()), ((), ()), ((), ()), ((25,), (25,)), ((), ()), ((), ()), ((), ()), ((), ()), ((), ()), ((), ()), ((90,), (90,)), ((), ()), ((), ()), ((), ()), ((), ()), ((), ()), ((), ()), ((), ()), ((), ()), ((), ()), ((), ()), ((), ()), ((), ()), ((25,), (25,)), ((), ()), ((), ()), ((), ()), ((), ()), ((25,), (25,)), ((), ()), ((), ()), ((), ()), ((90,), (90,)), ((), ()), ((), ()), ((), ()), ((), ()), ((), ()), ((), ()), ((), ()), ((), ()), ((), ()), ((), ()), ((), ()), ((), ()), ((90,), (90,)), ((), ()), ((), ()), ((), ()), ((), ()), ((), ()), ((), ()), ((), ()), ((69,), (69,)), ((69,), (69,)), ((), ()), ((), ()), ((), ()), ((), ()), ((), ()), ((), ()), ((), ()), ((), ())]\n",
            "Shuffle output: [((), [(), (), (), (), (), (), (), (), (), (), (), (), (), (), (), (), (), (), (), (), (), (), (), (), (), (), (), (), (), (), (), (), (), (), (), (), (), (), (), (), (), (), (), (), (), (), (), (), (), (), (), (), (), (), (), (), (), (), (), (), (), (), (), (), (), (), (), (), (), (), (), (), (), (), (), (), (), (), (), (), (), (), (), (), (), (), (), (), ()]), ((90,), [(90,), (90,), (90,), (90,), (90,)]), ((25,), [(25,), (25,), (25,), (25,)]), ((69,), [(69,), (69,)])]\n",
            "Reduce output: [(), (90,), (25,), (69,)]\n"
          ]
        }
      ]
    },
    {
      "cell_type": "markdown",
      "metadata": {
        "id": "7gau6lKXvn2R"
      },
      "source": [
        "### Union (Объединение)\n",
        "\n",
        "**The Map Function:** Превратите каждый входной кортеж $t$ в пару ключ-значение $(t, t)$.\n",
        "\n",
        "**The Reduce Function:** С каждым ключом $t$ будет ассоциировано одно или два значений. В обоих случаях создайте $(t, t)$ в качестве выходного значения."
      ]
    },
    {
      "cell_type": "code",
      "metadata": {
        "colab": {
          "base_uri": "https://localhost:8080/"
        },
        "outputId": "e46e4b7a-d32d-49c0-88b5-e4ce5ca2e7a2",
        "id": "s88wlslzAJzw"
      },
      "source": [
        "def MAP(t):\n",
        "    return (t, t)  # Функция MAP возвращает кортеж из входного элемента и этого же элемента\n",
        "\n",
        "def REDUCE(key, values: Iterator[NamedTuple]):\n",
        "    return (key, key)  # Функция REDUCE возвращает кортеж с ключом и значением равными ключу\n",
        "\n",
        "def RECORDREADER(count):\n",
        "    return [(random.randint(0, 100), random.randint(0, 100), random.randint(0, 100)) for i in range(count)]  # Генерирует список кортежей случайных чисел\n",
        "\n",
        "def group_by_key(iterable):\n",
        "    t = {}\n",
        "    for (k2, v2) in iterable:  # Перебираем элементы входного итерируемого объекта\n",
        "        t[k2] = t.get(k2, []) + [v2]  # Группируем значения по ключу k2\n",
        "    return t.items()  # Возвращаем список кортежей (ключ, список значений)\n",
        "\n",
        "record = RECORDREADER(5)  # Генерируем список кортежей случайных чисел\n",
        "print(record)\n",
        "\n",
        "map_output = list(map(lambda x: MAP(x), RECORDREADER(100)))  # Применяем функцию MAP ко всем элементам RECORDREADER(100)\n",
        "print(\"MAP output:\", map_output)\n",
        "\n",
        "shuffle_output = group_by_key(map_output)  # Группируем значения по ключу\n",
        "shuffle_output = list(shuffle_output)  # Преобразуем результат в список\n",
        "print(\"Shuffle output:\", shuffle_output)\n",
        "\n",
        "reduce_output = list(map(lambda x: REDUCE(*x)[0], shuffle_output))  # Применяем функцию REDUCE к результату группировки\n",
        "print(\"Reduce output:\", reduce_output)"
      ],
      "execution_count": null,
      "outputs": [
        {
          "output_type": "stream",
          "name": "stdout",
          "text": [
            "[(27, 40, 34), (40, 88, 49), (51, 31, 60), (12, 10, 78), (77, 5, 48)]\n",
            "MAP output: [((99, 67, 23), (99, 67, 23)), ((86, 26, 39), (86, 26, 39)), ((70, 94, 29), (70, 94, 29)), ((14, 2, 54), (14, 2, 54)), ((65, 45, 40), (65, 45, 40)), ((89, 11, 15), (89, 11, 15)), ((91, 6, 12), (91, 6, 12)), ((33, 85, 38), (33, 85, 38)), ((67, 88, 43), (67, 88, 43)), ((20, 95, 26), (20, 95, 26)), ((90, 94, 0), (90, 94, 0)), ((87, 40, 6), (87, 40, 6)), ((49, 40, 89), (49, 40, 89)), ((70, 20, 20), (70, 20, 20)), ((86, 75, 35), (86, 75, 35)), ((50, 13, 75), (50, 13, 75)), ((93, 50, 100), (93, 50, 100)), ((13, 71, 46), (13, 71, 46)), ((32, 8, 64), (32, 8, 64)), ((47, 33, 19), (47, 33, 19)), ((66, 39, 41), (66, 39, 41)), ((67, 38, 21), (67, 38, 21)), ((58, 88, 55), (58, 88, 55)), ((25, 85, 73), (25, 85, 73)), ((60, 62, 37), (60, 62, 37)), ((89, 4, 53), (89, 4, 53)), ((36, 73, 40), (36, 73, 40)), ((84, 41, 86), (84, 41, 86)), ((71, 51, 46), (71, 51, 46)), ((68, 61, 92), (68, 61, 92)), ((22, 75, 72), (22, 75, 72)), ((47, 92, 46), (47, 92, 46)), ((88, 7, 69), (88, 7, 69)), ((75, 21, 70), (75, 21, 70)), ((77, 16, 25), (77, 16, 25)), ((82, 73, 12), (82, 73, 12)), ((85, 74, 22), (85, 74, 22)), ((4, 48, 29), (4, 48, 29)), ((9, 80, 29), (9, 80, 29)), ((14, 54, 91), (14, 54, 91)), ((41, 26, 75), (41, 26, 75)), ((14, 49, 62), (14, 49, 62)), ((72, 22, 77), (72, 22, 77)), ((24, 81, 23), (24, 81, 23)), ((52, 12, 27), (52, 12, 27)), ((9, 75, 87), (9, 75, 87)), ((48, 91, 82), (48, 91, 82)), ((29, 20, 44), (29, 20, 44)), ((48, 53, 43), (48, 53, 43)), ((91, 62, 9), (91, 62, 9)), ((100, 58, 97), (100, 58, 97)), ((93, 61, 18), (93, 61, 18)), ((20, 44, 87), (20, 44, 87)), ((38, 53, 81), (38, 53, 81)), ((36, 82, 43), (36, 82, 43)), ((13, 42, 10), (13, 42, 10)), ((100, 41, 56), (100, 41, 56)), ((36, 87, 12), (36, 87, 12)), ((37, 71, 57), (37, 71, 57)), ((0, 70, 22), (0, 70, 22)), ((33, 42, 48), (33, 42, 48)), ((25, 42, 38), (25, 42, 38)), ((81, 97, 75), (81, 97, 75)), ((81, 16, 76), (81, 16, 76)), ((30, 11, 47), (30, 11, 47)), ((90, 83, 76), (90, 83, 76)), ((13, 15, 6), (13, 15, 6)), ((59, 11, 63), (59, 11, 63)), ((50, 39, 28), (50, 39, 28)), ((75, 98, 8), (75, 98, 8)), ((28, 90, 66), (28, 90, 66)), ((86, 29, 84), (86, 29, 84)), ((76, 90, 35), (76, 90, 35)), ((19, 90, 77), (19, 90, 77)), ((16, 27, 77), (16, 27, 77)), ((32, 80, 49), (32, 80, 49)), ((19, 34, 3), (19, 34, 3)), ((8, 21, 87), (8, 21, 87)), ((2, 71, 99), (2, 71, 99)), ((76, 72, 55), (76, 72, 55)), ((78, 34, 57), (78, 34, 57)), ((68, 23, 98), (68, 23, 98)), ((81, 85, 39), (81, 85, 39)), ((75, 65, 13), (75, 65, 13)), ((92, 34, 92), (92, 34, 92)), ((23, 27, 63), (23, 27, 63)), ((52, 14, 18), (52, 14, 18)), ((53, 65, 17), (53, 65, 17)), ((17, 8, 81), (17, 8, 81)), ((4, 65, 27), (4, 65, 27)), ((99, 0, 41), (99, 0, 41)), ((24, 60, 21), (24, 60, 21)), ((54, 38, 33), (54, 38, 33)), ((33, 54, 18), (33, 54, 18)), ((84, 64, 1), (84, 64, 1)), ((24, 92, 33), (24, 92, 33)), ((81, 6, 92), (81, 6, 92)), ((53, 79, 91), (53, 79, 91)), ((11, 2, 68), (11, 2, 68)), ((88, 47, 83), (88, 47, 83))]\n",
            "Shuffle output: [((99, 67, 23), [(99, 67, 23)]), ((86, 26, 39), [(86, 26, 39)]), ((70, 94, 29), [(70, 94, 29)]), ((14, 2, 54), [(14, 2, 54)]), ((65, 45, 40), [(65, 45, 40)]), ((89, 11, 15), [(89, 11, 15)]), ((91, 6, 12), [(91, 6, 12)]), ((33, 85, 38), [(33, 85, 38)]), ((67, 88, 43), [(67, 88, 43)]), ((20, 95, 26), [(20, 95, 26)]), ((90, 94, 0), [(90, 94, 0)]), ((87, 40, 6), [(87, 40, 6)]), ((49, 40, 89), [(49, 40, 89)]), ((70, 20, 20), [(70, 20, 20)]), ((86, 75, 35), [(86, 75, 35)]), ((50, 13, 75), [(50, 13, 75)]), ((93, 50, 100), [(93, 50, 100)]), ((13, 71, 46), [(13, 71, 46)]), ((32, 8, 64), [(32, 8, 64)]), ((47, 33, 19), [(47, 33, 19)]), ((66, 39, 41), [(66, 39, 41)]), ((67, 38, 21), [(67, 38, 21)]), ((58, 88, 55), [(58, 88, 55)]), ((25, 85, 73), [(25, 85, 73)]), ((60, 62, 37), [(60, 62, 37)]), ((89, 4, 53), [(89, 4, 53)]), ((36, 73, 40), [(36, 73, 40)]), ((84, 41, 86), [(84, 41, 86)]), ((71, 51, 46), [(71, 51, 46)]), ((68, 61, 92), [(68, 61, 92)]), ((22, 75, 72), [(22, 75, 72)]), ((47, 92, 46), [(47, 92, 46)]), ((88, 7, 69), [(88, 7, 69)]), ((75, 21, 70), [(75, 21, 70)]), ((77, 16, 25), [(77, 16, 25)]), ((82, 73, 12), [(82, 73, 12)]), ((85, 74, 22), [(85, 74, 22)]), ((4, 48, 29), [(4, 48, 29)]), ((9, 80, 29), [(9, 80, 29)]), ((14, 54, 91), [(14, 54, 91)]), ((41, 26, 75), [(41, 26, 75)]), ((14, 49, 62), [(14, 49, 62)]), ((72, 22, 77), [(72, 22, 77)]), ((24, 81, 23), [(24, 81, 23)]), ((52, 12, 27), [(52, 12, 27)]), ((9, 75, 87), [(9, 75, 87)]), ((48, 91, 82), [(48, 91, 82)]), ((29, 20, 44), [(29, 20, 44)]), ((48, 53, 43), [(48, 53, 43)]), ((91, 62, 9), [(91, 62, 9)]), ((100, 58, 97), [(100, 58, 97)]), ((93, 61, 18), [(93, 61, 18)]), ((20, 44, 87), [(20, 44, 87)]), ((38, 53, 81), [(38, 53, 81)]), ((36, 82, 43), [(36, 82, 43)]), ((13, 42, 10), [(13, 42, 10)]), ((100, 41, 56), [(100, 41, 56)]), ((36, 87, 12), [(36, 87, 12)]), ((37, 71, 57), [(37, 71, 57)]), ((0, 70, 22), [(0, 70, 22)]), ((33, 42, 48), [(33, 42, 48)]), ((25, 42, 38), [(25, 42, 38)]), ((81, 97, 75), [(81, 97, 75)]), ((81, 16, 76), [(81, 16, 76)]), ((30, 11, 47), [(30, 11, 47)]), ((90, 83, 76), [(90, 83, 76)]), ((13, 15, 6), [(13, 15, 6)]), ((59, 11, 63), [(59, 11, 63)]), ((50, 39, 28), [(50, 39, 28)]), ((75, 98, 8), [(75, 98, 8)]), ((28, 90, 66), [(28, 90, 66)]), ((86, 29, 84), [(86, 29, 84)]), ((76, 90, 35), [(76, 90, 35)]), ((19, 90, 77), [(19, 90, 77)]), ((16, 27, 77), [(16, 27, 77)]), ((32, 80, 49), [(32, 80, 49)]), ((19, 34, 3), [(19, 34, 3)]), ((8, 21, 87), [(8, 21, 87)]), ((2, 71, 99), [(2, 71, 99)]), ((76, 72, 55), [(76, 72, 55)]), ((78, 34, 57), [(78, 34, 57)]), ((68, 23, 98), [(68, 23, 98)]), ((81, 85, 39), [(81, 85, 39)]), ((75, 65, 13), [(75, 65, 13)]), ((92, 34, 92), [(92, 34, 92)]), ((23, 27, 63), [(23, 27, 63)]), ((52, 14, 18), [(52, 14, 18)]), ((53, 65, 17), [(53, 65, 17)]), ((17, 8, 81), [(17, 8, 81)]), ((4, 65, 27), [(4, 65, 27)]), ((99, 0, 41), [(99, 0, 41)]), ((24, 60, 21), [(24, 60, 21)]), ((54, 38, 33), [(54, 38, 33)]), ((33, 54, 18), [(33, 54, 18)]), ((84, 64, 1), [(84, 64, 1)]), ((24, 92, 33), [(24, 92, 33)]), ((81, 6, 92), [(81, 6, 92)]), ((53, 79, 91), [(53, 79, 91)]), ((11, 2, 68), [(11, 2, 68)]), ((88, 47, 83), [(88, 47, 83)])]\n",
            "Reduce output: [(99, 67, 23), (86, 26, 39), (70, 94, 29), (14, 2, 54), (65, 45, 40), (89, 11, 15), (91, 6, 12), (33, 85, 38), (67, 88, 43), (20, 95, 26), (90, 94, 0), (87, 40, 6), (49, 40, 89), (70, 20, 20), (86, 75, 35), (50, 13, 75), (93, 50, 100), (13, 71, 46), (32, 8, 64), (47, 33, 19), (66, 39, 41), (67, 38, 21), (58, 88, 55), (25, 85, 73), (60, 62, 37), (89, 4, 53), (36, 73, 40), (84, 41, 86), (71, 51, 46), (68, 61, 92), (22, 75, 72), (47, 92, 46), (88, 7, 69), (75, 21, 70), (77, 16, 25), (82, 73, 12), (85, 74, 22), (4, 48, 29), (9, 80, 29), (14, 54, 91), (41, 26, 75), (14, 49, 62), (72, 22, 77), (24, 81, 23), (52, 12, 27), (9, 75, 87), (48, 91, 82), (29, 20, 44), (48, 53, 43), (91, 62, 9), (100, 58, 97), (93, 61, 18), (20, 44, 87), (38, 53, 81), (36, 82, 43), (13, 42, 10), (100, 41, 56), (36, 87, 12), (37, 71, 57), (0, 70, 22), (33, 42, 48), (25, 42, 38), (81, 97, 75), (81, 16, 76), (30, 11, 47), (90, 83, 76), (13, 15, 6), (59, 11, 63), (50, 39, 28), (75, 98, 8), (28, 90, 66), (86, 29, 84), (76, 90, 35), (19, 90, 77), (16, 27, 77), (32, 80, 49), (19, 34, 3), (8, 21, 87), (2, 71, 99), (76, 72, 55), (78, 34, 57), (68, 23, 98), (81, 85, 39), (75, 65, 13), (92, 34, 92), (23, 27, 63), (52, 14, 18), (53, 65, 17), (17, 8, 81), (4, 65, 27), (99, 0, 41), (24, 60, 21), (54, 38, 33), (33, 54, 18), (84, 64, 1), (24, 92, 33), (81, 6, 92), (53, 79, 91), (11, 2, 68), (88, 47, 83)]\n"
          ]
        }
      ]
    },
    {
      "cell_type": "markdown",
      "metadata": {
        "id": "dQ8TuEbjv4J8"
      },
      "source": [
        "### Intersection (Пересечение)\n",
        "\n",
        "**The Map Function:** Превратите каждый кортеж $t$ в пары ключ-значение $(t, t)$.\n",
        "\n",
        "**The Reduce Function:** Если для ключа $t$ есть список из двух элементов $[t, t]$ $-$ создайте пару $(t, t)$. Иначе, ничего не создавайте."
      ]
    },
    {
      "cell_type": "code",
      "metadata": {
        "colab": {
          "base_uri": "https://localhost:8080/"
        },
        "outputId": "e58f54e0-8a1a-4678-d3c4-5778f8ed9612",
        "id": "PNYLpJ5UASHT"
      },
      "source": [
        "def MAP(t):\n",
        "    return (t, t)  # Функция MAP возвращает кортеж из входного элемента и этого же элемента\n",
        "\n",
        "def REDUCE(key, values: Iterator[NamedTuple]):\n",
        "    if len(values) == 2:  # Если количество значений равно 2\n",
        "        return (key, key)  # Возвращает кортеж с ключом и значением равными ключу\n",
        "\n",
        "def RECORDREADER(count):\n",
        "    return [(random.randint(0, 3), random.randint(0, 3)) for i in range(count)]  # Генерирует список кортежей случайных чисел\n",
        "\n",
        "def group_by_key(iterable):\n",
        "    t = {}\n",
        "    for (k2, v2) in iterable:  # Перебираем элементы входного итерируемого объекта\n",
        "        t[k2] = t.get(k2, []) + [v2]  # Группируем значения по ключу k2\n",
        "    return t.items()  # Возвращаем список кортежей (ключ, список значений)\n",
        "\n",
        "record = RECORDREADER(100)  # Генерируем список кортежей случайных чисел\n",
        "print(record)\n",
        "\n",
        "map_output = list(map(lambda x: MAP(x), RECORDREADER(100)))  # Применяем функцию MAP ко всем элементам RECORDREADER(10)\n",
        "print(\"MAP output:\", map_output)\n",
        "\n",
        "shuffle_output = group_by_key(map_output)  # Группируем значения по ключу\n",
        "shuffle_output = list(shuffle_output)  # Преобразуем результат в список\n",
        "print(\"Shuffle output:\", shuffle_output)\n",
        "\n",
        "reduce_output = [el[0] for el in list(map(lambda x: REDUCE(*x), shuffle_output)) if el is not None]  # Применяем функцию REDUCE к результату группировки\n",
        "print(\"Reduce output:\", reduce_output)"
      ],
      "execution_count": null,
      "outputs": [
        {
          "output_type": "stream",
          "name": "stdout",
          "text": [
            "[(0, 3), (1, 1), (2, 3), (2, 1), (1, 0), (0, 0), (1, 2), (3, 3), (2, 3), (0, 0), (0, 0), (1, 0), (0, 1), (1, 0), (2, 0), (0, 0), (3, 3), (0, 1), (2, 3), (3, 0), (0, 3), (1, 1), (2, 3), (1, 1), (3, 3), (0, 0), (0, 2), (1, 2), (3, 1), (0, 0), (2, 1), (2, 2), (3, 1), (0, 1), (2, 3), (0, 1), (0, 3), (0, 2), (1, 1), (3, 0), (2, 3), (3, 2), (1, 3), (2, 1), (2, 1), (3, 2), (3, 3), (0, 1), (3, 0), (0, 0), (0, 0), (1, 1), (1, 1), (0, 3), (3, 3), (1, 3), (2, 1), (0, 1), (3, 1), (3, 1), (1, 3), (1, 3), (3, 1), (3, 2), (3, 3), (2, 0), (3, 2), (0, 2), (3, 1), (0, 0), (3, 3), (3, 1), (0, 2), (1, 2), (1, 1), (2, 1), (2, 0), (0, 2), (1, 2), (0, 2), (2, 0), (1, 2), (1, 1), (1, 0), (3, 0), (3, 2), (2, 1), (0, 1), (1, 3), (0, 2), (0, 2), (3, 1), (0, 1), (0, 0), (1, 0), (3, 2), (3, 3), (0, 0), (2, 3), (1, 2)]\n",
            "MAP output: [((1, 3), (1, 3)), ((2, 2), (2, 2)), ((2, 2), (2, 2)), ((1, 2), (1, 2)), ((2, 2), (2, 2)), ((0, 0), (0, 0)), ((3, 2), (3, 2)), ((2, 1), (2, 1)), ((1, 2), (1, 2)), ((0, 2), (0, 2)), ((3, 2), (3, 2)), ((0, 0), (0, 0)), ((1, 0), (1, 0)), ((0, 0), (0, 0)), ((3, 2), (3, 2)), ((1, 1), (1, 1)), ((0, 1), (0, 1)), ((1, 2), (1, 2)), ((0, 1), (0, 1)), ((0, 0), (0, 0)), ((0, 2), (0, 2)), ((0, 2), (0, 2)), ((2, 2), (2, 2)), ((2, 2), (2, 2)), ((3, 2), (3, 2)), ((3, 1), (3, 1)), ((2, 2), (2, 2)), ((1, 1), (1, 1)), ((2, 3), (2, 3)), ((0, 3), (0, 3)), ((1, 0), (1, 0)), ((0, 0), (0, 0)), ((3, 3), (3, 3)), ((3, 0), (3, 0)), ((3, 2), (3, 2)), ((0, 2), (0, 2)), ((1, 0), (1, 0)), ((0, 0), (0, 0)), ((2, 0), (2, 0)), ((1, 1), (1, 1)), ((0, 1), (0, 1)), ((0, 1), (0, 1)), ((3, 3), (3, 3)), ((2, 0), (2, 0)), ((3, 2), (3, 2)), ((3, 3), (3, 3)), ((3, 3), (3, 3)), ((2, 1), (2, 1)), ((0, 1), (0, 1)), ((1, 0), (1, 0)), ((0, 0), (0, 0)), ((0, 2), (0, 2)), ((1, 0), (1, 0)), ((1, 3), (1, 3)), ((3, 1), (3, 1)), ((2, 0), (2, 0)), ((3, 0), (3, 0)), ((3, 2), (3, 2)), ((1, 2), (1, 2)), ((3, 0), (3, 0)), ((0, 0), (0, 0)), ((0, 3), (0, 3)), ((1, 2), (1, 2)), ((0, 1), (0, 1)), ((3, 1), (3, 1)), ((3, 1), (3, 1)), ((0, 0), (0, 0)), ((3, 1), (3, 1)), ((0, 2), (0, 2)), ((1, 1), (1, 1)), ((2, 0), (2, 0)), ((1, 3), (1, 3)), ((3, 1), (3, 1)), ((1, 0), (1, 0)), ((2, 3), (2, 3)), ((2, 2), (2, 2)), ((1, 0), (1, 0)), ((1, 0), (1, 0)), ((3, 2), (3, 2)), ((0, 0), (0, 0)), ((0, 3), (0, 3)), ((0, 0), (0, 0)), ((0, 2), (0, 2)), ((1, 0), (1, 0)), ((0, 0), (0, 0)), ((2, 1), (2, 1)), ((3, 0), (3, 0)), ((1, 1), (1, 1)), ((2, 2), (2, 2)), ((0, 0), (0, 0)), ((0, 1), (0, 1)), ((2, 0), (2, 0)), ((3, 0), (3, 0)), ((2, 3), (2, 3)), ((0, 2), (0, 2)), ((2, 2), (2, 2)), ((2, 2), (2, 2)), ((1, 3), (1, 3)), ((0, 1), (0, 1)), ((3, 0), (3, 0))]\n",
            "Shuffle output: [((1, 3), [(1, 3), (1, 3), (1, 3), (1, 3)]), ((2, 2), [(2, 2), (2, 2), (2, 2), (2, 2), (2, 2), (2, 2), (2, 2), (2, 2), (2, 2), (2, 2)]), ((1, 2), [(1, 2), (1, 2), (1, 2), (1, 2), (1, 2)]), ((0, 0), [(0, 0), (0, 0), (0, 0), (0, 0), (0, 0), (0, 0), (0, 0), (0, 0), (0, 0), (0, 0), (0, 0), (0, 0), (0, 0)]), ((3, 2), [(3, 2), (3, 2), (3, 2), (3, 2), (3, 2), (3, 2), (3, 2), (3, 2)]), ((2, 1), [(2, 1), (2, 1), (2, 1)]), ((0, 2), [(0, 2), (0, 2), (0, 2), (0, 2), (0, 2), (0, 2), (0, 2), (0, 2)]), ((1, 0), [(1, 0), (1, 0), (1, 0), (1, 0), (1, 0), (1, 0), (1, 0), (1, 0), (1, 0)]), ((1, 1), [(1, 1), (1, 1), (1, 1), (1, 1), (1, 1)]), ((0, 1), [(0, 1), (0, 1), (0, 1), (0, 1), (0, 1), (0, 1), (0, 1), (0, 1)]), ((3, 1), [(3, 1), (3, 1), (3, 1), (3, 1), (3, 1), (3, 1)]), ((2, 3), [(2, 3), (2, 3), (2, 3)]), ((0, 3), [(0, 3), (0, 3), (0, 3)]), ((3, 3), [(3, 3), (3, 3), (3, 3), (3, 3)]), ((3, 0), [(3, 0), (3, 0), (3, 0), (3, 0), (3, 0), (3, 0)]), ((2, 0), [(2, 0), (2, 0), (2, 0), (2, 0), (2, 0)])]\n",
            "Reduce output: []\n"
          ]
        }
      ]
    },
    {
      "cell_type": "markdown",
      "metadata": {
        "id": "AVOpqoY3wE5k"
      },
      "source": [
        "### Difference (Разница)\n",
        "\n",
        "**The Map Function:** Для кортежа $t \\in R$, создайте пару $(t, R)$, и для кортежа $t \\in S$, создайте пару $(t, S)$. Задумка заключается в том, чтобы значение пары было именем отношения $R$ or $S$, которому принадлежит кортеж (а лучше, единичный бит, по которому можно два отношения различить $R$ or $S$), а не весь набор атрибутов отношения.\n",
        "\n",
        "**The Reduce Function:** Для каждого ключа $t$, если соответствующее значение является списком $[R]$, создайте пару $(t, t)$. В иных случаях не предпринимайте действий."
      ]
    },
    {
      "cell_type": "code",
      "metadata": {
        "colab": {
          "base_uri": "https://localhost:8080/"
        },
        "outputId": "85f0e824-720f-4888-abcf-c4c1f1aa2ee4",
        "id": "UIPQGyZxAjjj"
      },
      "source": [
        "rels = [1, 2]  # Инициализация массива rels с элементами 1 и 2\n",
        "\n",
        "class Tuple:  # Определение класса Tuple для хранения данных и id представления\n",
        "    def __init__(self, data: tuple, rel_id: int):\n",
        "        self.data = data\n",
        "        self.rel_id = rel_id\n",
        "\n",
        "def get_random_tuple(count):\n",
        "    data = tuple([(random.randint(0, 3), random.randint(0, 3)) for i in range(count)])  # Генерация случайного кортежа данных\n",
        "    rel_id = rels[random.randint(0, len(rels) - 1)]  # Выбор случайного id представления из массива rels\n",
        "    return Tuple(data, rel_id)  # Возвращает экземпляр класса Tuple с данными и id представления\n",
        "\n",
        "def RECORDREADER(count):\n",
        "    return [get_random_tuple(3) for i in range(count)]  # Генерация списка случайных кортежей данных\n",
        "\n",
        "def MAP(t: Tuple):\n",
        "    return (t.data, t.rel_id)  # Функция MAP возвращает кортеж из данных и id представления\n",
        "\n",
        "def REDUCE(key, values: Iterator[NamedTuple]):\n",
        "    if values == [rels[0]]:  # Если значение соответствует первому элементу в массиве rels\n",
        "        return (key, key)  # Возвращает кортеж с ключом и значением равными ключу\n",
        "\n",
        "def group_by_key(iterable):\n",
        "    t = {}\n",
        "    for (k2, v2) in iterable:\n",
        "        t[k2] = t.get(k2, []) + [v2]  # Группировка значений по ключу k2\n",
        "    return t.items()  # Возвращает список кортежей (ключ, список значений)\n",
        "\n",
        "record = RECORDREADER(100)  # Генерация списка случайных кортежей данных\n",
        "\n",
        "map_output = list(map(lambda x: MAP(x), RECORDREADER(100)))  # Применение функции MAP к каждому элементу из RECORDREADER(100)\n",
        "print(\"MAP output:\", map_output)\n",
        "\n",
        "shuffle_output = group_by_key(map_output)  # Группировка значений по ключу\n",
        "shuffle_output = list(shuffle_output)  # Преобразование результата в список\n",
        "print(\"Shuffle output:\", shuffle_output)\n",
        "\n",
        "reduce_output = [el[0] for el in list(map(lambda x: REDUCE(*x), shuffle_output)) if el is not None]  # Применение функции REDUCE к результату группировки\n",
        "print(\"Reduce output:\", reduce_output)"
      ],
      "execution_count": null,
      "outputs": [
        {
          "output_type": "stream",
          "name": "stdout",
          "text": [
            "MAP output: [(((1, 3), (0, 1), (3, 2)), 2), (((3, 1), (2, 1), (0, 2)), 2), (((2, 3), (1, 0), (3, 0)), 1), (((2, 2), (2, 1), (1, 3)), 2), (((3, 1), (0, 3), (1, 3)), 1), (((0, 2), (2, 3), (1, 3)), 1), (((0, 1), (0, 1), (0, 0)), 2), (((2, 2), (0, 3), (3, 0)), 1), (((0, 2), (1, 2), (2, 3)), 2), (((0, 3), (0, 1), (0, 3)), 1), (((1, 0), (2, 0), (3, 3)), 2), (((1, 2), (0, 1), (3, 3)), 1), (((0, 3), (3, 0), (2, 0)), 1), (((3, 3), (1, 0), (0, 2)), 2), (((3, 1), (0, 1), (0, 2)), 1), (((0, 2), (2, 3), (0, 3)), 2), (((3, 3), (1, 3), (3, 3)), 1), (((2, 1), (3, 3), (3, 2)), 2), (((0, 2), (2, 0), (3, 0)), 1), (((3, 1), (2, 1), (3, 0)), 1), (((2, 1), (3, 3), (1, 0)), 2), (((3, 3), (0, 2), (1, 3)), 2), (((0, 1), (1, 1), (2, 0)), 2), (((0, 1), (0, 3), (3, 2)), 1), (((3, 1), (2, 1), (2, 1)), 2), (((2, 2), (0, 3), (1, 0)), 2), (((1, 2), (1, 1), (2, 1)), 2), (((1, 0), (2, 1), (1, 2)), 2), (((0, 2), (1, 3), (1, 3)), 1), (((0, 0), (1, 0), (3, 2)), 1), (((2, 2), (3, 2), (3, 3)), 1), (((1, 1), (3, 2), (2, 3)), 1), (((3, 1), (3, 0), (3, 3)), 2), (((3, 3), (2, 1), (1, 2)), 1), (((0, 0), (3, 1), (2, 1)), 2), (((3, 0), (2, 1), (1, 2)), 2), (((1, 0), (0, 3), (3, 3)), 2), (((1, 0), (3, 2), (1, 2)), 2), (((3, 3), (0, 0), (2, 0)), 1), (((3, 0), (3, 1), (1, 3)), 1), (((0, 2), (0, 1), (2, 3)), 1), (((0, 0), (3, 0), (2, 1)), 2), (((2, 1), (3, 2), (3, 2)), 2), (((1, 3), (0, 2), (3, 1)), 1), (((3, 1), (2, 3), (2, 1)), 2), (((1, 0), (0, 0), (3, 3)), 1), (((0, 2), (0, 3), (3, 0)), 1), (((1, 0), (2, 1), (3, 2)), 1), (((2, 0), (0, 1), (0, 1)), 2), (((3, 0), (1, 1), (3, 2)), 2), (((3, 1), (2, 2), (0, 0)), 2), (((2, 1), (2, 2), (1, 0)), 2), (((0, 1), (0, 2), (3, 2)), 2), (((0, 2), (1, 2), (3, 1)), 1), (((0, 3), (2, 2), (0, 2)), 2), (((0, 0), (0, 2), (1, 1)), 1), (((0, 3), (0, 1), (3, 2)), 1), (((1, 0), (1, 1), (2, 2)), 1), (((0, 1), (1, 0), (0, 0)), 1), (((2, 2), (3, 1), (2, 3)), 2), (((1, 0), (1, 0), (1, 1)), 1), (((1, 3), (3, 1), (3, 0)), 1), (((3, 2), (0, 3), (1, 0)), 1), (((3, 1), (0, 3), (1, 1)), 2), (((2, 3), (1, 2), (3, 2)), 1), (((1, 3), (0, 1), (3, 3)), 1), (((0, 1), (1, 0), (2, 2)), 1), (((3, 1), (2, 0), (1, 3)), 2), (((0, 1), (3, 0), (0, 1)), 2), (((0, 0), (3, 2), (2, 1)), 1), (((1, 0), (1, 2), (0, 2)), 1), (((0, 2), (2, 1), (3, 3)), 2), (((1, 0), (0, 1), (0, 0)), 2), (((2, 2), (1, 2), (0, 0)), 2), (((3, 1), (2, 2), (0, 0)), 2), (((3, 0), (0, 1), (1, 3)), 1), (((2, 1), (3, 3), (0, 1)), 2), (((0, 3), (1, 3), (0, 1)), 1), (((0, 0), (1, 1), (2, 2)), 1), (((3, 3), (2, 0), (3, 2)), 1), (((3, 1), (1, 3), (1, 2)), 2), (((2, 3), (1, 1), (1, 0)), 2), (((2, 0), (0, 1), (1, 3)), 1), (((1, 2), (1, 0), (1, 1)), 2), (((3, 0), (2, 2), (2, 0)), 2), (((0, 0), (2, 0), (1, 2)), 1), (((0, 1), (1, 3), (0, 0)), 1), (((2, 3), (0, 3), (3, 1)), 1), (((3, 3), (1, 1), (2, 0)), 1), (((3, 0), (3, 2), (2, 0)), 1), (((1, 1), (0, 2), (3, 2)), 2), (((1, 0), (2, 3), (1, 3)), 2), (((1, 3), (2, 1), (3, 1)), 2), (((1, 0), (0, 2), (2, 0)), 2), (((3, 2), (2, 0), (2, 3)), 1), (((3, 2), (3, 1), (1, 1)), 2), (((2, 0), (0, 3), (1, 2)), 2), (((3, 0), (3, 3), (1, 1)), 2), (((3, 2), (3, 0), (1, 2)), 2), (((3, 2), (2, 3), (2, 1)), 1)]\n",
            "Shuffle output: [(((1, 3), (0, 1), (3, 2)), [2]), (((3, 1), (2, 1), (0, 2)), [2]), (((2, 3), (1, 0), (3, 0)), [1]), (((2, 2), (2, 1), (1, 3)), [2]), (((3, 1), (0, 3), (1, 3)), [1]), (((0, 2), (2, 3), (1, 3)), [1]), (((0, 1), (0, 1), (0, 0)), [2]), (((2, 2), (0, 3), (3, 0)), [1]), (((0, 2), (1, 2), (2, 3)), [2]), (((0, 3), (0, 1), (0, 3)), [1]), (((1, 0), (2, 0), (3, 3)), [2]), (((1, 2), (0, 1), (3, 3)), [1]), (((0, 3), (3, 0), (2, 0)), [1]), (((3, 3), (1, 0), (0, 2)), [2]), (((3, 1), (0, 1), (0, 2)), [1]), (((0, 2), (2, 3), (0, 3)), [2]), (((3, 3), (1, 3), (3, 3)), [1]), (((2, 1), (3, 3), (3, 2)), [2]), (((0, 2), (2, 0), (3, 0)), [1]), (((3, 1), (2, 1), (3, 0)), [1]), (((2, 1), (3, 3), (1, 0)), [2]), (((3, 3), (0, 2), (1, 3)), [2]), (((0, 1), (1, 1), (2, 0)), [2]), (((0, 1), (0, 3), (3, 2)), [1]), (((3, 1), (2, 1), (2, 1)), [2]), (((2, 2), (0, 3), (1, 0)), [2]), (((1, 2), (1, 1), (2, 1)), [2]), (((1, 0), (2, 1), (1, 2)), [2]), (((0, 2), (1, 3), (1, 3)), [1]), (((0, 0), (1, 0), (3, 2)), [1]), (((2, 2), (3, 2), (3, 3)), [1]), (((1, 1), (3, 2), (2, 3)), [1]), (((3, 1), (3, 0), (3, 3)), [2]), (((3, 3), (2, 1), (1, 2)), [1]), (((0, 0), (3, 1), (2, 1)), [2]), (((3, 0), (2, 1), (1, 2)), [2]), (((1, 0), (0, 3), (3, 3)), [2]), (((1, 0), (3, 2), (1, 2)), [2]), (((3, 3), (0, 0), (2, 0)), [1]), (((3, 0), (3, 1), (1, 3)), [1]), (((0, 2), (0, 1), (2, 3)), [1]), (((0, 0), (3, 0), (2, 1)), [2]), (((2, 1), (3, 2), (3, 2)), [2]), (((1, 3), (0, 2), (3, 1)), [1]), (((3, 1), (2, 3), (2, 1)), [2]), (((1, 0), (0, 0), (3, 3)), [1]), (((0, 2), (0, 3), (3, 0)), [1]), (((1, 0), (2, 1), (3, 2)), [1]), (((2, 0), (0, 1), (0, 1)), [2]), (((3, 0), (1, 1), (3, 2)), [2]), (((3, 1), (2, 2), (0, 0)), [2, 2]), (((2, 1), (2, 2), (1, 0)), [2]), (((0, 1), (0, 2), (3, 2)), [2]), (((0, 2), (1, 2), (3, 1)), [1]), (((0, 3), (2, 2), (0, 2)), [2]), (((0, 0), (0, 2), (1, 1)), [1]), (((0, 3), (0, 1), (3, 2)), [1]), (((1, 0), (1, 1), (2, 2)), [1]), (((0, 1), (1, 0), (0, 0)), [1]), (((2, 2), (3, 1), (2, 3)), [2]), (((1, 0), (1, 0), (1, 1)), [1]), (((1, 3), (3, 1), (3, 0)), [1]), (((3, 2), (0, 3), (1, 0)), [1]), (((3, 1), (0, 3), (1, 1)), [2]), (((2, 3), (1, 2), (3, 2)), [1]), (((1, 3), (0, 1), (3, 3)), [1]), (((0, 1), (1, 0), (2, 2)), [1]), (((3, 1), (2, 0), (1, 3)), [2]), (((0, 1), (3, 0), (0, 1)), [2]), (((0, 0), (3, 2), (2, 1)), [1]), (((1, 0), (1, 2), (0, 2)), [1]), (((0, 2), (2, 1), (3, 3)), [2]), (((1, 0), (0, 1), (0, 0)), [2]), (((2, 2), (1, 2), (0, 0)), [2]), (((3, 0), (0, 1), (1, 3)), [1]), (((2, 1), (3, 3), (0, 1)), [2]), (((0, 3), (1, 3), (0, 1)), [1]), (((0, 0), (1, 1), (2, 2)), [1]), (((3, 3), (2, 0), (3, 2)), [1]), (((3, 1), (1, 3), (1, 2)), [2]), (((2, 3), (1, 1), (1, 0)), [2]), (((2, 0), (0, 1), (1, 3)), [1]), (((1, 2), (1, 0), (1, 1)), [2]), (((3, 0), (2, 2), (2, 0)), [2]), (((0, 0), (2, 0), (1, 2)), [1]), (((0, 1), (1, 3), (0, 0)), [1]), (((2, 3), (0, 3), (3, 1)), [1]), (((3, 3), (1, 1), (2, 0)), [1]), (((3, 0), (3, 2), (2, 0)), [1]), (((1, 1), (0, 2), (3, 2)), [2]), (((1, 0), (2, 3), (1, 3)), [2]), (((1, 3), (2, 1), (3, 1)), [2]), (((1, 0), (0, 2), (2, 0)), [2]), (((3, 2), (2, 0), (2, 3)), [1]), (((3, 2), (3, 1), (1, 1)), [2]), (((2, 0), (0, 3), (1, 2)), [2]), (((3, 0), (3, 3), (1, 1)), [2]), (((3, 2), (3, 0), (1, 2)), [2]), (((3, 2), (2, 3), (2, 1)), [1])]\n",
            "Reduce output: [((2, 3), (1, 0), (3, 0)), ((3, 1), (0, 3), (1, 3)), ((0, 2), (2, 3), (1, 3)), ((2, 2), (0, 3), (3, 0)), ((0, 3), (0, 1), (0, 3)), ((1, 2), (0, 1), (3, 3)), ((0, 3), (3, 0), (2, 0)), ((3, 1), (0, 1), (0, 2)), ((3, 3), (1, 3), (3, 3)), ((0, 2), (2, 0), (3, 0)), ((3, 1), (2, 1), (3, 0)), ((0, 1), (0, 3), (3, 2)), ((0, 2), (1, 3), (1, 3)), ((0, 0), (1, 0), (3, 2)), ((2, 2), (3, 2), (3, 3)), ((1, 1), (3, 2), (2, 3)), ((3, 3), (2, 1), (1, 2)), ((3, 3), (0, 0), (2, 0)), ((3, 0), (3, 1), (1, 3)), ((0, 2), (0, 1), (2, 3)), ((1, 3), (0, 2), (3, 1)), ((1, 0), (0, 0), (3, 3)), ((0, 2), (0, 3), (3, 0)), ((1, 0), (2, 1), (3, 2)), ((0, 2), (1, 2), (3, 1)), ((0, 0), (0, 2), (1, 1)), ((0, 3), (0, 1), (3, 2)), ((1, 0), (1, 1), (2, 2)), ((0, 1), (1, 0), (0, 0)), ((1, 0), (1, 0), (1, 1)), ((1, 3), (3, 1), (3, 0)), ((3, 2), (0, 3), (1, 0)), ((2, 3), (1, 2), (3, 2)), ((1, 3), (0, 1), (3, 3)), ((0, 1), (1, 0), (2, 2)), ((0, 0), (3, 2), (2, 1)), ((1, 0), (1, 2), (0, 2)), ((3, 0), (0, 1), (1, 3)), ((0, 3), (1, 3), (0, 1)), ((0, 0), (1, 1), (2, 2)), ((3, 3), (2, 0), (3, 2)), ((2, 0), (0, 1), (1, 3)), ((0, 0), (2, 0), (1, 2)), ((0, 1), (1, 3), (0, 0)), ((2, 3), (0, 3), (3, 1)), ((3, 3), (1, 1), (2, 0)), ((3, 0), (3, 2), (2, 0)), ((3, 2), (2, 0), (2, 3)), ((3, 2), (2, 3), (2, 1))]\n"
          ]
        }
      ]
    },
    {
      "cell_type": "markdown",
      "metadata": {
        "id": "j8I58V2VwhSm"
      },
      "source": [
        "### Natural Join\n",
        "\n",
        "**The Map Function:** Для каждого кортежа $(a, b)$ отношения $R$, создайте пару $(b,(R, a))$. Для каждого кортежа $(b, c)$ отношения $S$, создайте пару $(b,(S, c))$.\n",
        "\n",
        "**The Reduce Function:** Каждый ключ $b$ будет асоциирован со списком пар, которые принимают форму либо $(R, a)$, либо $(S, c)$. Создайте все пары, одни, состоящие из  первого компонента $R$, а другие, из первого компонента $S$, то есть $(R, a)$ и $(S, c)$. На выходе вы получаете последовательность пар ключ-значение из списков ключей и значений. Ключ не нужен. Каждое значение, это тройка $(a, b, c)$ такая, что $(R, a)$ и $(S, c)$ это принадлежат входному списку значений."
      ]
    },
    {
      "cell_type": "code",
      "metadata": {
        "colab": {
          "base_uri": "https://localhost:8080/"
        },
        "outputId": "931d8aa0-5f56-4abb-cefe-52b91ef4f053",
        "id": "DfHnpExuAp4X"
      },
      "source": [
        "rels = [1, 2]  # Инициализация списка идентификаторов связей\n",
        "\n",
        "class Tuple:  # Определение класса кортежа, хранящего данные и идентификатор связи из массива rels выше\n",
        "  def __init__(self, data: tuple, rel_id: int):\n",
        "    self.data = data\n",
        "    self.rel_id = rel_id\n",
        "\n",
        "def get_random_tuple():  # Функция для генерации случайного кортежа с данными и идентификатором связи\n",
        "  data = (random.randint(0, 3), random.randint(0, 3))\n",
        "  rel_id = rels[random.randint(0, len(rels) - 1)]\n",
        "  return Tuple(data, rel_id)\n",
        "\n",
        "def RECORDREADER(count):  # Функция для создания списка случайных кортежей заданного количества\n",
        "  return [get_random_tuple() for i in range(count)]\n",
        "\n",
        "def MAP(t: Tuple):  # Функция для преобразования данных кортежа в соответствии с условием\n",
        "  if t.rel_id == rels[0]:\n",
        "    return (t.data[1], (t.rel_id, t.data[0]))\n",
        "  else:\n",
        "    return (t.data[0], (t.rel_id, t.data[1]))\n",
        "\n",
        "def REDUCE(key, values: Iterator[NamedTuple]):  # Функция для объединения данных по ключу\n",
        "  res = []\n",
        "  for v in values:\n",
        "    res.append((v[0], key, v[1]))\n",
        "  return res\n",
        "\n",
        "def group_by_key(iterable):  # Функция для группировки данных по ключу\n",
        "  t = {}\n",
        "  for (k2, v2) in iterable:\n",
        "    t[k2] = t.get(k2, []) + [v2]\n",
        "  return t.items()\n",
        "\n",
        "record = RECORDREADER(100)  # Создание списка случайных кортежей\n",
        "\n",
        "map_output = list(map(lambda x: MAP(x), RECORDREADER(100)))  # Применение функции MAP к каждому элементу\n",
        "print(\"MAP output:\", map_output)\n",
        "\n",
        "shuffle_output = group_by_key(map_output)  # Группировка данных по ключу\n",
        "shuffle_output = list(shuffle_output)\n",
        "print(\"Shuffle output:\", shuffle_output)\n",
        "\n",
        "reduce_output = list(map(lambda x: REDUCE(*x), shuffle_output))  # Применение функции REDUCE к каждой группе\n",
        "print(\"Reduce output:\", reduce_output)"
      ],
      "execution_count": null,
      "outputs": [
        {
          "output_type": "stream",
          "name": "stdout",
          "text": [
            "MAP output: [(2, (2, 2)), (1, (2, 0)), (2, (2, 0)), (0, (2, 0)), (3, (2, 1)), (3, (1, 1)), (3, (1, 3)), (2, (2, 0)), (0, (2, 1)), (3, (1, 3)), (3, (1, 3)), (0, (2, 0)), (1, (2, 3)), (1, (2, 1)), (3, (2, 1)), (1, (1, 1)), (0, (2, 1)), (0, (2, 2)), (2, (1, 3)), (2, (1, 1)), (1, (2, 0)), (3, (2, 3)), (1, (1, 2)), (3, (1, 2)), (2, (1, 1)), (2, (2, 1)), (0, (2, 1)), (0, (2, 3)), (1, (1, 3)), (3, (2, 2)), (0, (2, 2)), (2, (2, 1)), (1, (1, 3)), (1, (1, 3)), (1, (2, 0)), (2, (2, 0)), (0, (2, 0)), (2, (1, 2)), (2, (2, 3)), (0, (1, 3)), (1, (1, 1)), (3, (2, 2)), (1, (2, 0)), (1, (1, 2)), (0, (1, 2)), (2, (1, 2)), (0, (2, 2)), (0, (2, 2)), (1, (2, 3)), (1, (2, 3)), (1, (2, 0)), (1, (2, 1)), (2, (2, 0)), (3, (2, 3)), (2, (2, 3)), (2, (1, 0)), (1, (2, 0)), (3, (1, 1)), (3, (1, 3)), (2, (1, 1)), (3, (2, 2)), (2, (1, 3)), (1, (2, 3)), (2, (2, 1)), (0, (1, 1)), (1, (1, 2)), (1, (2, 2)), (1, (2, 1)), (1, (2, 2)), (0, (1, 3)), (2, (1, 0)), (2, (2, 1)), (3, (2, 2)), (2, (2, 0)), (0, (2, 3)), (3, (2, 2)), (1, (2, 0)), (3, (1, 1)), (3, (1, 3)), (3, (2, 2)), (2, (2, 2)), (2, (1, 2)), (0, (2, 3)), (1, (1, 2)), (3, (1, 3)), (0, (2, 3)), (1, (1, 0)), (0, (2, 1)), (0, (2, 0)), (1, (1, 2)), (1, (1, 0)), (3, (1, 1)), (1, (1, 3)), (0, (1, 0)), (3, (2, 1)), (1, (1, 2)), (2, (2, 0)), (2, (2, 3)), (1, (1, 0)), (1, (2, 3))]\n",
            "Shuffle output: [(2, [(2, 2), (2, 0), (2, 0), (1, 3), (1, 1), (1, 1), (2, 1), (2, 1), (2, 0), (1, 2), (2, 3), (1, 2), (2, 0), (2, 3), (1, 0), (1, 1), (1, 3), (2, 1), (1, 0), (2, 1), (2, 0), (2, 2), (1, 2), (2, 0), (2, 3)]), (1, [(2, 0), (2, 3), (2, 1), (1, 1), (2, 0), (1, 2), (1, 3), (1, 3), (1, 3), (2, 0), (1, 1), (2, 0), (1, 2), (2, 3), (2, 3), (2, 0), (2, 1), (2, 0), (2, 3), (1, 2), (2, 2), (2, 1), (2, 2), (2, 0), (1, 2), (1, 0), (1, 2), (1, 0), (1, 3), (1, 2), (1, 0), (2, 3)]), (0, [(2, 0), (2, 1), (2, 0), (2, 1), (2, 2), (2, 1), (2, 3), (2, 2), (2, 0), (1, 3), (1, 2), (2, 2), (2, 2), (1, 1), (1, 3), (2, 3), (2, 3), (2, 3), (2, 1), (2, 0), (1, 0)]), (3, [(2, 1), (1, 1), (1, 3), (1, 3), (1, 3), (2, 1), (2, 3), (1, 2), (2, 2), (2, 2), (2, 3), (1, 1), (1, 3), (2, 2), (2, 2), (2, 2), (1, 1), (1, 3), (2, 2), (1, 3), (1, 1), (2, 1)])]\n",
            "Reduce output: [[(2, 2, 2), (2, 2, 0), (2, 2, 0), (1, 2, 3), (1, 2, 1), (1, 2, 1), (2, 2, 1), (2, 2, 1), (2, 2, 0), (1, 2, 2), (2, 2, 3), (1, 2, 2), (2, 2, 0), (2, 2, 3), (1, 2, 0), (1, 2, 1), (1, 2, 3), (2, 2, 1), (1, 2, 0), (2, 2, 1), (2, 2, 0), (2, 2, 2), (1, 2, 2), (2, 2, 0), (2, 2, 3)], [(2, 1, 0), (2, 1, 3), (2, 1, 1), (1, 1, 1), (2, 1, 0), (1, 1, 2), (1, 1, 3), (1, 1, 3), (1, 1, 3), (2, 1, 0), (1, 1, 1), (2, 1, 0), (1, 1, 2), (2, 1, 3), (2, 1, 3), (2, 1, 0), (2, 1, 1), (2, 1, 0), (2, 1, 3), (1, 1, 2), (2, 1, 2), (2, 1, 1), (2, 1, 2), (2, 1, 0), (1, 1, 2), (1, 1, 0), (1, 1, 2), (1, 1, 0), (1, 1, 3), (1, 1, 2), (1, 1, 0), (2, 1, 3)], [(2, 0, 0), (2, 0, 1), (2, 0, 0), (2, 0, 1), (2, 0, 2), (2, 0, 1), (2, 0, 3), (2, 0, 2), (2, 0, 0), (1, 0, 3), (1, 0, 2), (2, 0, 2), (2, 0, 2), (1, 0, 1), (1, 0, 3), (2, 0, 3), (2, 0, 3), (2, 0, 3), (2, 0, 1), (2, 0, 0), (1, 0, 0)], [(2, 3, 1), (1, 3, 1), (1, 3, 3), (1, 3, 3), (1, 3, 3), (2, 3, 1), (2, 3, 3), (1, 3, 2), (2, 3, 2), (2, 3, 2), (2, 3, 3), (1, 3, 1), (1, 3, 3), (2, 3, 2), (2, 3, 2), (2, 3, 2), (1, 3, 1), (1, 3, 3), (2, 3, 2), (1, 3, 3), (1, 3, 1), (2, 3, 1)]]\n"
          ]
        }
      ]
    },
    {
      "cell_type": "markdown",
      "metadata": {
        "id": "kYdlr0YUxE27"
      },
      "source": [
        "### Grouping and Aggregation (Группировка и аггрегация)\n",
        "\n",
        "**The Map Function:** Для каждого кортежа $(a, b, c$) создайте пару $(a, b)$.\n",
        "\n",
        "**The Reduce Function:** Ключ представляет ту или иную группу. Примение аггрегирующую операцию $\\theta$ к списку значений $[b1, b2, . . . , bn]$ ассоциированных с ключом $a$. Возвращайте в выходной поток $(a, x)$, где $x$ результат применения  $\\theta$ к списку. Например, если $\\theta$ это $SUM$, тогда $x = b1 + b2 + · · · + bn$, а если $\\theta$ is $MAX$, тогда $x$ это максимальное из значений $b1, b2, . . . , bn$."
      ]
    },
    {
      "cell_type": "code",
      "metadata": {
        "colab": {
          "base_uri": "https://localhost:8080/"
        },
        "outputId": "243c8823-9672-4bd2-8abb-3e4db0bb59a5",
        "id": "slMKG7bvAuo7"
      },
      "source": [
        "def get_random_tuple():  # Функция для генерации случайного кортежа с тремя случайными значениями от 0 до 3\n",
        "  return (random.randint(0, 3), random.randint(0, 3), random.randint(0, 3))\n",
        "\n",
        "def RECORDREADER(count):  # Функция для создания списка случайных кортежей заданного количества\n",
        "  return [get_random_tuple() for i in range(count)]\n",
        "\n",
        "def MAP(t: Tuple):  # Функция для преобразования входного кортежа, возвращающая первые два элемента кортежа\n",
        "  return (t[0], t[1])\n",
        "\n",
        "def tetta(values):  # Функция для вычисления суммы значений в переданном списке\n",
        "  return sum(values)\n",
        "\n",
        "def REDUCE(key, values: Iterator[NamedTuple]):  # Функция для вычисления суммы значений в переданных значениях и возврата пары (ключ, сумма)\n",
        "  x = tetta(values)\n",
        "  return (key, x)\n",
        "\n",
        "def group_by_key(iterable):  # Функция для группировки данных по ключу\n",
        "  t = {}\n",
        "  for (k2, v2) in iterable:\n",
        "    t[k2] = t.get(k2, []) + [v2]\n",
        "  return t.items()\n",
        "\n",
        "record = RECORDREADER(100)  # Создание списка случайных кортежей\n",
        "\n",
        "map_output = list(map(lambda x: MAP(x), RECORDREADER(100)))  # Применение функции MAP к каждому элементу\n",
        "print(\"MAP output:\", map_output)\n",
        "\n",
        "shuffle_output = group_by_key(map_output)  # Группировка данных по ключу\n",
        "shuffle_output = list(shuffle_output)\n",
        "print(\"Shuffle output:\", shuffle_output)\n",
        "\n",
        "reduce_output = list(map(lambda x: REDUCE(*x), shuffle_output))  # Применение функции REDUCE к каждой группе\n",
        "print(\"Reduce output:\", reduce_output)"
      ],
      "execution_count": null,
      "outputs": [
        {
          "output_type": "stream",
          "name": "stdout",
          "text": [
            "MAP output: [(2, 1), (1, 3), (2, 0), (2, 3), (0, 1), (3, 0), (2, 0), (1, 3), (2, 0), (3, 2), (3, 2), (0, 1), (3, 3), (0, 3), (3, 3), (1, 1), (0, 2), (1, 3), (3, 3), (2, 3), (0, 2), (0, 0), (1, 0), (3, 1), (3, 3), (0, 3), (0, 0), (3, 1), (3, 2), (3, 3), (3, 1), (2, 0), (2, 3), (1, 3), (2, 1), (2, 0), (1, 0), (1, 0), (2, 0), (3, 0), (2, 1), (1, 1), (1, 1), (0, 0), (2, 2), (1, 0), (2, 3), (0, 0), (0, 1), (1, 3), (1, 0), (1, 2), (2, 3), (1, 3), (0, 0), (2, 1), (3, 1), (1, 2), (1, 2), (3, 2), (0, 1), (3, 0), (3, 0), (3, 3), (1, 1), (3, 2), (3, 2), (2, 3), (0, 1), (0, 0), (1, 3), (1, 1), (2, 3), (2, 0), (2, 3), (1, 0), (1, 3), (2, 3), (0, 2), (0, 0), (0, 3), (0, 3), (1, 3), (3, 3), (2, 2), (2, 0), (1, 3), (0, 3), (0, 3), (2, 2), (1, 3), (2, 3), (0, 2), (0, 1), (0, 2), (0, 2), (0, 2), (3, 3), (0, 0), (3, 1)]\n",
            "Shuffle output: [(2, [1, 0, 3, 0, 0, 3, 0, 3, 1, 0, 0, 1, 2, 3, 3, 1, 3, 3, 0, 3, 3, 2, 0, 2, 3]), (1, [3, 3, 1, 3, 0, 3, 0, 0, 1, 1, 0, 3, 0, 2, 3, 2, 2, 1, 3, 1, 0, 3, 3, 3, 3]), (0, [1, 1, 3, 2, 2, 0, 3, 0, 0, 0, 1, 0, 1, 1, 0, 2, 0, 3, 3, 3, 3, 2, 1, 2, 2, 2, 0]), (3, [0, 2, 2, 3, 3, 3, 1, 3, 1, 2, 3, 1, 0, 1, 2, 0, 0, 3, 2, 2, 3, 3, 1])]\n",
            "Reduce output: [(2, 40), (1, 44), (0, 38), (3, 41)]\n"
          ]
        }
      ]
    },
    {
      "cell_type": "markdown",
      "metadata": {
        "id": "03IffTEOJgOb"
      },
      "source": [
        "#"
      ]
    },
    {
      "cell_type": "markdown",
      "metadata": {
        "id": "IIrRgvG4RIS4"
      },
      "source": [
        "### Matrix-Vector multiplication\n",
        "\n",
        "Случай, когда вектор не помещается в памяти Map задачи\n"
      ]
    },
    {
      "cell_type": "markdown",
      "metadata": {
        "id": "GIo2t7nNxvA9"
      },
      "source": [
        "## Matrix multiplication (Перемножение матриц)\n",
        "\n",
        "Если у нас есть матрица $M$ с элементами $m_{ij}$ в строке $i$ и столбце $j$, и матрица $N$ с элементами $n_{jk}$ в строке $j$ и столбце $k$, тогда их произведение $P = MN$ есть матрица $P$ с элементами $p_{ik}$ в строке $i$ и столбце $k$, где\n",
        "\n",
        "$$p_{ik} =\\sum_{j} m_{ij}n_{jk}$$\n",
        "\n",
        "Необходимым требованием является одинаковое количество столбцов в $M$ и строк в $N$, чтобы операция суммирования по  $j$ была осмысленной. Мы можем размышлять о матрице, как об отношении с тремя атрибутами: номер строки, номер столбца, само значение. Таким образом матрица $M$ предстваляется как отношение $ M(I, J, V )$, с кортежами $(i, j, m_{ij})$, и, аналогично, матрица $N$ представляется как отношение $N(J, K, W)$, с кортежами $(j, k, n_{jk})$. Так как большие матрицы как правило разреженные (большинство значений равно 0), и так как мы можем нулевыми значениями пренебречь (не хранить), такое реляционное представление достаточно эффективно для больших матриц. Однако, возможно, что координаты $i$, $j$, и $k$ неявно закодированы в смещение позиции элемента относительно начала файла, вместо явного хранения. Тогда, функция Map (или Reader) должна быть разработана таким образом, чтобы реконструировать компоненты $I$, $J$, и $K$ кортежей из смещения.\n",
        "\n",
        "Произведение $MN$ это фактически join, за которым следуют группировка по ключу и аггрегация. Таким образом join отношений $M(I, J, V )$ и $N(J, K, W)$, имеющих общим только атрибут $J$, создаст кортежи $(i, j, k, v, w)$ из каждого кортежа $(i, j, v) \\in M$ и кортежа $(j, k, w) \\in N$. Такой 5 компонентный кортеж представляет пару элементов матрицы $(m_{ij} , n_{jk})$. Что нам хотелось бы получить на самом деле, это произведение этих элементов, то есть, 4 компонентный кортеж$(i, j, k, v \\times w)$, так как он представляет произведение $m_{ij}n_{jk}$. Мы представляем отношение как результат одной MapReduce операции, в которой мы можем произвести группировку и аггрегацию, с $I$ и $K$  атрибутами, по которым идёт группировка, и суммой  $V \\times W$.\n",
        "\n",
        "\n",
        "\n"
      ]
    },
    {
      "cell_type": "code",
      "metadata": {
        "id": "1MBkGaLAYVCt"
      },
      "source": [
        "# MapReduce model\n",
        "def flatten(nested_iterable):\n",
        "  for iterable in nested_iterable:\n",
        "    for element in iterable:\n",
        "      yield element\n",
        "\n",
        "def groupbykey(iterable):\n",
        "  t = {}\n",
        "  for (k2, v2) in iterable:\n",
        "    t[k2] = t.get(k2, []) + [v2]\n",
        "  return t.items()\n",
        "\n",
        "def MapReduce(RECORDREADER, MAP, REDUCE):\n",
        "  return flatten(map(lambda x: REDUCE(*x), groupbykey(flatten(map(lambda x: MAP(*x), RECORDREADER())))))"
      ],
      "execution_count": null,
      "outputs": []
    },
    {
      "cell_type": "markdown",
      "metadata": {
        "id": "sMspsOT0ZB35"
      },
      "source": [
        "Реализуйте перемножение матриц с использованием модельного кода MapReduce для одной машины в случае, когда одна матрица хранится в памяти, а другая генерируется RECORDREADER-ом."
      ]
    },
    {
      "cell_type": "code",
      "metadata": {
        "id": "psP1XekbsEjS"
      },
      "source": [
        "import numpy as np\n",
        "I = 2\n",
        "J = 3\n",
        "K = 4*10\n",
        "small_mat = np.random.rand(I,J) # it is legal to access this from RECORDREADER, MAP, REDUCE\n",
        "big_mat = np.random.rand(J,K)\n",
        "\n",
        "def RECORDREADER():\n",
        "  for j in range(big_mat.shape[0]):\n",
        "    for k in range(big_mat.shape[1]):\n",
        "      yield ((j,k), big_mat[j,k])\n",
        "\n",
        "def MAP(k1, v1):\n",
        "  (j, k) = k1\n",
        "  w = v1\n",
        "  for i in range(small_mat.shape[0]):\n",
        "    yield ((i, k), w * small_mat[i][j])\n",
        "\n",
        "def REDUCE(key, values):\n",
        "  (i, k) = key\n",
        "  el_value = 0\n",
        "  for v in values:\n",
        "    el_value += v\n",
        "  yield ((i, k), el_value)"
      ],
      "execution_count": null,
      "outputs": []
    },
    {
      "cell_type": "markdown",
      "metadata": {
        "id": "rnt306LHhHrm"
      },
      "source": [
        "Проверьте своё решение"
      ]
    },
    {
      "cell_type": "code",
      "metadata": {
        "id": "Ewy_ZNYqW5a2",
        "colab": {
          "base_uri": "https://localhost:8080/"
        },
        "outputId": "13f3ce10-1f2a-480e-a76e-45f3a239dfe1"
      },
      "source": [
        "# CHECK THE SOLUTION\n",
        "reference_solution = np.matmul(small_mat, big_mat)\n",
        "solution = MapReduce(RECORDREADER, MAP, REDUCE)\n",
        "\n",
        "def asmatrix(reduce_output):\n",
        "  reduce_output = list(reduce_output)\n",
        "  I = max(i for ((i,k), vw) in reduce_output)+1\n",
        "  K = max(k for ((i,k), vw) in reduce_output)+1\n",
        "  mat = np.empty(shape=(I,K))\n",
        "  for ((i,k), vw) in reduce_output:\n",
        "    mat[i,k] = vw\n",
        "  return mat\n",
        "\n",
        "np.allclose(reference_solution, asmatrix(solution)) # should return true"
      ],
      "execution_count": null,
      "outputs": [
        {
          "output_type": "execute_result",
          "data": {
            "text/plain": [
              "True"
            ]
          },
          "metadata": {},
          "execution_count": 13
        }
      ]
    },
    {
      "cell_type": "code",
      "metadata": {
        "id": "TK7v4CEcfxqf",
        "colab": {
          "base_uri": "https://localhost:8080/"
        },
        "outputId": "7a48d228-7238-4e93-bda3-cba85fe874bb"
      },
      "source": [
        "reduce_output = list(MapReduce(RECORDREADER, MAP, REDUCE))\n",
        "max(i for ((i,k), vw) in reduce_output)"
      ],
      "execution_count": null,
      "outputs": [
        {
          "output_type": "execute_result",
          "data": {
            "text/plain": [
              "1"
            ]
          },
          "metadata": {},
          "execution_count": 14
        }
      ]
    },
    {
      "cell_type": "markdown",
      "metadata": {
        "id": "i4yyg3kOZqJJ"
      },
      "source": [
        "Реализуйте перемножение матриц  с использованием модельного кода MapReduce для одной машины в случае, когда обе матрицы генерируются в RECORDREADER. Например, сначала одна, а потом другая."
      ]
    },
    {
      "cell_type": "code",
      "metadata": {
        "id": "3B7rIAJCaHZq"
      },
      "source": [],
      "execution_count": null,
      "outputs": []
    },
    {
      "cell_type": "code",
      "metadata": {
        "colab": {
          "base_uri": "https://localhost:8080/"
        },
        "outputId": "060b99d5-47ce-4940-c312-f08f4a5f8c12",
        "id": "7vuWagrPBUzv"
      },
      "source": [
        "import numpy as np  # Импорт библиотеки numpy под псевдонимом np\n",
        "I = 2  # Задание значения переменной I равным 2\n",
        "J = 3  # Задание значения переменной J равным 3\n",
        "K = 4*10  # Задание значения переменной K равным 40\n",
        "small_mat = np.random.rand(I,J)  # Создание случайной матрицы размером IxJ\n",
        "big_mat = np.random.rand(J,K)  # Создание случайной матрицы размером JxK\n",
        "reference_solution = np.matmul(small_mat, big_mat)  # Вычисление матричного произведения small_mat и big_mat\n",
        "\n",
        "def RECORDREADER():  # Определение функции RECORDREADER без аргументов\n",
        "  for i in range(small_mat.shape[0]):  # Цикл по строкам матрицы small_mat\n",
        "    for j in range(small_mat.shape[1]):  # Цикл по столбцам матрицы small_mat\n",
        "      yield ((0, i, j), small_mat[i,j])  # Генерация кортежа для первой матрицы\n",
        "\n",
        "  for j in range(big_mat.shape[0]):  # Цикл по строкам матрицы big_mat\n",
        "    for k in range(big_mat.shape[1]):  # Цикл по столбцам матрицы big_mat\n",
        "      yield ((1, j, k), big_mat[j,k])  # Генерация кортежа для второй матрицы\n",
        "\n",
        "def MAP_JOIN(k1, v1):  # Определение функции MAP_JOIN с ключем k1 и значением v1\n",
        "  (mat_num, i, j) = k1  # Распаковка ключа\n",
        "  w = v1  # Присвоение значения из значения\n",
        "  if mat_num == 0:  # Если номер матрицы равен 0\n",
        "    yield (j, (mat_num, i, w))  # Генерация значения для первой матрицы\n",
        "  else:  # Иначе\n",
        "    yield (i, (mat_num, j, w))  # Генерация значения для второй матрицы\n",
        "\n",
        "def REDUCE_JOIN(key, values):  # Определение функции REDUCE_JOIN с ключем key и значениями values\n",
        "  from_first_mat = [v for v in values if v[0] == 0]  # Фильтрация значений для первой матрицы\n",
        "  from_second_mat = [v for v in values if v[0] == 1]  # Фильтрация значений для второй матрицы\n",
        "  for f in from_first_mat:  # Цикл по элементам из первой матрицы\n",
        "    for s in from_second_mat:  # Цикл по элементам из второй матрицы\n",
        "      yield ((f[1], s[1]), f[2] * s[2])  # Генерация умноженных значений\n",
        "\n",
        "\n",
        "def MAP_MUL(k1, v1):  # Определение функции MAP_MUL с ключем k1 и значением v1\n",
        "  (i, k) = k1  # Распаковка ключа\n",
        "  yield ((i, k), v1)  # Генерация кортежа с ключом (i, k) и значением v1\n",
        "\n",
        "def REDUCE_MUL(key, values):  # Определение функции REDUCE_MUL с ключем key и значениями values\n",
        "  res_el_value = 0  # Инициализация переменной для хранения результата\n",
        "  for v in values:  # Цикл по значениям\n",
        "    res_el_value += v  # Суммирование значений\n",
        "  yield (key, res_el_value)  # Генерация кортежа с ключом key и суммой значений\n",
        "\n",
        "def GET_JOINED():  # Определение функции GET_JOINED без аргументов\n",
        "  for j in joined:  # Цикл по элементам из joined\n",
        "    yield j  # Генерация элемента\n",
        "\n",
        "\n",
        "joined = MapReduce(RECORDREADER, MAP_JOIN, REDUCE_JOIN)  # Применение MapReduce к функциям RECORDREADER, MAP_JOIN и REDUCE_JOIN\n",
        "solution = MapReduce(GET_JOINED, MAP_MUL, REDUCE_MUL)  # Применение MapReduce к функциям GET_JOINED, MAP_MUL и REDUCE_MUL\n",
        "np.allclose(reference_solution, asmatrix(solution))  # Проверка на равенство решения с эталонным значением и вывод результата (True/False)"
      ],
      "execution_count": null,
      "outputs": [
        {
          "output_type": "execute_result",
          "data": {
            "text/plain": [
              "True"
            ]
          },
          "metadata": {},
          "execution_count": 15
        }
      ]
    },
    {
      "cell_type": "markdown",
      "metadata": {
        "id": "mXyzQi1DaIwo"
      },
      "source": [
        "Реализуйте перемножение матриц с использованием модельного кода MapReduce Distributed, когда каждая матрица генерируется в своём RECORDREADER."
      ]
    },
    {
      "cell_type": "code",
      "metadata": {
        "colab": {
          "base_uri": "https://localhost:8080/"
        },
        "outputId": "976f76fc-2060-4c80-9697-d2a00e99516a",
        "id": "FpBR1iBTBjjQ"
      },
      "source": [
        "# Определение размеров матриц\n",
        "I = 2\n",
        "J = 3\n",
        "K = 4*10\n",
        "\n",
        "# Генерация случайных матриц\n",
        "small_mat = np.random.rand(I, J)\n",
        "big_mat = np.random.rand(J, K)\n",
        "\n",
        "# Получение эталонного решения через умножение матриц\n",
        "reference_solution = np.matmul(small_mat, big_mat)\n",
        "\n",
        "# Функция для \"разглаживания\" вложенных итерируемых объектов\n",
        "def flatten(nested_iterable):\n",
        "  for iterable in nested_iterable:\n",
        "    for element in iterable:\n",
        "      yield element\n",
        "\n",
        "# Функция для группировки элементов по ключу\n",
        "def groupbykey(iterable):\n",
        "  t = {}\n",
        "  for (k2, v2) in iterable:\n",
        "    t[k2] = t.get(k2, []) + [v2]\n",
        "  return t.items()\n",
        "\n",
        "# Функция для распределенной группировки элементов по ключу\n",
        "def groupbykey_distributed(map_partitions, PARTITIONER):\n",
        "  global reducers\n",
        "  partitions = [dict() for _ in range(reducers)]\n",
        "  for map_partition in map_partitions:\n",
        "    for (k2, v2) in map_partition:\n",
        "      p = partitions[PARTITIONER(k2)]\n",
        "      p[k2] = p.get(k2, []) + [v2]\n",
        "  return [(partition_id, sorted(partition.items(), key=lambda x: x[0])) for (partition_id, partition) in enumerate(partitions)]\n",
        "\n",
        "# Функция для определения разделителя (по ключу)\n",
        "def PARTITIONER(obj):\n",
        "  global reducers\n",
        "  return hash(obj) % reducers\n",
        "\n",
        "# Функция для выполнения MapReduce на распределенных данных\n",
        "def MapReduceDistributed(INPUTFORMAT, MAP, REDUCE, PARTITIONER=PARTITIONER, COMBINER=None):\n",
        "  # Разделение данных на части и применение MAP функции\n",
        "  map_partitions = map(lambda record_reader: flatten(map(lambda k1v1: MAP(*k1v1), record_reader)), INPUTFORMAT())\n",
        "\n",
        "  # Применение COMBINER (если есть)\n",
        "  if COMBINER != None:\n",
        "    map_partitions = map(lambda map_partition: flatten(map(lambda k2v2: COMBINER(*k2v2), groupbykey(map_partition))), map_partitions)\n",
        "\n",
        "  # Распределенная группировка данных по ключу (shuffle)\n",
        "  reduce_partitions = groupbykey_distributed(map_partitions, PARTITIONER)\n",
        "\n",
        "  # Применение REDUCE функции\n",
        "  reduce_outputs = map(lambda reduce_partition: (reduce_partition[0], flatten(map(lambda reduce_input_group: REDUCE(*reduce_input_group), reduce_partition[1]))), reduce_partitions)\n",
        "\n",
        "  print(\"{} key-value pairs were sent over a network.\".format(sum([len(vs) for (k,vs) in flatten([partition for (partition_id, partition) in reduce_partitions])])))\n",
        "  return reduce_outputs\n",
        "\n",
        "# Преобразование результата REDUCE в матрицу\n",
        "def asmatrix(reduce_output):\n",
        "  reduce_output = list(reduce_output)\n",
        "  I = max(i for ((i,k), vw) in reduce_output) + 1\n",
        "  K = max(k for ((i,k), vw) in reduce_output) + 1\n",
        "  mat = np.empty(shape=(I,K))\n",
        "  for ((i,k), vw) in reduce_output:\n",
        "    mat[i,k] = vw\n",
        "  return mat\n",
        "\n",
        "# Генератор для вводных данных\n",
        "def INPUTFORMAT():\n",
        "  first_mat = []\n",
        "  for i in range(small_mat.shape[0]):\n",
        "    for j in range(small_mat.shape[1]):\n",
        "      first_mat.append(((0, i, j), small_mat[i,j])) # первая матрица\n",
        "  yield first_mat\n",
        "\n",
        "  second_mat = []\n",
        "  for j in range(big_mat.shape[0]):\n",
        "    for k in range(big_mat.shape[1]):\n",
        "      second_mat.append(((1, j, k), big_mat[j,k])) # вторая матрица\n",
        "  yield second_mat\n",
        "\n",
        "# MAP функция для соединения матриц\n",
        "def MAP_JOIN(k1, v1):\n",
        "  (mat_num, i, j) = k1\n",
        "  w = v1\n",
        "  if mat_num == 0:\n",
        "    yield (j, (mat_num, i, w))\n",
        "  else:\n",
        "    yield (i, (mat_num, j, w))\n",
        "\n",
        "# REDUCE функция для соединения матриц\n",
        "def REDUCE_JOIN(key, values):\n",
        "  from_first_mat = [v for v in values if v[0] == 0]\n",
        "  from_second_mat = [v for v in values if v[0] == 1]\n",
        "  for f in from_first_mat:\n",
        "    for s in from_second_mat:\n",
        "      yield ((f[1], s[1]), f[2] * s[2])\n",
        "\n",
        "# Генератор для получения соединенных данных\n",
        "def GET_JOINED():\n",
        "  for j in joined:\n",
        "    print(\"aa\", j)\n",
        "    yield j[1]\n",
        "\n",
        "# MAP функция для умножения значений\n",
        "def MAP_MUL(k1, v1):\n",
        "  yield (k1, v1)\n",
        "\n",
        "# REDUCE функция для умножения значений\n",
        "def REDUCE_MUL(key, values):\n",
        "  res_val = 0\n",
        "  for v in values:\n",
        "    res_val += v\n",
        "  yield (key, res_val)\n",
        "\n",
        "maps = 4\n",
        "reducers = 2\n",
        "\n",
        "# Выполнение MapReduce для соединения матриц\n",
        "partitioned_output = MapReduceDistributed(INPUTFORMAT, MAP_JOIN, REDUCE_JOIN, COMBINER=None)\n",
        "joined = [(partition_id, list(partition)) for (partition_id, partition) in partitioned_output]\n",
        "print(joined)\n",
        "\n",
        "# Выполнение MapReduce для умножения значений\n",
        "mul_output = MapReduceDistributed(GET_JOINED, MAP_MUL, REDUCE_MUL, COMBINER=None)\n",
        "pre_result = [(partition_id, list(partition)) for (partition_id, partition) in mul_output]\n",
        "print(pre_result)\n",
        "\n",
        "solution = []\n",
        "for p in pre_result:\n",
        "  for v in p[1]:\n",
        "    solution.append(v)\n",
        "\n",
        "print(solution)\n",
        "\n",
        "# Проверка результата на соответствие эталонному решению\n",
        "np.allclose(reference_solution, asmatrix(solution))"
      ],
      "execution_count": null,
      "outputs": [
        {
          "output_type": "stream",
          "name": "stdout",
          "text": [
            "126 key-value pairs were sent over a network.\n",
            "[(0, [((0, 0), np.float64(0.45938386296408557)), ((0, 1), np.float64(0.787565422984907)), ((0, 2), np.float64(0.3585721275216027)), ((0, 3), np.float64(0.26753092150958413)), ((0, 4), np.float64(0.3166990479891589)), ((0, 5), np.float64(0.3073856677102319)), ((0, 6), np.float64(0.7370928293985097)), ((0, 7), np.float64(0.7184770557532335)), ((0, 8), np.float64(0.6479915222666255)), ((0, 9), np.float64(0.21938338093696652)), ((0, 10), np.float64(0.6491204930660994)), ((0, 11), np.float64(0.058869849144266635)), ((0, 12), np.float64(0.7778172690659882)), ((0, 13), np.float64(0.02938890496729565)), ((0, 14), np.float64(0.09222288230695881)), ((0, 15), np.float64(0.05951739174559431)), ((0, 16), np.float64(0.6074969031310858)), ((0, 17), np.float64(0.47957605282021804)), ((0, 18), np.float64(0.7669131501721967)), ((0, 19), np.float64(0.24709687053831195)), ((0, 20), np.float64(0.6897003102262317)), ((0, 21), np.float64(0.7416751715389025)), ((0, 22), np.float64(0.7045897127650086)), ((0, 23), np.float64(0.11456297521142275)), ((0, 24), np.float64(0.31592266258835794)), ((0, 25), np.float64(0.24694103474168025)), ((0, 26), np.float64(0.32300768063509544)), ((0, 27), np.float64(0.26987722625893384)), ((0, 28), np.float64(0.677652834347822)), ((0, 29), np.float64(0.41225653217474145)), ((0, 30), np.float64(0.3852732327387439)), ((0, 31), np.float64(0.6950105787048294)), ((0, 32), np.float64(0.5275299695070402)), ((0, 33), np.float64(0.698799860655138)), ((0, 34), np.float64(0.2439835486826004)), ((0, 35), np.float64(0.07340673277237338)), ((0, 36), np.float64(0.5976896036954316)), ((0, 37), np.float64(0.02604202810917825)), ((0, 38), np.float64(0.8093342961085064)), ((0, 39), np.float64(0.27920164625089305)), ((1, 0), np.float64(0.09598195710412467)), ((1, 1), np.float64(0.16455099262278378)), ((1, 2), np.float64(0.07491872775079142)), ((1, 3), np.float64(0.05589691650611454)), ((1, 4), np.float64(0.06616992212760645)), ((1, 5), np.float64(0.0642240190637536)), ((1, 6), np.float64(0.15400543649182705)), ((1, 7), np.float64(0.15011592592880432)), ((1, 8), np.float64(0.13538894050985445)), ((1, 9), np.float64(0.04583714831118476)), ((1, 10), np.float64(0.13562482347306462)), ((1, 11), np.float64(0.0123000475002167)), ((1, 12), np.float64(0.16251424957035485)), ((1, 13), np.float64(0.006140408584897761)), ((1, 14), np.float64(0.019268706298238614)), ((1, 15), np.float64(0.01243534264485391)), ((1, 16), np.float64(0.1269281452791802)), ((1, 17), np.float64(0.1002008382117555)), ((1, 18), np.float64(0.16023598349202725)), ((1, 19), np.float64(0.051627501835922955)), ((1, 20), np.float64(0.14410341966237297)), ((1, 21), np.float64(0.15496285402912957)), ((1, 22), np.float64(0.14721435609484113)), ((1, 23), np.float64(0.023936362286463987)), ((1, 24), np.float64(0.06600770704727009)), ((1, 25), np.float64(0.05159494208371251)), ((1, 26), np.float64(0.06748802438766624)), ((1, 27), np.float64(0.056387144700792965)), ((1, 28), np.float64(0.141586264824775)), ((1, 29), np.float64(0.08613534774987239)), ((1, 30), np.float64(0.08049755744465188)), ((1, 31), np.float64(0.1452129274235631)), ((1, 32), np.float64(0.1102201513515581)), ((1, 33), np.float64(0.14600464591202553)), ((1, 34), np.float64(0.050977015937532566)), ((1, 35), np.float64(0.015337329941567227)), ((1, 36), np.float64(0.12487904458228903)), ((1, 37), np.float64(0.0054411245722729516)), ((1, 38), np.float64(0.16909930007283844)), ((1, 39), np.float64(0.05833535436125951)), ((0, 0), np.float64(0.11787026749626527)), ((0, 1), np.float64(0.5779746117359446)), ((0, 2), np.float64(0.45653022717716324)), ((0, 3), np.float64(0.2443580551036924)), ((0, 4), np.float64(0.0969560176814779)), ((0, 5), np.float64(0.18995759812015398)), ((0, 6), np.float64(0.641454563197021)), ((0, 7), np.float64(0.546894592989633)), ((0, 8), np.float64(0.4726764083614582)), ((0, 9), np.float64(0.12164420539389056)), ((0, 10), np.float64(0.42566852622462414)), ((0, 11), np.float64(0.09348735080893289)), ((0, 12), np.float64(0.191627511220071)), ((0, 13), np.float64(0.7335967085290033)), ((0, 14), np.float64(0.19559709841904938)), ((0, 15), np.float64(0.13893849639507908)), ((0, 16), np.float64(0.7815225343838418)), ((0, 17), np.float64(0.061295758612185815)), ((0, 18), np.float64(0.6248935613560457)), ((0, 19), np.float64(0.8097325602253544)), ((0, 20), np.float64(0.5867800142817031)), ((0, 21), np.float64(0.022404339097589286)), ((0, 22), np.float64(0.3120451871953844)), ((0, 23), np.float64(0.8135619754686914)), ((0, 24), np.float64(0.08464391124786438)), ((0, 25), np.float64(0.07794349614836817)), ((0, 26), np.float64(0.09529000017850071)), ((0, 27), np.float64(0.7677889922848556)), ((0, 28), np.float64(0.40246316910558005)), ((0, 29), np.float64(0.4476560393176331)), ((0, 30), np.float64(0.2175705368143685)), ((0, 31), np.float64(0.2809467715854528)), ((0, 32), np.float64(0.41587074887560804)), ((0, 33), np.float64(0.0383944010443588)), ((0, 34), np.float64(0.07909529704827953)), ((0, 35), np.float64(0.24913865617338699)), ((0, 36), np.float64(0.06428843391267446)), ((0, 37), np.float64(0.5196274314871477)), ((0, 38), np.float64(0.5724197845716227)), ((0, 39), np.float64(0.2778259583757214)), ((1, 0), np.float64(0.02126984761022331)), ((1, 1), np.float64(0.10429629265574582)), ((1, 2), np.float64(0.08238149083547776)), ((1, 3), np.float64(0.04409473826425964)), ((1, 4), np.float64(0.01749584322479368)), ((1, 5), np.float64(0.03427810295372186)), ((1, 6), np.float64(0.11575133490314081)), ((1, 7), np.float64(0.09868786165360294)), ((1, 8), np.float64(0.08529509085159626)), ((1, 9), np.float64(0.021950859757544346)), ((1, 10), np.float64(0.07681245557157129)), ((1, 11), np.float64(0.016869917642737972)), ((1, 12), np.float64(0.03457944100878886)), ((1, 13), np.float64(0.13237850841619328)), ((1, 14), np.float64(0.03529575833453378)), ((1, 15), np.float64(0.025071637727559482)), ((1, 16), np.float64(0.14102678786935408)), ((1, 17), np.float64(0.011060901722951759)), ((1, 18), np.float64(0.11276287994403644)), ((1, 19), np.float64(0.14611732480860762)), ((1, 20), np.float64(0.10588523933647588)), ((1, 21), np.float64(0.004042892991895444)), ((1, 22), np.float64(0.05630897189030075)), ((1, 23), np.float64(0.14680834791725222)), ((1, 24), np.float64(0.015274107131659703)), ((1, 25), np.float64(0.014065008254404338)), ((1, 26), np.float64(0.017195208135411092)), ((1, 27), np.float64(0.1385485518069537)), ((1, 28), np.float64(0.07262501780505806)), ((1, 29), np.float64(0.08078013175276694)), ((1, 30), np.float64(0.039260894717683806)), ((1, 31), np.float64(0.05069722114948231)), ((1, 32), np.float64(0.07504443352870054)), ((1, 33), np.float64(0.006928321082542601)), ((1, 34), np.float64(0.014272852269174297)), ((1, 35), np.float64(0.04495740412900705)), ((1, 36), np.float64(0.01160093398842778)), ((1, 37), np.float64(0.09376746584692006)), ((1, 38), np.float64(0.1032939166554538)), ((1, 39), np.float64(0.050134066226693474))]), (1, [((0, 0), np.float64(0.008798512072911685)), ((0, 1), np.float64(0.059531679724952574)), ((0, 2), np.float64(0.09403096651285622)), ((0, 3), np.float64(0.02798234260816539)), ((0, 4), np.float64(0.017258981512673417)), ((0, 5), np.float64(0.09793570818228822)), ((0, 6), np.float64(0.004943009450298559)), ((0, 7), np.float64(0.07646535496386492)), ((0, 8), np.float64(0.03787728003126642)), ((0, 9), np.float64(0.038661858542999084)), ((0, 10), np.float64(0.060582849034236046)), ((0, 11), np.float64(0.07343966996168465)), ((0, 12), np.float64(0.07264218992361281)), ((0, 13), np.float64(0.04074218803028558)), ((0, 14), np.float64(0.016243802520944983)), ((0, 15), np.float64(0.03788153522971942)), ((0, 16), np.float64(0.015851319796156317)), ((0, 17), np.float64(0.005844158362898453)), ((0, 18), np.float64(0.04963846469462123)), ((0, 19), np.float64(0.03500197675334249)), ((0, 20), np.float64(0.0063928479505009446)), ((0, 21), np.float64(0.06676577318882797)), ((0, 22), np.float64(0.05190267468786668)), ((0, 23), np.float64(0.07266922440457853)), ((0, 24), np.float64(0.038980637966055776)), ((0, 25), np.float64(0.06122215532142223)), ((0, 26), np.float64(0.09066212338331926)), ((0, 27), np.float64(0.0011993557067901028)), ((0, 28), np.float64(0.03569124914348914)), ((0, 29), np.float64(0.08978459546176695)), ((0, 30), np.float64(0.05346675300387146)), ((0, 31), np.float64(0.09367263965959056)), ((0, 32), np.float64(0.06956609229627847)), ((0, 33), np.float64(0.07938495318995802)), ((0, 34), np.float64(0.02300789252017254)), ((0, 35), np.float64(0.0564779484962094)), ((0, 36), np.float64(0.0791374831876189)), ((0, 37), np.float64(0.09017395518786721)), ((0, 38), np.float64(0.09583797130644259)), ((0, 39), np.float64(0.04641096037777677)), ((1, 0), np.float64(0.04033643860194371)), ((1, 1), np.float64(0.27292068524734864)), ((1, 2), np.float64(0.43108133238852026)), ((1, 3), np.float64(0.1282839683800416)), ((1, 4), np.float64(0.07912313381501689)), ((1, 5), np.float64(0.4489824696831325)), ((1, 6), np.float64(0.022661035814753795)), ((1, 7), np.float64(0.35055246502094883)), ((1, 8), np.float64(0.17364692663133455)), ((1, 9), np.float64(0.17724379650031413)), ((1, 10), np.float64(0.27773973032597055)), ((1, 11), np.float64(0.3366813290484232)), ((1, 12), np.float64(0.3330253126304886)), ((1, 13), np.float64(0.1867809866456901)), ((1, 14), np.float64(0.07446908495647098)), ((1, 15), np.float64(0.1736664344242109)), ((1, 16), np.float64(0.07266976307118286)), ((1, 17), np.float64(0.02679231818193989)), ((1, 18), np.float64(0.22756562323915078)), ((1, 19), np.float64(0.16046520986253945)), ((1, 20), np.float64(0.029307764393577525)), ((1, 21), np.float64(0.30608510718917903)), ((1, 22), np.float64(0.23794580645849694)), ((1, 23), np.float64(0.33314925116379657)), ((1, 24), np.float64(0.1787052284468903)), ((1, 25), np.float64(0.28067060529519566)), ((1, 26), np.float64(0.4156370012416087)), ((1, 27), np.float64(0.005498399891701255)), ((1, 28), np.float64(0.16362515249997275)), ((1, 29), np.float64(0.4116140083951066)), ((1, 30), np.float64(0.24511626305835701)), ((1, 31), np.float64(0.4294385967763618)), ((1, 32), np.float64(0.318923061926013)), ((1, 33), np.float64(0.36393725026795887)), ((1, 34), np.float64(0.1054787941767225)), ((1, 35), np.float64(0.2589209724329211)), ((1, 36), np.float64(0.36280273360508963)), ((1, 37), np.float64(0.41339901301358806)), ((1, 38), np.float64(0.4393654760375718)), ((1, 39), np.float64(0.21276925441734582))])]\n",
            "aa (0, [((0, 0), np.float64(0.45938386296408557)), ((0, 1), np.float64(0.787565422984907)), ((0, 2), np.float64(0.3585721275216027)), ((0, 3), np.float64(0.26753092150958413)), ((0, 4), np.float64(0.3166990479891589)), ((0, 5), np.float64(0.3073856677102319)), ((0, 6), np.float64(0.7370928293985097)), ((0, 7), np.float64(0.7184770557532335)), ((0, 8), np.float64(0.6479915222666255)), ((0, 9), np.float64(0.21938338093696652)), ((0, 10), np.float64(0.6491204930660994)), ((0, 11), np.float64(0.058869849144266635)), ((0, 12), np.float64(0.7778172690659882)), ((0, 13), np.float64(0.02938890496729565)), ((0, 14), np.float64(0.09222288230695881)), ((0, 15), np.float64(0.05951739174559431)), ((0, 16), np.float64(0.6074969031310858)), ((0, 17), np.float64(0.47957605282021804)), ((0, 18), np.float64(0.7669131501721967)), ((0, 19), np.float64(0.24709687053831195)), ((0, 20), np.float64(0.6897003102262317)), ((0, 21), np.float64(0.7416751715389025)), ((0, 22), np.float64(0.7045897127650086)), ((0, 23), np.float64(0.11456297521142275)), ((0, 24), np.float64(0.31592266258835794)), ((0, 25), np.float64(0.24694103474168025)), ((0, 26), np.float64(0.32300768063509544)), ((0, 27), np.float64(0.26987722625893384)), ((0, 28), np.float64(0.677652834347822)), ((0, 29), np.float64(0.41225653217474145)), ((0, 30), np.float64(0.3852732327387439)), ((0, 31), np.float64(0.6950105787048294)), ((0, 32), np.float64(0.5275299695070402)), ((0, 33), np.float64(0.698799860655138)), ((0, 34), np.float64(0.2439835486826004)), ((0, 35), np.float64(0.07340673277237338)), ((0, 36), np.float64(0.5976896036954316)), ((0, 37), np.float64(0.02604202810917825)), ((0, 38), np.float64(0.8093342961085064)), ((0, 39), np.float64(0.27920164625089305)), ((1, 0), np.float64(0.09598195710412467)), ((1, 1), np.float64(0.16455099262278378)), ((1, 2), np.float64(0.07491872775079142)), ((1, 3), np.float64(0.05589691650611454)), ((1, 4), np.float64(0.06616992212760645)), ((1, 5), np.float64(0.0642240190637536)), ((1, 6), np.float64(0.15400543649182705)), ((1, 7), np.float64(0.15011592592880432)), ((1, 8), np.float64(0.13538894050985445)), ((1, 9), np.float64(0.04583714831118476)), ((1, 10), np.float64(0.13562482347306462)), ((1, 11), np.float64(0.0123000475002167)), ((1, 12), np.float64(0.16251424957035485)), ((1, 13), np.float64(0.006140408584897761)), ((1, 14), np.float64(0.019268706298238614)), ((1, 15), np.float64(0.01243534264485391)), ((1, 16), np.float64(0.1269281452791802)), ((1, 17), np.float64(0.1002008382117555)), ((1, 18), np.float64(0.16023598349202725)), ((1, 19), np.float64(0.051627501835922955)), ((1, 20), np.float64(0.14410341966237297)), ((1, 21), np.float64(0.15496285402912957)), ((1, 22), np.float64(0.14721435609484113)), ((1, 23), np.float64(0.023936362286463987)), ((1, 24), np.float64(0.06600770704727009)), ((1, 25), np.float64(0.05159494208371251)), ((1, 26), np.float64(0.06748802438766624)), ((1, 27), np.float64(0.056387144700792965)), ((1, 28), np.float64(0.141586264824775)), ((1, 29), np.float64(0.08613534774987239)), ((1, 30), np.float64(0.08049755744465188)), ((1, 31), np.float64(0.1452129274235631)), ((1, 32), np.float64(0.1102201513515581)), ((1, 33), np.float64(0.14600464591202553)), ((1, 34), np.float64(0.050977015937532566)), ((1, 35), np.float64(0.015337329941567227)), ((1, 36), np.float64(0.12487904458228903)), ((1, 37), np.float64(0.0054411245722729516)), ((1, 38), np.float64(0.16909930007283844)), ((1, 39), np.float64(0.05833535436125951)), ((0, 0), np.float64(0.11787026749626527)), ((0, 1), np.float64(0.5779746117359446)), ((0, 2), np.float64(0.45653022717716324)), ((0, 3), np.float64(0.2443580551036924)), ((0, 4), np.float64(0.0969560176814779)), ((0, 5), np.float64(0.18995759812015398)), ((0, 6), np.float64(0.641454563197021)), ((0, 7), np.float64(0.546894592989633)), ((0, 8), np.float64(0.4726764083614582)), ((0, 9), np.float64(0.12164420539389056)), ((0, 10), np.float64(0.42566852622462414)), ((0, 11), np.float64(0.09348735080893289)), ((0, 12), np.float64(0.191627511220071)), ((0, 13), np.float64(0.7335967085290033)), ((0, 14), np.float64(0.19559709841904938)), ((0, 15), np.float64(0.13893849639507908)), ((0, 16), np.float64(0.7815225343838418)), ((0, 17), np.float64(0.061295758612185815)), ((0, 18), np.float64(0.6248935613560457)), ((0, 19), np.float64(0.8097325602253544)), ((0, 20), np.float64(0.5867800142817031)), ((0, 21), np.float64(0.022404339097589286)), ((0, 22), np.float64(0.3120451871953844)), ((0, 23), np.float64(0.8135619754686914)), ((0, 24), np.float64(0.08464391124786438)), ((0, 25), np.float64(0.07794349614836817)), ((0, 26), np.float64(0.09529000017850071)), ((0, 27), np.float64(0.7677889922848556)), ((0, 28), np.float64(0.40246316910558005)), ((0, 29), np.float64(0.4476560393176331)), ((0, 30), np.float64(0.2175705368143685)), ((0, 31), np.float64(0.2809467715854528)), ((0, 32), np.float64(0.41587074887560804)), ((0, 33), np.float64(0.0383944010443588)), ((0, 34), np.float64(0.07909529704827953)), ((0, 35), np.float64(0.24913865617338699)), ((0, 36), np.float64(0.06428843391267446)), ((0, 37), np.float64(0.5196274314871477)), ((0, 38), np.float64(0.5724197845716227)), ((0, 39), np.float64(0.2778259583757214)), ((1, 0), np.float64(0.02126984761022331)), ((1, 1), np.float64(0.10429629265574582)), ((1, 2), np.float64(0.08238149083547776)), ((1, 3), np.float64(0.04409473826425964)), ((1, 4), np.float64(0.01749584322479368)), ((1, 5), np.float64(0.03427810295372186)), ((1, 6), np.float64(0.11575133490314081)), ((1, 7), np.float64(0.09868786165360294)), ((1, 8), np.float64(0.08529509085159626)), ((1, 9), np.float64(0.021950859757544346)), ((1, 10), np.float64(0.07681245557157129)), ((1, 11), np.float64(0.016869917642737972)), ((1, 12), np.float64(0.03457944100878886)), ((1, 13), np.float64(0.13237850841619328)), ((1, 14), np.float64(0.03529575833453378)), ((1, 15), np.float64(0.025071637727559482)), ((1, 16), np.float64(0.14102678786935408)), ((1, 17), np.float64(0.011060901722951759)), ((1, 18), np.float64(0.11276287994403644)), ((1, 19), np.float64(0.14611732480860762)), ((1, 20), np.float64(0.10588523933647588)), ((1, 21), np.float64(0.004042892991895444)), ((1, 22), np.float64(0.05630897189030075)), ((1, 23), np.float64(0.14680834791725222)), ((1, 24), np.float64(0.015274107131659703)), ((1, 25), np.float64(0.014065008254404338)), ((1, 26), np.float64(0.017195208135411092)), ((1, 27), np.float64(0.1385485518069537)), ((1, 28), np.float64(0.07262501780505806)), ((1, 29), np.float64(0.08078013175276694)), ((1, 30), np.float64(0.039260894717683806)), ((1, 31), np.float64(0.05069722114948231)), ((1, 32), np.float64(0.07504443352870054)), ((1, 33), np.float64(0.006928321082542601)), ((1, 34), np.float64(0.014272852269174297)), ((1, 35), np.float64(0.04495740412900705)), ((1, 36), np.float64(0.01160093398842778)), ((1, 37), np.float64(0.09376746584692006)), ((1, 38), np.float64(0.1032939166554538)), ((1, 39), np.float64(0.050134066226693474))])\n",
            "aa (1, [((0, 0), np.float64(0.008798512072911685)), ((0, 1), np.float64(0.059531679724952574)), ((0, 2), np.float64(0.09403096651285622)), ((0, 3), np.float64(0.02798234260816539)), ((0, 4), np.float64(0.017258981512673417)), ((0, 5), np.float64(0.09793570818228822)), ((0, 6), np.float64(0.004943009450298559)), ((0, 7), np.float64(0.07646535496386492)), ((0, 8), np.float64(0.03787728003126642)), ((0, 9), np.float64(0.038661858542999084)), ((0, 10), np.float64(0.060582849034236046)), ((0, 11), np.float64(0.07343966996168465)), ((0, 12), np.float64(0.07264218992361281)), ((0, 13), np.float64(0.04074218803028558)), ((0, 14), np.float64(0.016243802520944983)), ((0, 15), np.float64(0.03788153522971942)), ((0, 16), np.float64(0.015851319796156317)), ((0, 17), np.float64(0.005844158362898453)), ((0, 18), np.float64(0.04963846469462123)), ((0, 19), np.float64(0.03500197675334249)), ((0, 20), np.float64(0.0063928479505009446)), ((0, 21), np.float64(0.06676577318882797)), ((0, 22), np.float64(0.05190267468786668)), ((0, 23), np.float64(0.07266922440457853)), ((0, 24), np.float64(0.038980637966055776)), ((0, 25), np.float64(0.06122215532142223)), ((0, 26), np.float64(0.09066212338331926)), ((0, 27), np.float64(0.0011993557067901028)), ((0, 28), np.float64(0.03569124914348914)), ((0, 29), np.float64(0.08978459546176695)), ((0, 30), np.float64(0.05346675300387146)), ((0, 31), np.float64(0.09367263965959056)), ((0, 32), np.float64(0.06956609229627847)), ((0, 33), np.float64(0.07938495318995802)), ((0, 34), np.float64(0.02300789252017254)), ((0, 35), np.float64(0.0564779484962094)), ((0, 36), np.float64(0.0791374831876189)), ((0, 37), np.float64(0.09017395518786721)), ((0, 38), np.float64(0.09583797130644259)), ((0, 39), np.float64(0.04641096037777677)), ((1, 0), np.float64(0.04033643860194371)), ((1, 1), np.float64(0.27292068524734864)), ((1, 2), np.float64(0.43108133238852026)), ((1, 3), np.float64(0.1282839683800416)), ((1, 4), np.float64(0.07912313381501689)), ((1, 5), np.float64(0.4489824696831325)), ((1, 6), np.float64(0.022661035814753795)), ((1, 7), np.float64(0.35055246502094883)), ((1, 8), np.float64(0.17364692663133455)), ((1, 9), np.float64(0.17724379650031413)), ((1, 10), np.float64(0.27773973032597055)), ((1, 11), np.float64(0.3366813290484232)), ((1, 12), np.float64(0.3330253126304886)), ((1, 13), np.float64(0.1867809866456901)), ((1, 14), np.float64(0.07446908495647098)), ((1, 15), np.float64(0.1736664344242109)), ((1, 16), np.float64(0.07266976307118286)), ((1, 17), np.float64(0.02679231818193989)), ((1, 18), np.float64(0.22756562323915078)), ((1, 19), np.float64(0.16046520986253945)), ((1, 20), np.float64(0.029307764393577525)), ((1, 21), np.float64(0.30608510718917903)), ((1, 22), np.float64(0.23794580645849694)), ((1, 23), np.float64(0.33314925116379657)), ((1, 24), np.float64(0.1787052284468903)), ((1, 25), np.float64(0.28067060529519566)), ((1, 26), np.float64(0.4156370012416087)), ((1, 27), np.float64(0.005498399891701255)), ((1, 28), np.float64(0.16362515249997275)), ((1, 29), np.float64(0.4116140083951066)), ((1, 30), np.float64(0.24511626305835701)), ((1, 31), np.float64(0.4294385967763618)), ((1, 32), np.float64(0.318923061926013)), ((1, 33), np.float64(0.36393725026795887)), ((1, 34), np.float64(0.1054787941767225)), ((1, 35), np.float64(0.2589209724329211)), ((1, 36), np.float64(0.36280273360508963)), ((1, 37), np.float64(0.41339901301358806)), ((1, 38), np.float64(0.4393654760375718)), ((1, 39), np.float64(0.21276925441734582))])\n",
            "240 key-value pairs were sent over a network.\n",
            "[(0, [((0, 1), np.float64(1.425071714445804)), ((0, 2), np.float64(0.9091333212116222)), ((0, 4), np.float64(0.43091404718331017)), ((0, 5), np.float64(0.5952789740126742)), ((0, 8), np.float64(1.15854521065935)), ((0, 9), np.float64(0.37968944487385614)), ((0, 11), np.float64(0.22579686991488418)), ((0, 12), np.float64(1.042086970209672)), ((0, 15), np.float64(0.23633742337039282)), ((0, 16), np.float64(1.404870757311084)), ((0, 18), np.float64(1.4414451762228637)), ((0, 19), np.float64(1.0918314075170088)), ((0, 22), np.float64(1.0685375746482595)), ((0, 23), np.float64(1.0007941750846927)), ((0, 25), np.float64(0.38610668621147065)), ((0, 26), np.float64(0.5089598041969154)), ((0, 29), np.float64(0.9496971669541415)), ((0, 32), np.float64(1.0129668106789267)), ((0, 33), np.float64(0.8165792148894547)), ((0, 36), np.float64(0.741115520795725)), ((0, 39), np.float64(0.6034385650043913)), ((1, 0), np.float64(0.1575882433162917)), ((1, 1), np.float64(0.5417679705258782)), ((1, 3), np.float64(0.22827562315041577)), ((1, 4), np.float64(0.162788899167417)), ((1, 7), np.float64(0.5993562526033561)), ((1, 10), np.float64(0.4901770093706065)), ((1, 11), np.float64(0.36585129419137785)), ((1, 14), np.float64(0.12903354958924337)), ((1, 17), np.float64(0.13805405811664714)), ((1, 18), np.float64(0.5005644866752145)), ((1, 21), np.float64(0.465090854210204)), ((1, 24), np.float64(0.25998704262582006)), ((1, 25), np.float64(0.3463305556333125)), ((1, 27), np.float64(0.20043409639944793)), ((1, 28), np.float64(0.3778364351298058)), ((1, 31), np.float64(0.6253487453494072)), ((1, 32), np.float64(0.5041876468062716)), ((1, 34), np.float64(0.17072866238342937)), ((1, 35), np.float64(0.3192157065034954)), ((1, 38), np.float64(0.7117586927658641)), ((1, 39), np.float64(0.3212386750052988))]), (1, [((0, 0), np.float64(0.5860526425332625)), ((0, 3), np.float64(0.5398713192214419)), ((0, 6), np.float64(1.3834904020458292)), ((0, 7), np.float64(1.3418370037067315)), ((0, 10), np.float64(1.1353718683249596)), ((0, 13), np.float64(0.8037278015265845)), ((0, 14), np.float64(0.30406378324695316)), ((0, 17), np.float64(0.5467159697953022)), ((0, 20), np.float64(1.2828731724584357)), ((0, 21), np.float64(0.8308452838253197)), ((0, 24), np.float64(0.43954721180227807)), ((0, 27), np.float64(1.0388655742505797)), ((0, 28), np.float64(1.1158072525968912)), ((0, 30), np.float64(0.6563105225569839)), ((0, 31), np.float64(1.0696299899498727)), ((0, 34), np.float64(0.34608673825105246)), ((0, 35), np.float64(0.37902333744196975)), ((0, 37), np.float64(0.6358434147841932)), ((0, 38), np.float64(1.4775920519865717)), ((1, 2), np.float64(0.5883815509747894)), ((1, 5), np.float64(0.5474845917006079)), ((1, 6), np.float64(0.29241780720972166)), ((1, 8), np.float64(0.3943309579927853)), ((1, 9), np.float64(0.24503180456904322)), ((1, 12), np.float64(0.5301190032096323)), ((1, 13), np.float64(0.32529990364678113)), ((1, 15), np.float64(0.2111734147966243)), ((1, 16), np.float64(0.34062469621971714)), ((1, 19), np.float64(0.35821003650707006)), ((1, 20), np.float64(0.2792964233924264)), ((1, 22), np.float64(0.44146913444363883)), ((1, 23), np.float64(0.5038939613675127)), ((1, 26), np.float64(0.500320233764686)), ((1, 29), np.float64(0.5785294878977459)), ((1, 30), np.float64(0.3648747152206927)), ((1, 33), np.float64(0.516870217262527)), ((1, 36), np.float64(0.49928271217580644)), ((1, 37), np.float64(0.5126076034327811))])]\n",
            "[((0, 1), np.float64(1.425071714445804)), ((0, 2), np.float64(0.9091333212116222)), ((0, 4), np.float64(0.43091404718331017)), ((0, 5), np.float64(0.5952789740126742)), ((0, 8), np.float64(1.15854521065935)), ((0, 9), np.float64(0.37968944487385614)), ((0, 11), np.float64(0.22579686991488418)), ((0, 12), np.float64(1.042086970209672)), ((0, 15), np.float64(0.23633742337039282)), ((0, 16), np.float64(1.404870757311084)), ((0, 18), np.float64(1.4414451762228637)), ((0, 19), np.float64(1.0918314075170088)), ((0, 22), np.float64(1.0685375746482595)), ((0, 23), np.float64(1.0007941750846927)), ((0, 25), np.float64(0.38610668621147065)), ((0, 26), np.float64(0.5089598041969154)), ((0, 29), np.float64(0.9496971669541415)), ((0, 32), np.float64(1.0129668106789267)), ((0, 33), np.float64(0.8165792148894547)), ((0, 36), np.float64(0.741115520795725)), ((0, 39), np.float64(0.6034385650043913)), ((1, 0), np.float64(0.1575882433162917)), ((1, 1), np.float64(0.5417679705258782)), ((1, 3), np.float64(0.22827562315041577)), ((1, 4), np.float64(0.162788899167417)), ((1, 7), np.float64(0.5993562526033561)), ((1, 10), np.float64(0.4901770093706065)), ((1, 11), np.float64(0.36585129419137785)), ((1, 14), np.float64(0.12903354958924337)), ((1, 17), np.float64(0.13805405811664714)), ((1, 18), np.float64(0.5005644866752145)), ((1, 21), np.float64(0.465090854210204)), ((1, 24), np.float64(0.25998704262582006)), ((1, 25), np.float64(0.3463305556333125)), ((1, 27), np.float64(0.20043409639944793)), ((1, 28), np.float64(0.3778364351298058)), ((1, 31), np.float64(0.6253487453494072)), ((1, 32), np.float64(0.5041876468062716)), ((1, 34), np.float64(0.17072866238342937)), ((1, 35), np.float64(0.3192157065034954)), ((1, 38), np.float64(0.7117586927658641)), ((1, 39), np.float64(0.3212386750052988)), ((0, 0), np.float64(0.5860526425332625)), ((0, 3), np.float64(0.5398713192214419)), ((0, 6), np.float64(1.3834904020458292)), ((0, 7), np.float64(1.3418370037067315)), ((0, 10), np.float64(1.1353718683249596)), ((0, 13), np.float64(0.8037278015265845)), ((0, 14), np.float64(0.30406378324695316)), ((0, 17), np.float64(0.5467159697953022)), ((0, 20), np.float64(1.2828731724584357)), ((0, 21), np.float64(0.8308452838253197)), ((0, 24), np.float64(0.43954721180227807)), ((0, 27), np.float64(1.0388655742505797)), ((0, 28), np.float64(1.1158072525968912)), ((0, 30), np.float64(0.6563105225569839)), ((0, 31), np.float64(1.0696299899498727)), ((0, 34), np.float64(0.34608673825105246)), ((0, 35), np.float64(0.37902333744196975)), ((0, 37), np.float64(0.6358434147841932)), ((0, 38), np.float64(1.4775920519865717)), ((1, 2), np.float64(0.5883815509747894)), ((1, 5), np.float64(0.5474845917006079)), ((1, 6), np.float64(0.29241780720972166)), ((1, 8), np.float64(0.3943309579927853)), ((1, 9), np.float64(0.24503180456904322)), ((1, 12), np.float64(0.5301190032096323)), ((1, 13), np.float64(0.32529990364678113)), ((1, 15), np.float64(0.2111734147966243)), ((1, 16), np.float64(0.34062469621971714)), ((1, 19), np.float64(0.35821003650707006)), ((1, 20), np.float64(0.2792964233924264)), ((1, 22), np.float64(0.44146913444363883)), ((1, 23), np.float64(0.5038939613675127)), ((1, 26), np.float64(0.500320233764686)), ((1, 29), np.float64(0.5785294878977459)), ((1, 30), np.float64(0.3648747152206927)), ((1, 33), np.float64(0.516870217262527)), ((1, 36), np.float64(0.49928271217580644)), ((1, 37), np.float64(0.5126076034327811))]\n"
          ]
        },
        {
          "output_type": "execute_result",
          "data": {
            "text/plain": [
              "True"
            ]
          },
          "metadata": {},
          "execution_count": 16
        }
      ]
    },
    {
      "cell_type": "markdown",
      "metadata": {
        "id": "ZuSA2P9Db6UM"
      },
      "source": [
        "Обобщите предыдущее решение на случай, когда каждая матрица генерируется несколькими RECORDREADER-ами, и проверьте его работоспособность. Будет ли работать решение, если RECORDREADER-ы будут генерировать случайное подмножество элементов матрицы?"
      ]
    },
    {
      "cell_type": "code",
      "metadata": {
        "colab": {
          "base_uri": "https://localhost:8080/"
        },
        "outputId": "c3d302e5-92ad-44f5-eb01-2ebb310ba1fd",
        "id": "qBwvMA-QBu31"
      },
      "source": [
        "# Определение размеров матриц\n",
        "I = 2  # Количество строк первой матрицы и строк в итоговой матрице\n",
        "J = 3  # Количество столбцов первой матрицы и строк второй матрицы\n",
        "K = 4*10  # Количество столбцов второй матрицы и столбцов в итоговой матрице\n",
        "\n",
        "# Генерация случайных матриц\n",
        "small_mat = np.random.rand(I, J)  # Генерация первой матрицы\n",
        "big_mat = np.random.rand(J, K)  # Генерация второй матрицы\n",
        "\n",
        "# Получение эталонного решения через умножение матриц\n",
        "reference_solution = np.matmul(small_mat, big_mat)\n",
        "\n",
        "# Функция для \"разглаживания\" вложенных итерируемых объектов\n",
        "def flatten(nested_iterable):\n",
        "  for iterable in nested_iterable:\n",
        "    for element in iterable:\n",
        "      yield element\n",
        "\n",
        "# Функция для группировки элементов по ключу\n",
        "def groupbykey(iterable):\n",
        "  t = {}\n",
        "  for (k2, v2) in iterable:\n",
        "    t[k2] = t.get(k2, []) + [v2]\n",
        "  return t.items()\n",
        "\n",
        "# Функция для распределенной группировки элементов по ключу\n",
        "def groupbykey_distributed(map_partitions, PARTITIONER):\n",
        "  global reducers\n",
        "  partitions = [dict() for _ in range(reducers)]\n",
        "  for map_partition in map_partitions:\n",
        "    for (k2, v2) in map_partition:\n",
        "      p = partitions[PARTITIONER(k2)]\n",
        "      p[k2] = p.get(k2, []) + [v2]\n",
        "  return [(partition_id, sorted(partition.items(), key=lambda x: x[0])) for (partition_id, partition) in enumerate(partitions)]\n",
        "\n",
        "# Функция для определения разделителя (по ключу)\n",
        "def PARTITIONER(obj):\n",
        "  global reducers\n",
        "  return hash(obj) % reducers\n",
        "\n",
        "# Функция для выполнения MapReduce на распределенных данных\n",
        "def MapReduceDistributed(INPUTFORMAT, MAP, REDUCE, PARTITIONER=PARTITIONER, COMBINER=None):\n",
        "  map_partitions = map(lambda record_reader: flatten(map(lambda k1v1: MAP(*k1v1), record_reader)), INPUTFORMAT())\n",
        "\n",
        "  if COMBINER != None:\n",
        "    map_partitions = map(lambda map_partition: flatten(map(lambda k2v2: COMBINER(*k2v2), groupbykey(map_partition))), map_partitions)\n",
        "\n",
        "  reduce_partitions = groupbykey_distributed(map_partitions, PARTITIONER)  # shuffle\n",
        "\n",
        "  reduce_outputs = map(lambda reduce_partition: (reduce_partition[0], flatten(map(lambda reduce_input_group: REDUCE(*reduce_input_group), reduce_partition[1]))), reduce_partitions)\n",
        "\n",
        "  print(\"{} key-value pairs were sent over a network.\".format(sum([len(vs) for (k,vs) in flatten([partition for (partition_id, partition) in reduce_partitions])])))\n",
        "  return reduce_outputs\n",
        "\n",
        "# Функция для преобразования результата REDUCE в матрицу\n",
        "def asmatrix(reduce_output):\n",
        "  reduce_output = list(reduce_output)\n",
        "  I = max(i for ((i,k), vw) in reduce_output) + 1\n",
        "  K = max(k for ((i,k), vw) in reduce_output) + 1\n",
        "  mat = np.empty(shape=(I,K))\n",
        "  for ((i,k), vw) in reduce_output:\n",
        "    mat[i,k] = vw\n",
        "  return mat\n",
        "\n",
        "# Генератор для вводных данных\n",
        "def INPUTFORMAT():\n",
        "  first_mat = []\n",
        "\n",
        "  for i in range(small_mat.shape[0]):\n",
        "    for j in range(small_mat.shape[1]):\n",
        "      first_mat.append(((0, i, j), small_mat[i,j]))  # первая матрица\n",
        "\n",
        "  global maps\n",
        "  split_size = int(np.ceil(len(first_mat)/maps))\n",
        "\n",
        "  for i in range(0, len(first_mat), split_size):\n",
        "    yield first_mat[i:i+split_size]\n",
        "\n",
        "  second_mat = []\n",
        "\n",
        "  for j in range(big_mat.shape[0]):\n",
        "    for k in range(big_mat.shape[1]):\n",
        "      second_mat.append(((1, j, k), big_mat[j,k]))  # вторая матрица\n",
        "\n",
        "  split_size = int(np.ceil(len(second_mat)/maps))\n",
        "\n",
        "  for i in range(0, len(second_mat), split_size):\n",
        "    yield second_mat[i:i+split_size]\n",
        "\n",
        "# MAP функция для соединения матриц\n",
        "def MAP_JOIN(k1, v1):\n",
        "  (mat_num, i, j) = k1\n",
        "  w = v1\n",
        "\n",
        "  if mat_num == 0:\n",
        "    yield (j, (mat_num, i, w))\n",
        "\n",
        "  else:\n",
        "    yield (i, (mat_num, j, w))\n",
        "\n",
        "# REDUCE функция для соединения матриц\n",
        "def REDUCE_JOIN(key, values):\n",
        "  from_first_mat = [v for v in values if v[0] == 0]\n",
        "  from_second_mat = [v for v in values if v[0] == 1]\n",
        "\n",
        "  for f in from_first_mat:\n",
        "    for s in from_second_mat:\n",
        "      yield ((f[1], s[1]), f[2] * s[2])\n",
        "\n",
        "# Генератор для получения соединенных данных\n",
        "def GET_JOINED():\n",
        "\n",
        "  for j in joined:\n",
        "    print(\"aa\", j)\n",
        "    yield j[1]\n",
        "\n",
        "# MAP функция для умножения значений\n",
        "def MAP_MUL(k1, v1):\n",
        "  yield (k1, v1)\n",
        "\n",
        "# REDUCE функция для умножения значений\n",
        "def REDUCE_MUL(key, values):\n",
        "  res_val = 0\n",
        "\n",
        "  for v in values:\n",
        "    res_val += v\n",
        "  yield (key, res_val)\n",
        "\n",
        "maps = 3\n",
        "reducers = 2\n",
        "\n",
        "# Выполнение MapReduce для соединения матриц\n",
        "partitioned_output = MapReduceDistributed(INPUTFORMAT, MAP_JOIN, REDUCE_JOIN, COMBINER=None)\n",
        "joined = [(partition_id, list(partition)) for (partition_id, partition) in partitioned_output]\n",
        "print(joined)\n",
        "\n",
        "# Выполнение MapReduce для умножения значений\n",
        "mul_output = MapReduceDistributed(GET_JOINED, MAP_MUL, REDUCE_MUL, COMBINER=None)\n",
        "pre_result = [(partition_id, list(partition)) for (partition_id, partition) in mul_output]\n",
        "print(pre_result)\n",
        "\n",
        "solution = []\n",
        "\n",
        "for p in pre_result:\n",
        "\n",
        "  for v in p[1]:\n",
        "    solution.append(v)\n",
        "\n",
        "print(solution)\n",
        "\n",
        "np.allclose(reference_solution, asmatrix(solution))"
      ],
      "execution_count": null,
      "outputs": [
        {
          "output_type": "stream",
          "name": "stdout",
          "text": [
            "126 key-value pairs were sent over a network.\n",
            "[(0, [((0, 0), np.float64(0.11145949391134535)), ((0, 1), np.float64(0.1698946360383021)), ((0, 2), np.float64(0.08199462573059987)), ((0, 3), np.float64(0.0075183625278811665)), ((0, 4), np.float64(0.04589955958947702)), ((0, 5), np.float64(0.035854099368563104)), ((0, 6), np.float64(0.2317326602148149)), ((0, 7), np.float64(0.1343235870735065)), ((0, 8), np.float64(0.29435611758414626)), ((0, 9), np.float64(0.2509497450985548)), ((0, 10), np.float64(0.09355733700436958)), ((0, 11), np.float64(0.1704297330889108)), ((0, 12), np.float64(0.3353316061916379)), ((0, 13), np.float64(0.15568521100275748)), ((0, 14), np.float64(0.3176327131518937)), ((0, 15), np.float64(0.23867801879286885)), ((0, 16), np.float64(0.09259233023728095)), ((0, 17), np.float64(0.3295927647117145)), ((0, 18), np.float64(0.13229222221462814)), ((0, 19), np.float64(0.21598544279110282)), ((0, 20), np.float64(0.08774118891202416)), ((0, 21), np.float64(0.28968871817994585)), ((0, 22), np.float64(0.1711704065374852)), ((0, 23), np.float64(0.17811732199548594)), ((0, 24), np.float64(0.3181980295073316)), ((0, 25), np.float64(0.20636219104585254)), ((0, 26), np.float64(0.12763827765539762)), ((0, 27), np.float64(0.14992302544830838)), ((0, 28), np.float64(0.030658297175648025)), ((0, 29), np.float64(0.3313238321975834)), ((0, 30), np.float64(0.011054969014777783)), ((0, 31), np.float64(0.1415776111988894)), ((0, 32), np.float64(0.20440451840555152)), ((0, 33), np.float64(0.11619606868925143)), ((0, 34), np.float64(0.2282078538096289)), ((0, 35), np.float64(0.03263789986277545)), ((0, 36), np.float64(0.032227311477414304)), ((0, 37), np.float64(0.30268747470863955)), ((0, 38), np.float64(0.2978757860990327)), ((0, 39), np.float64(0.12887277904410066)), ((1, 0), np.float64(0.23118423470184257)), ((1, 1), np.float64(0.3523877602001654)), ((1, 2), np.float64(0.17006953947117504)), ((1, 3), np.float64(0.015594247077792408)), ((1, 4), np.float64(0.09520278788709587)), ((1, 5), np.float64(0.07436694921688819)), ((1, 6), np.float64(0.4806493895423202)), ((1, 7), np.float64(0.27860790131251445)), ((1, 8), np.float64(0.6105401288437902)), ((1, 9), np.float64(0.5205085967407798)), ((1, 10), np.float64(0.1940523915647886)), ((1, 11), np.float64(0.35349763427006364)), ((1, 12), np.float64(0.695529631692168)), ((1, 13), np.float64(0.3229152142813003)), ((1, 14), np.float64(0.6588193892634918)), ((1, 15), np.float64(0.4950551377765121)), ((1, 16), np.float64(0.1920508182299147)), ((1, 17), np.float64(0.683626386584429)), ((1, 18), np.float64(0.2743945363148809)), ((1, 19), np.float64(0.4479872242925834)), ((1, 20), np.float64(0.18198880058248115)), ((1, 21), np.float64(0.6008592203680514)), ((1, 22), np.float64(0.355033905594863)), ((1, 23), np.float64(0.36944288303893535)), ((1, 24), np.float64(0.6599919428469515)), ((1, 25), np.float64(0.4280271113224096)), ((1, 26), np.float64(0.26474153526926075)), ((1, 27), np.float64(0.3109635499513429)), ((1, 28), np.float64(0.06359005160611446)), ((1, 29), np.float64(0.6872168883702718)), ((1, 30), np.float64(0.022929716093694184)), ((1, 31), np.float64(0.2936538696467081)), ((1, 32), np.float64(0.42396659538731385)), ((1, 33), np.float64(0.24100862360503683)), ((1, 34), np.float64(0.47333839572152264)), ((1, 35), np.float64(0.06769605385121062)), ((1, 36), np.float64(0.06684443001625329)), ((1, 37), np.float64(0.6278206524964969)), ((1, 38), np.float64(0.6178404658852037)), ((1, 39), np.float64(0.26730208214391893)), ((0, 0), np.float64(0.11942417251796346)), ((0, 1), np.float64(0.18291773050117544)), ((0, 2), np.float64(0.2256834766460094)), ((0, 3), np.float64(0.008885007297086321)), ((0, 4), np.float64(0.03244727910592628)), ((0, 5), np.float64(0.2619792465912751)), ((0, 6), np.float64(0.2636133889128284)), ((0, 7), np.float64(0.18431461909716135)), ((0, 8), np.float64(0.11900396497295918)), ((0, 9), np.float64(0.14790154526497035)), ((0, 10), np.float64(0.25952277603762364)), ((0, 11), np.float64(0.1995035451115482)), ((0, 12), np.float64(0.2138918298443519)), ((0, 13), np.float64(0.13110443262475244)), ((0, 14), np.float64(0.07496650653568461)), ((0, 15), np.float64(0.019572145631153816)), ((0, 16), np.float64(0.22860391782907807)), ((0, 17), np.float64(0.1299858441580147)), ((0, 18), np.float64(0.20907891870306167)), ((0, 19), np.float64(0.22471407707409666)), ((0, 20), np.float64(0.14129667738513702)), ((0, 21), np.float64(0.20169305560615852)), ((0, 22), np.float64(0.23495692763846526)), ((0, 23), np.float64(0.12027516421269469)), ((0, 24), np.float64(0.21184828742380446)), ((0, 25), np.float64(0.1901077680177253)), ((0, 26), np.float64(0.09271003313030488)), ((0, 27), np.float64(0.2036000649653269)), ((0, 28), np.float64(0.014827976580484147)), ((0, 29), np.float64(0.05555764218549429)), ((0, 30), np.float64(0.18406875350964402)), ((0, 31), np.float64(0.030685286139663884)), ((0, 32), np.float64(0.0937163164974682)), ((0, 33), np.float64(0.19439020962999404)), ((0, 34), np.float64(0.06666043952727264)), ((0, 35), np.float64(0.20355381211147971)), ((0, 36), np.float64(0.21153092040836224)), ((0, 37), np.float64(0.250605703137658)), ((0, 38), np.float64(0.2630004975028476)), ((0, 39), np.float64(0.044386421152386876)), ((1, 0), np.float64(0.2846989121542841)), ((1, 1), np.float64(0.43606313353003945)), ((1, 2), np.float64(0.5380136946952768)), ((1, 3), np.float64(0.021181238761213635)), ((1, 4), np.float64(0.07735205418680322)), ((1, 5), np.float64(0.6245402830847838)), ((1, 6), np.float64(0.6284359645991902)), ((1, 7), np.float64(0.4393932186819218)), ((1, 8), np.float64(0.2836971666247202)), ((1, 9), np.float64(0.3525869859934846)), ((1, 10), np.float64(0.6186842283211773)), ((1, 11), np.float64(0.4756025607431984)), ((1, 12), np.float64(0.5099032297353084)), ((1, 13), np.float64(0.3125438389891903)), ((1, 14), np.float64(0.17871493189962107)), ((1, 15), np.float64(0.046658632437889126)), ((1, 16), np.float64(0.5449758231346024)), ((1, 17), np.float64(0.3098772019682751)), ((1, 18), np.float64(0.4984295846822983)), ((1, 19), np.float64(0.5357027136120722)), ((1, 20), np.float64(0.3368414408440846)), ((1, 21), np.float64(0.4808222013136381)), ((1, 22), np.float64(0.5601209561801419)), ((1, 23), np.float64(0.28672761710265515)), ((1, 24), np.float64(0.505031566890138)), ((1, 25), np.float64(0.45320368234985503)), ((1, 26), np.float64(0.22101426387539136)), ((1, 27), np.float64(0.48536837884684736)), ((1, 28), np.float64(0.03534886374262339)), ((1, 29), np.float64(0.13244555066678826)), ((1, 30), np.float64(0.4388070922401261)), ((1, 31), np.float64(0.07315158563724765)), ((1, 32), np.float64(0.2234131733583711)), ((1, 33), np.float64(0.46341272498059854)), ((1, 34), np.float64(0.15891384647682044)), ((1, 35), np.float64(0.48525811526371604)), ((1, 36), np.float64(0.5042749860225882)), ((1, 37), np.float64(0.5974265473953261)), ((1, 38), np.float64(0.6269748741514922)), ((1, 39), np.float64(0.10581413754075342))]), (1, [((0, 0), np.float64(0.03218886818453424)), ((0, 1), np.float64(0.17121447732284972)), ((0, 2), np.float64(0.1304481050717302)), ((0, 3), np.float64(0.09555620646123261)), ((0, 4), np.float64(0.18552548791771756)), ((0, 5), np.float64(0.20984979211576776)), ((0, 6), np.float64(0.09150399474106506)), ((0, 7), np.float64(0.04126509344032031)), ((0, 8), np.float64(0.26238906133154893)), ((0, 9), np.float64(0.18910672069622597)), ((0, 10), np.float64(0.22321860776228497)), ((0, 11), np.float64(0.029163155256477506)), ((0, 12), np.float64(0.25257893728652436)), ((0, 13), np.float64(0.1716686729104295)), ((0, 14), np.float64(4.267209359450482e-05)), ((0, 15), np.float64(0.013635408043165652)), ((0, 16), np.float64(0.1157791323585147)), ((0, 17), np.float64(0.0631957085224115)), ((0, 18), np.float64(0.26149278480884186)), ((0, 19), np.float64(0.24300346157725938)), ((0, 20), np.float64(0.266542700572029)), ((0, 21), np.float64(0.11666505600018902)), ((0, 22), np.float64(0.03841052079121368)), ((0, 23), np.float64(0.2725000095513874)), ((0, 24), np.float64(0.1732728707783065)), ((0, 25), np.float64(0.2841640439706725)), ((0, 26), np.float64(0.05519113453208984)), ((0, 27), np.float64(0.24097712137548585)), ((0, 28), np.float64(0.12130700323942945)), ((0, 29), np.float64(0.2788665531248613)), ((0, 30), np.float64(0.2314947425486893)), ((0, 31), np.float64(0.129823284208232)), ((0, 32), np.float64(0.004947940404851957)), ((0, 33), np.float64(0.016242370142722222)), ((0, 34), np.float64(0.03863086074888691)), ((0, 35), np.float64(0.2306830541480013)), ((0, 36), np.float64(0.11774298944190548)), ((0, 37), np.float64(0.058532818183260706)), ((0, 38), np.float64(0.08890250654475682)), ((0, 39), np.float64(0.26085790807328724)), ((1, 0), np.float64(0.044334877197919495)), ((1, 1), np.float64(0.23581981146704775)), ((1, 2), np.float64(0.17967083172670248)), ((1, 3), np.float64(0.1316129742329146)), ((1, 4), np.float64(0.255530877220097)), ((1, 5), np.float64(0.28903360969776576)), ((1, 6), np.float64(0.12603171837875826)), ((1, 7), np.float64(0.056835886237102444)), ((1, 8), np.float64(0.36139782068512993)), ((1, 9), np.float64(0.26046343696535146)), ((1, 10), np.float64(0.30744695671487965)), ((1, 11), np.float64(0.04016745477310727)), ((1, 12), np.float64(0.34788598664551335)), ((1, 13), np.float64(0.23644539126326006)), ((1, 14), np.float64(5.877379777520354e-05)), ((1, 15), np.float64(0.018780534241577596)), ((1, 16), np.float64(0.15946673196986438)), ((1, 17), np.float64(0.08704170524774137)), ((1, 18), np.float64(0.36016334703598535)), ((1, 19), np.float64(0.3346973421349898)), ((1, 20), np.float64(0.3671187762836751)), ((1, 21), np.float64(0.16068694622639534)), ((1, 22), np.float64(0.05290418142768983)), ((1, 23), np.float64(0.3753239905992508)), ((1, 24), np.float64(0.23865491025180477)), ((1, 25), np.float64(0.3913892815764518)), ((1, 26), np.float64(0.07601671975126213)), ((1, 27), np.float64(0.331906391440737)), ((1, 28), np.float64(0.16708046586278402)), ((1, 29), np.float64(0.384092858329766)), ((1, 30), np.float64(0.31884597258972047)), ((1, 31), np.float64(0.17881024364715017)), ((1, 32), np.float64(0.006814974946436122)), ((1, 33), np.float64(0.022371196202130884)), ((1, 34), np.float64(0.05320766351687775)), ((1, 35), np.float64(0.3177280051805785)), ((1, 36), np.float64(0.16217162243470615)), ((1, 37), np.float64(0.08061933993223944)), ((1, 38), np.float64(0.12244859582055105)), ((1, 39), np.float64(0.35928890864488483))])]\n",
            "aa (0, [((0, 0), np.float64(0.11145949391134535)), ((0, 1), np.float64(0.1698946360383021)), ((0, 2), np.float64(0.08199462573059987)), ((0, 3), np.float64(0.0075183625278811665)), ((0, 4), np.float64(0.04589955958947702)), ((0, 5), np.float64(0.035854099368563104)), ((0, 6), np.float64(0.2317326602148149)), ((0, 7), np.float64(0.1343235870735065)), ((0, 8), np.float64(0.29435611758414626)), ((0, 9), np.float64(0.2509497450985548)), ((0, 10), np.float64(0.09355733700436958)), ((0, 11), np.float64(0.1704297330889108)), ((0, 12), np.float64(0.3353316061916379)), ((0, 13), np.float64(0.15568521100275748)), ((0, 14), np.float64(0.3176327131518937)), ((0, 15), np.float64(0.23867801879286885)), ((0, 16), np.float64(0.09259233023728095)), ((0, 17), np.float64(0.3295927647117145)), ((0, 18), np.float64(0.13229222221462814)), ((0, 19), np.float64(0.21598544279110282)), ((0, 20), np.float64(0.08774118891202416)), ((0, 21), np.float64(0.28968871817994585)), ((0, 22), np.float64(0.1711704065374852)), ((0, 23), np.float64(0.17811732199548594)), ((0, 24), np.float64(0.3181980295073316)), ((0, 25), np.float64(0.20636219104585254)), ((0, 26), np.float64(0.12763827765539762)), ((0, 27), np.float64(0.14992302544830838)), ((0, 28), np.float64(0.030658297175648025)), ((0, 29), np.float64(0.3313238321975834)), ((0, 30), np.float64(0.011054969014777783)), ((0, 31), np.float64(0.1415776111988894)), ((0, 32), np.float64(0.20440451840555152)), ((0, 33), np.float64(0.11619606868925143)), ((0, 34), np.float64(0.2282078538096289)), ((0, 35), np.float64(0.03263789986277545)), ((0, 36), np.float64(0.032227311477414304)), ((0, 37), np.float64(0.30268747470863955)), ((0, 38), np.float64(0.2978757860990327)), ((0, 39), np.float64(0.12887277904410066)), ((1, 0), np.float64(0.23118423470184257)), ((1, 1), np.float64(0.3523877602001654)), ((1, 2), np.float64(0.17006953947117504)), ((1, 3), np.float64(0.015594247077792408)), ((1, 4), np.float64(0.09520278788709587)), ((1, 5), np.float64(0.07436694921688819)), ((1, 6), np.float64(0.4806493895423202)), ((1, 7), np.float64(0.27860790131251445)), ((1, 8), np.float64(0.6105401288437902)), ((1, 9), np.float64(0.5205085967407798)), ((1, 10), np.float64(0.1940523915647886)), ((1, 11), np.float64(0.35349763427006364)), ((1, 12), np.float64(0.695529631692168)), ((1, 13), np.float64(0.3229152142813003)), ((1, 14), np.float64(0.6588193892634918)), ((1, 15), np.float64(0.4950551377765121)), ((1, 16), np.float64(0.1920508182299147)), ((1, 17), np.float64(0.683626386584429)), ((1, 18), np.float64(0.2743945363148809)), ((1, 19), np.float64(0.4479872242925834)), ((1, 20), np.float64(0.18198880058248115)), ((1, 21), np.float64(0.6008592203680514)), ((1, 22), np.float64(0.355033905594863)), ((1, 23), np.float64(0.36944288303893535)), ((1, 24), np.float64(0.6599919428469515)), ((1, 25), np.float64(0.4280271113224096)), ((1, 26), np.float64(0.26474153526926075)), ((1, 27), np.float64(0.3109635499513429)), ((1, 28), np.float64(0.06359005160611446)), ((1, 29), np.float64(0.6872168883702718)), ((1, 30), np.float64(0.022929716093694184)), ((1, 31), np.float64(0.2936538696467081)), ((1, 32), np.float64(0.42396659538731385)), ((1, 33), np.float64(0.24100862360503683)), ((1, 34), np.float64(0.47333839572152264)), ((1, 35), np.float64(0.06769605385121062)), ((1, 36), np.float64(0.06684443001625329)), ((1, 37), np.float64(0.6278206524964969)), ((1, 38), np.float64(0.6178404658852037)), ((1, 39), np.float64(0.26730208214391893)), ((0, 0), np.float64(0.11942417251796346)), ((0, 1), np.float64(0.18291773050117544)), ((0, 2), np.float64(0.2256834766460094)), ((0, 3), np.float64(0.008885007297086321)), ((0, 4), np.float64(0.03244727910592628)), ((0, 5), np.float64(0.2619792465912751)), ((0, 6), np.float64(0.2636133889128284)), ((0, 7), np.float64(0.18431461909716135)), ((0, 8), np.float64(0.11900396497295918)), ((0, 9), np.float64(0.14790154526497035)), ((0, 10), np.float64(0.25952277603762364)), ((0, 11), np.float64(0.1995035451115482)), ((0, 12), np.float64(0.2138918298443519)), ((0, 13), np.float64(0.13110443262475244)), ((0, 14), np.float64(0.07496650653568461)), ((0, 15), np.float64(0.019572145631153816)), ((0, 16), np.float64(0.22860391782907807)), ((0, 17), np.float64(0.1299858441580147)), ((0, 18), np.float64(0.20907891870306167)), ((0, 19), np.float64(0.22471407707409666)), ((0, 20), np.float64(0.14129667738513702)), ((0, 21), np.float64(0.20169305560615852)), ((0, 22), np.float64(0.23495692763846526)), ((0, 23), np.float64(0.12027516421269469)), ((0, 24), np.float64(0.21184828742380446)), ((0, 25), np.float64(0.1901077680177253)), ((0, 26), np.float64(0.09271003313030488)), ((0, 27), np.float64(0.2036000649653269)), ((0, 28), np.float64(0.014827976580484147)), ((0, 29), np.float64(0.05555764218549429)), ((0, 30), np.float64(0.18406875350964402)), ((0, 31), np.float64(0.030685286139663884)), ((0, 32), np.float64(0.0937163164974682)), ((0, 33), np.float64(0.19439020962999404)), ((0, 34), np.float64(0.06666043952727264)), ((0, 35), np.float64(0.20355381211147971)), ((0, 36), np.float64(0.21153092040836224)), ((0, 37), np.float64(0.250605703137658)), ((0, 38), np.float64(0.2630004975028476)), ((0, 39), np.float64(0.044386421152386876)), ((1, 0), np.float64(0.2846989121542841)), ((1, 1), np.float64(0.43606313353003945)), ((1, 2), np.float64(0.5380136946952768)), ((1, 3), np.float64(0.021181238761213635)), ((1, 4), np.float64(0.07735205418680322)), ((1, 5), np.float64(0.6245402830847838)), ((1, 6), np.float64(0.6284359645991902)), ((1, 7), np.float64(0.4393932186819218)), ((1, 8), np.float64(0.2836971666247202)), ((1, 9), np.float64(0.3525869859934846)), ((1, 10), np.float64(0.6186842283211773)), ((1, 11), np.float64(0.4756025607431984)), ((1, 12), np.float64(0.5099032297353084)), ((1, 13), np.float64(0.3125438389891903)), ((1, 14), np.float64(0.17871493189962107)), ((1, 15), np.float64(0.046658632437889126)), ((1, 16), np.float64(0.5449758231346024)), ((1, 17), np.float64(0.3098772019682751)), ((1, 18), np.float64(0.4984295846822983)), ((1, 19), np.float64(0.5357027136120722)), ((1, 20), np.float64(0.3368414408440846)), ((1, 21), np.float64(0.4808222013136381)), ((1, 22), np.float64(0.5601209561801419)), ((1, 23), np.float64(0.28672761710265515)), ((1, 24), np.float64(0.505031566890138)), ((1, 25), np.float64(0.45320368234985503)), ((1, 26), np.float64(0.22101426387539136)), ((1, 27), np.float64(0.48536837884684736)), ((1, 28), np.float64(0.03534886374262339)), ((1, 29), np.float64(0.13244555066678826)), ((1, 30), np.float64(0.4388070922401261)), ((1, 31), np.float64(0.07315158563724765)), ((1, 32), np.float64(0.2234131733583711)), ((1, 33), np.float64(0.46341272498059854)), ((1, 34), np.float64(0.15891384647682044)), ((1, 35), np.float64(0.48525811526371604)), ((1, 36), np.float64(0.5042749860225882)), ((1, 37), np.float64(0.5974265473953261)), ((1, 38), np.float64(0.6269748741514922)), ((1, 39), np.float64(0.10581413754075342))])\n",
            "aa (1, [((0, 0), np.float64(0.03218886818453424)), ((0, 1), np.float64(0.17121447732284972)), ((0, 2), np.float64(0.1304481050717302)), ((0, 3), np.float64(0.09555620646123261)), ((0, 4), np.float64(0.18552548791771756)), ((0, 5), np.float64(0.20984979211576776)), ((0, 6), np.float64(0.09150399474106506)), ((0, 7), np.float64(0.04126509344032031)), ((0, 8), np.float64(0.26238906133154893)), ((0, 9), np.float64(0.18910672069622597)), ((0, 10), np.float64(0.22321860776228497)), ((0, 11), np.float64(0.029163155256477506)), ((0, 12), np.float64(0.25257893728652436)), ((0, 13), np.float64(0.1716686729104295)), ((0, 14), np.float64(4.267209359450482e-05)), ((0, 15), np.float64(0.013635408043165652)), ((0, 16), np.float64(0.1157791323585147)), ((0, 17), np.float64(0.0631957085224115)), ((0, 18), np.float64(0.26149278480884186)), ((0, 19), np.float64(0.24300346157725938)), ((0, 20), np.float64(0.266542700572029)), ((0, 21), np.float64(0.11666505600018902)), ((0, 22), np.float64(0.03841052079121368)), ((0, 23), np.float64(0.2725000095513874)), ((0, 24), np.float64(0.1732728707783065)), ((0, 25), np.float64(0.2841640439706725)), ((0, 26), np.float64(0.05519113453208984)), ((0, 27), np.float64(0.24097712137548585)), ((0, 28), np.float64(0.12130700323942945)), ((0, 29), np.float64(0.2788665531248613)), ((0, 30), np.float64(0.2314947425486893)), ((0, 31), np.float64(0.129823284208232)), ((0, 32), np.float64(0.004947940404851957)), ((0, 33), np.float64(0.016242370142722222)), ((0, 34), np.float64(0.03863086074888691)), ((0, 35), np.float64(0.2306830541480013)), ((0, 36), np.float64(0.11774298944190548)), ((0, 37), np.float64(0.058532818183260706)), ((0, 38), np.float64(0.08890250654475682)), ((0, 39), np.float64(0.26085790807328724)), ((1, 0), np.float64(0.044334877197919495)), ((1, 1), np.float64(0.23581981146704775)), ((1, 2), np.float64(0.17967083172670248)), ((1, 3), np.float64(0.1316129742329146)), ((1, 4), np.float64(0.255530877220097)), ((1, 5), np.float64(0.28903360969776576)), ((1, 6), np.float64(0.12603171837875826)), ((1, 7), np.float64(0.056835886237102444)), ((1, 8), np.float64(0.36139782068512993)), ((1, 9), np.float64(0.26046343696535146)), ((1, 10), np.float64(0.30744695671487965)), ((1, 11), np.float64(0.04016745477310727)), ((1, 12), np.float64(0.34788598664551335)), ((1, 13), np.float64(0.23644539126326006)), ((1, 14), np.float64(5.877379777520354e-05)), ((1, 15), np.float64(0.018780534241577596)), ((1, 16), np.float64(0.15946673196986438)), ((1, 17), np.float64(0.08704170524774137)), ((1, 18), np.float64(0.36016334703598535)), ((1, 19), np.float64(0.3346973421349898)), ((1, 20), np.float64(0.3671187762836751)), ((1, 21), np.float64(0.16068694622639534)), ((1, 22), np.float64(0.05290418142768983)), ((1, 23), np.float64(0.3753239905992508)), ((1, 24), np.float64(0.23865491025180477)), ((1, 25), np.float64(0.3913892815764518)), ((1, 26), np.float64(0.07601671975126213)), ((1, 27), np.float64(0.331906391440737)), ((1, 28), np.float64(0.16708046586278402)), ((1, 29), np.float64(0.384092858329766)), ((1, 30), np.float64(0.31884597258972047)), ((1, 31), np.float64(0.17881024364715017)), ((1, 32), np.float64(0.006814974946436122)), ((1, 33), np.float64(0.022371196202130884)), ((1, 34), np.float64(0.05320766351687775)), ((1, 35), np.float64(0.3177280051805785)), ((1, 36), np.float64(0.16217162243470615)), ((1, 37), np.float64(0.08061933993223944)), ((1, 38), np.float64(0.12244859582055105)), ((1, 39), np.float64(0.35928890864488483))])\n",
            "240 key-value pairs were sent over a network.\n",
            "[(0, [((0, 1), np.float64(0.5240268438623272)), ((0, 2), np.float64(0.4381262074483395)), ((0, 4), np.float64(0.2638723266131209)), ((0, 5), np.float64(0.5076831380756059)), ((0, 8), np.float64(0.6757491438886544)), ((0, 9), np.float64(0.5879580110597511)), ((0, 11), np.float64(0.39909643345693646)), ((0, 12), np.float64(0.8018023733225141)), ((0, 15), np.float64(0.2718855724671883)), ((0, 16), np.float64(0.4369753804248737)), ((0, 18), np.float64(0.6028639257265317)), ((0, 19), np.float64(0.6837029814424589)), ((0, 22), np.float64(0.44453785496716414)), ((0, 23), np.float64(0.570892495759568)), ((0, 25), np.float64(0.6806340030342504)), ((0, 26), np.float64(0.27553944531779234)), ((0, 29), np.float64(0.665748027507939)), ((0, 32), np.float64(0.3030687753078717)), ((0, 33), np.float64(0.3268286484619677)), ((0, 36), np.float64(0.36150122132768203)), ((0, 39), np.float64(0.4341171082697748)), ((1, 0), np.float64(0.5602180240540462)), ((1, 1), np.float64(1.0242707051972526)), ((1, 3), np.float64(0.16838846007192065)), ((1, 4), np.float64(0.4280857192939961)), ((1, 7), np.float64(0.7748370062315387)), ((1, 10), np.float64(1.1201835766008457)), ((1, 11), np.float64(0.8692676497863693)), ((1, 14), np.float64(0.8375930949608881)), ((1, 17), np.float64(1.0805452938004456)), ((1, 18), np.float64(1.1329874680331646)), ((1, 21), np.float64(1.2423683679080848)), ((1, 24), np.float64(1.4036784199888943)), ((1, 25), np.float64(1.2726200752487165)), ((1, 27), np.float64(1.1282383202389272)), ((1, 28), np.float64(0.26601938121152185)), ((1, 31), np.float64(0.545615698931106)), ((1, 32), np.float64(0.654194743692121)), ((1, 34), np.float64(0.6854599057152209)), ((1, 35), np.float64(0.8706821742955051)), ((1, 38), np.float64(1.367263935857247)), ((1, 39), np.float64(0.7324051283295572))]), (1, [((0, 0), np.float64(0.26307253461384306)), ((0, 3), np.float64(0.1119595762862001)), ((0, 6), np.float64(0.5868500438687083)), ((0, 7), np.float64(0.35990329961098816)), ((0, 10), np.float64(0.5762987208042782)), ((0, 13), np.float64(0.45845831653793945)), ((0, 14), np.float64(0.39264189178117276)), ((0, 17), np.float64(0.5227743173921408)), ((0, 20), np.float64(0.49558056686919016)), ((0, 21), np.float64(0.6080468297862934)), ((0, 24), np.float64(0.7033191877094425)), ((0, 27), np.float64(0.5945002117891212)), ((0, 28), np.float64(0.16679327699556162)), ((0, 30), np.float64(0.4266184650731111)), ((0, 31), np.float64(0.30208618154678524)), ((0, 34), np.float64(0.33349915408578845)), ((0, 35), np.float64(0.4668747661222565)), ((0, 37), np.float64(0.6118259960295582)), ((0, 38), np.float64(0.6497787901466372)), ((1, 2), np.float64(0.8877540658931543)), ((1, 5), np.float64(0.9879408419994378)), ((1, 6), np.float64(1.2351170725202687)), ((1, 8), np.float64(1.2556351161536403)), ((1, 9), np.float64(1.1335590196996157)), ((1, 12), np.float64(1.5533188480729898)), ((1, 13), np.float64(0.8719044445337507)), ((1, 15), np.float64(0.5604943044559788)), ((1, 16), np.float64(0.8964933733343814)), ((1, 19), np.float64(1.3183872800396454)), ((1, 20), np.float64(0.8859490177102409)), ((1, 22), np.float64(0.9680590432026948)), ((1, 23), np.float64(1.0314944907408412)), ((1, 26), np.float64(0.5617725188959143)), ((1, 29), np.float64(1.2037552973668262)), ((1, 30), np.float64(0.7805827809235408)), ((1, 33), np.float64(0.7267925447877663)), ((1, 36), np.float64(0.7332910384735477)), ((1, 37), np.float64(1.3058665398240625))])]\n",
            "[((0, 1), np.float64(0.5240268438623272)), ((0, 2), np.float64(0.4381262074483395)), ((0, 4), np.float64(0.2638723266131209)), ((0, 5), np.float64(0.5076831380756059)), ((0, 8), np.float64(0.6757491438886544)), ((0, 9), np.float64(0.5879580110597511)), ((0, 11), np.float64(0.39909643345693646)), ((0, 12), np.float64(0.8018023733225141)), ((0, 15), np.float64(0.2718855724671883)), ((0, 16), np.float64(0.4369753804248737)), ((0, 18), np.float64(0.6028639257265317)), ((0, 19), np.float64(0.6837029814424589)), ((0, 22), np.float64(0.44453785496716414)), ((0, 23), np.float64(0.570892495759568)), ((0, 25), np.float64(0.6806340030342504)), ((0, 26), np.float64(0.27553944531779234)), ((0, 29), np.float64(0.665748027507939)), ((0, 32), np.float64(0.3030687753078717)), ((0, 33), np.float64(0.3268286484619677)), ((0, 36), np.float64(0.36150122132768203)), ((0, 39), np.float64(0.4341171082697748)), ((1, 0), np.float64(0.5602180240540462)), ((1, 1), np.float64(1.0242707051972526)), ((1, 3), np.float64(0.16838846007192065)), ((1, 4), np.float64(0.4280857192939961)), ((1, 7), np.float64(0.7748370062315387)), ((1, 10), np.float64(1.1201835766008457)), ((1, 11), np.float64(0.8692676497863693)), ((1, 14), np.float64(0.8375930949608881)), ((1, 17), np.float64(1.0805452938004456)), ((1, 18), np.float64(1.1329874680331646)), ((1, 21), np.float64(1.2423683679080848)), ((1, 24), np.float64(1.4036784199888943)), ((1, 25), np.float64(1.2726200752487165)), ((1, 27), np.float64(1.1282383202389272)), ((1, 28), np.float64(0.26601938121152185)), ((1, 31), np.float64(0.545615698931106)), ((1, 32), np.float64(0.654194743692121)), ((1, 34), np.float64(0.6854599057152209)), ((1, 35), np.float64(0.8706821742955051)), ((1, 38), np.float64(1.367263935857247)), ((1, 39), np.float64(0.7324051283295572)), ((0, 0), np.float64(0.26307253461384306)), ((0, 3), np.float64(0.1119595762862001)), ((0, 6), np.float64(0.5868500438687083)), ((0, 7), np.float64(0.35990329961098816)), ((0, 10), np.float64(0.5762987208042782)), ((0, 13), np.float64(0.45845831653793945)), ((0, 14), np.float64(0.39264189178117276)), ((0, 17), np.float64(0.5227743173921408)), ((0, 20), np.float64(0.49558056686919016)), ((0, 21), np.float64(0.6080468297862934)), ((0, 24), np.float64(0.7033191877094425)), ((0, 27), np.float64(0.5945002117891212)), ((0, 28), np.float64(0.16679327699556162)), ((0, 30), np.float64(0.4266184650731111)), ((0, 31), np.float64(0.30208618154678524)), ((0, 34), np.float64(0.33349915408578845)), ((0, 35), np.float64(0.4668747661222565)), ((0, 37), np.float64(0.6118259960295582)), ((0, 38), np.float64(0.6497787901466372)), ((1, 2), np.float64(0.8877540658931543)), ((1, 5), np.float64(0.9879408419994378)), ((1, 6), np.float64(1.2351170725202687)), ((1, 8), np.float64(1.2556351161536403)), ((1, 9), np.float64(1.1335590196996157)), ((1, 12), np.float64(1.5533188480729898)), ((1, 13), np.float64(0.8719044445337507)), ((1, 15), np.float64(0.5604943044559788)), ((1, 16), np.float64(0.8964933733343814)), ((1, 19), np.float64(1.3183872800396454)), ((1, 20), np.float64(0.8859490177102409)), ((1, 22), np.float64(0.9680590432026948)), ((1, 23), np.float64(1.0314944907408412)), ((1, 26), np.float64(0.5617725188959143)), ((1, 29), np.float64(1.2037552973668262)), ((1, 30), np.float64(0.7805827809235408)), ((1, 33), np.float64(0.7267925447877663)), ((1, 36), np.float64(0.7332910384735477)), ((1, 37), np.float64(1.3058665398240625))]\n"
          ]
        },
        {
          "output_type": "execute_result",
          "data": {
            "text/plain": [
              "True"
            ]
          },
          "metadata": {},
          "execution_count": 17
        }
      ]
    }
  ]
}